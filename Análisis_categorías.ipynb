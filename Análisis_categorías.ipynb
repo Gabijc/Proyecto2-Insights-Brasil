{
 "cells": [
  {
   "cell_type": "markdown",
   "metadata": {},
   "source": [
    "En este documento realizamos un análisis detallado de los ingresos presupuestarios percibidos en Brasil entre 2013 y 2021. Analizaremos los ingresos por categoría económica, por órgano administrativo y temporalmente."
   ]
  },
  {
   "cell_type": "markdown",
   "metadata": {},
   "source": [
    "`Importante`\n",
    "\n",
    "Dentro del análisis tendremos que tener en cuenta que el valor registrado (valor lancado) y el valor recaudado (valor realizado) deberían ser iguales, ya que lo que se registra contablemente debe ser igual a lo que se recibe finalmente contablemente. En caso de que se produzcan diferencias entre ambos valores para cada entrada, será necesario observar las razones por las cuales se produce esta casuística. \n",
    "\n",
    "Indicamos a continuación el significado de las columnas que contienen valores de ingresos:\n",
    "\n",
    "- Previsión del ingreso (valor previsto atualizado): previsión del ingreso a recaudar\n",
    "- Ingreso registrado (valor lancado): valor del ingreso registrado \"contablemente\".\n",
    "- Ingreso recaudado (valor realizado): valor del ingreso recaudado finalmente. \n",
    "- Importe recaudado sobre la previsión (percentual realizado): porcentaje de la previsión recaudado finalmente. "
   ]
  },
  {
   "cell_type": "code",
   "execution_count": 1,
   "metadata": {},
   "outputs": [],
   "source": [
    "import pandas as pd # type: ignore\n",
    "import numpy as np # type: ignore\n",
    "import seaborn as sns # type: ignore\n",
    "import matplotlib.pyplot as plt # type: ignore\n",
    "from src import funciones_soporte as fs"
   ]
  },
  {
   "cell_type": "code",
   "execution_count": 2,
   "metadata": {},
   "outputs": [],
   "source": [
    "pd.options.display.float_format = '{:,.2f}'.format"
   ]
  },
  {
   "cell_type": "code",
   "execution_count": 2,
   "metadata": {},
   "outputs": [
    {
     "name": "stdout",
     "output_type": "stream",
     "text": [
      "(1026299, 16)\n"
     ]
    },
    {
     "data": {
      "text/html": [
       "<div>\n",
       "<style scoped>\n",
       "    .dataframe tbody tr th:only-of-type {\n",
       "        vertical-align: middle;\n",
       "    }\n",
       "\n",
       "    .dataframe tbody tr th {\n",
       "        vertical-align: top;\n",
       "    }\n",
       "\n",
       "    .dataframe thead th {\n",
       "        text-align: right;\n",
       "    }\n",
       "</style>\n",
       "<table border=\"1\" class=\"dataframe\">\n",
       "  <thead>\n",
       "    <tr style=\"text-align: right;\">\n",
       "      <th></th>\n",
       "      <th>CÓDIGO ÓRGÃO SUPERIOR</th>\n",
       "      <th>NOME ÓRGÃO SUPERIOR</th>\n",
       "      <th>CÓDIGO ÓRGÃO</th>\n",
       "      <th>NOME ÓRGÃO</th>\n",
       "      <th>CÓDIGO UNIDADE GESTORA</th>\n",
       "      <th>NOME UNIDADE GESTORA</th>\n",
       "      <th>CATEGORIA ECONÔMICA</th>\n",
       "      <th>ORIGEM RECEITA</th>\n",
       "      <th>ESPÉCIE RECEITA</th>\n",
       "      <th>DETALHAMENTO</th>\n",
       "      <th>VALOR PREVISTO ATUALIZADO</th>\n",
       "      <th>VALOR LANÇADO</th>\n",
       "      <th>VALOR REALIZADO</th>\n",
       "      <th>PERCENTUAL REALIZADO</th>\n",
       "      <th>DATA LANÇAMENTO</th>\n",
       "      <th>ANO EXERCÍCIO</th>\n",
       "    </tr>\n",
       "  </thead>\n",
       "  <tbody>\n",
       "    <tr>\n",
       "      <th>0</th>\n",
       "      <td>63000</td>\n",
       "      <td>Advocacia-Geral da União</td>\n",
       "      <td>63000</td>\n",
       "      <td>Advocacia-Geral da União - Unidades com víncul...</td>\n",
       "      <td>110060</td>\n",
       "      <td>COORD. GERAL DE ORC. FIN. E ANAL. CONT. - AGU</td>\n",
       "      <td>Receitas Correntes</td>\n",
       "      <td>Outras Receitas Correntes</td>\n",
       "      <td>Bens, Direitos e Valores Incorporados ao Patr</td>\n",
       "      <td>REC.DIVIDA ATIVA NAO TRIBUTARIA DE OUTRAS REC</td>\n",
       "      <td>0.0</td>\n",
       "      <td>0.0</td>\n",
       "      <td>1297.13</td>\n",
       "      <td>0.0</td>\n",
       "      <td>2013-12-31</td>\n",
       "      <td>2013</td>\n",
       "    </tr>\n",
       "  </tbody>\n",
       "</table>\n",
       "</div>"
      ],
      "text/plain": [
       "   CÓDIGO ÓRGÃO SUPERIOR       NOME ÓRGÃO SUPERIOR  CÓDIGO ÓRGÃO  \\\n",
       "0                  63000  Advocacia-Geral da União         63000   \n",
       "\n",
       "                                          NOME ÓRGÃO  CÓDIGO UNIDADE GESTORA  \\\n",
       "0  Advocacia-Geral da União - Unidades com víncul...                  110060   \n",
       "\n",
       "                            NOME UNIDADE GESTORA CATEGORIA ECONÔMICA  \\\n",
       "0  COORD. GERAL DE ORC. FIN. E ANAL. CONT. - AGU  Receitas Correntes   \n",
       "\n",
       "              ORIGEM RECEITA                                ESPÉCIE RECEITA  \\\n",
       "0  Outras Receitas Correntes  Bens, Direitos e Valores Incorporados ao Patr   \n",
       "\n",
       "                                    DETALHAMENTO  VALOR PREVISTO ATUALIZADO  \\\n",
       "0  REC.DIVIDA ATIVA NAO TRIBUTARIA DE OUTRAS REC                        0.0   \n",
       "\n",
       "   VALOR LANÇADO  VALOR REALIZADO  PERCENTUAL REALIZADO DATA LANÇAMENTO  \\\n",
       "0            0.0          1297.13                   0.0      2013-12-31   \n",
       "\n",
       "   ANO EXERCÍCIO  \n",
       "0           2013  "
      ]
     },
     "execution_count": 2,
     "metadata": {},
     "output_type": "execute_result"
    }
   ],
   "source": [
    "datos_brasil = pd.read_pickle(\"datos/datos_brasil.pkl\")\n",
    "print(datos_brasil.shape)\n",
    "datos_brasil.head(1)"
   ]
  },
  {
   "cell_type": "markdown",
   "metadata": {},
   "source": [
    "## *Evolución temporal*\n",
    "\n",
    "En este apartado nos encontraremos con un análisis temporal de los ingresos. Revisaremos las diferencias entre los valores previstos y los recaudados finalmente, así como entre los ingresos registrados y los recaudados realmente. "
   ]
  },
  {
   "cell_type": "markdown",
   "metadata": {},
   "source": [
    "### *Previsiones y recaudacion*"
   ]
  },
  {
   "cell_type": "code",
   "execution_count": 4,
   "metadata": {},
   "outputs": [
    {
     "name": "stderr",
     "output_type": "stream",
     "text": [
      "C:\\Users\\gabri\\AppData\\Local\\Temp\\ipykernel_9172\\2635946192.py:3: SettingWithCopyWarning: \n",
      "A value is trying to be set on a copy of a slice from a DataFrame.\n",
      "Try using .loc[row_indexer,col_indexer] = value instead\n",
      "\n",
      "See the caveats in the documentation: https://pandas.pydata.org/pandas-docs/stable/user_guide/indexing.html#returning-a-view-versus-a-copy\n",
      "  df_comp_recaudacion_prevision[\"Año\"] = df_comp_recaudacion_prevision[\"DATA LANÇAMENTO\"].dt.strftime(\"%Y\")\n"
     ]
    },
    {
     "data": {
      "text/html": [
       "<div>\n",
       "<style scoped>\n",
       "    .dataframe tbody tr th:only-of-type {\n",
       "        vertical-align: middle;\n",
       "    }\n",
       "\n",
       "    .dataframe tbody tr th {\n",
       "        vertical-align: top;\n",
       "    }\n",
       "\n",
       "    .dataframe thead th {\n",
       "        text-align: right;\n",
       "    }\n",
       "</style>\n",
       "<table border=\"1\" class=\"dataframe\">\n",
       "  <thead>\n",
       "    <tr style=\"text-align: right;\">\n",
       "      <th></th>\n",
       "      <th>VALOR PREVISTO ATUALIZADO</th>\n",
       "      <th>VALOR REALIZADO</th>\n",
       "      <th>DATA LANÇAMENTO</th>\n",
       "      <th>Año</th>\n",
       "    </tr>\n",
       "  </thead>\n",
       "  <tbody>\n",
       "    <tr>\n",
       "      <th>0</th>\n",
       "      <td>0.00</td>\n",
       "      <td>1,297.13</td>\n",
       "      <td>2013-12-31</td>\n",
       "      <td>2013</td>\n",
       "    </tr>\n",
       "    <tr>\n",
       "      <th>1</th>\n",
       "      <td>0.00</td>\n",
       "      <td>26,666,621.42</td>\n",
       "      <td>2013-12-31</td>\n",
       "      <td>2013</td>\n",
       "    </tr>\n",
       "    <tr>\n",
       "      <th>2</th>\n",
       "      <td>0.00</td>\n",
       "      <td>301,251.13</td>\n",
       "      <td>2013-12-31</td>\n",
       "      <td>2013</td>\n",
       "    </tr>\n",
       "    <tr>\n",
       "      <th>3</th>\n",
       "      <td>0.00</td>\n",
       "      <td>1,855.58</td>\n",
       "      <td>2013-12-31</td>\n",
       "      <td>2013</td>\n",
       "    </tr>\n",
       "    <tr>\n",
       "      <th>4</th>\n",
       "      <td>0.00</td>\n",
       "      <td>52,140.68</td>\n",
       "      <td>2013-12-31</td>\n",
       "      <td>2013</td>\n",
       "    </tr>\n",
       "    <tr>\n",
       "      <th>...</th>\n",
       "      <td>...</td>\n",
       "      <td>...</td>\n",
       "      <td>...</td>\n",
       "      <td>...</td>\n",
       "    </tr>\n",
       "    <tr>\n",
       "      <th>1026294</th>\n",
       "      <td>16,940,891.00</td>\n",
       "      <td>0.00</td>\n",
       "      <td>2021-04-23</td>\n",
       "      <td>2021</td>\n",
       "    </tr>\n",
       "    <tr>\n",
       "      <th>1026295</th>\n",
       "      <td>0.00</td>\n",
       "      <td>372.90</td>\n",
       "      <td>2021-11-22</td>\n",
       "      <td>2021</td>\n",
       "    </tr>\n",
       "    <tr>\n",
       "      <th>1026296</th>\n",
       "      <td>200,000.00</td>\n",
       "      <td>0.00</td>\n",
       "      <td>2021-04-23</td>\n",
       "      <td>2021</td>\n",
       "    </tr>\n",
       "    <tr>\n",
       "      <th>1026297</th>\n",
       "      <td>0.00</td>\n",
       "      <td>1,000,000.00</td>\n",
       "      <td>2021-05-10</td>\n",
       "      <td>2021</td>\n",
       "    </tr>\n",
       "    <tr>\n",
       "      <th>1026298</th>\n",
       "      <td>0.00</td>\n",
       "      <td>1,000,000.00</td>\n",
       "      <td>2021-03-23</td>\n",
       "      <td>2021</td>\n",
       "    </tr>\n",
       "  </tbody>\n",
       "</table>\n",
       "<p>1026299 rows × 4 columns</p>\n",
       "</div>"
      ],
      "text/plain": [
       "         VALOR PREVISTO ATUALIZADO  VALOR REALIZADO DATA LANÇAMENTO   Año\n",
       "0                             0.00         1,297.13      2013-12-31  2013\n",
       "1                             0.00    26,666,621.42      2013-12-31  2013\n",
       "2                             0.00       301,251.13      2013-12-31  2013\n",
       "3                             0.00         1,855.58      2013-12-31  2013\n",
       "4                             0.00        52,140.68      2013-12-31  2013\n",
       "...                            ...              ...             ...   ...\n",
       "1026294              16,940,891.00             0.00      2021-04-23  2021\n",
       "1026295                       0.00           372.90      2021-11-22  2021\n",
       "1026296                 200,000.00             0.00      2021-04-23  2021\n",
       "1026297                       0.00     1,000,000.00      2021-05-10  2021\n",
       "1026298                       0.00     1,000,000.00      2021-03-23  2021\n",
       "\n",
       "[1026299 rows x 4 columns]"
      ]
     },
     "execution_count": 4,
     "metadata": {},
     "output_type": "execute_result"
    }
   ],
   "source": [
    "# Filtramos el dataframe para quedarnos solo con las columnas de fecha de registro del ingreso y los valores de ingresos.\n",
    "df_comp_recaudacion_prevision = datos_brasil.iloc[: ,[10, 12, 14]]\n",
    "df_comp_recaudacion_prevision[\"Año\"] = df_comp_recaudacion_prevision[\"DATA LANÇAMENTO\"].dt.strftime(\"%Y\")\n",
    "df_comp_recaudacion_prevision"
   ]
  },
  {
   "cell_type": "code",
   "execution_count": 5,
   "metadata": {},
   "outputs": [
    {
     "data": {
      "text/html": [
       "<div>\n",
       "<style scoped>\n",
       "    .dataframe tbody tr th:only-of-type {\n",
       "        vertical-align: middle;\n",
       "    }\n",
       "\n",
       "    .dataframe tbody tr th {\n",
       "        vertical-align: top;\n",
       "    }\n",
       "\n",
       "    .dataframe thead th {\n",
       "        text-align: right;\n",
       "    }\n",
       "</style>\n",
       "<table border=\"1\" class=\"dataframe\">\n",
       "  <thead>\n",
       "    <tr style=\"text-align: right;\">\n",
       "      <th></th>\n",
       "      <th>VALOR PREVISTO ATUALIZADO</th>\n",
       "      <th>VALOR REALIZADO</th>\n",
       "      <th>porcentaje_recaudacion</th>\n",
       "    </tr>\n",
       "    <tr>\n",
       "      <th>Año</th>\n",
       "      <th></th>\n",
       "      <th></th>\n",
       "      <th></th>\n",
       "    </tr>\n",
       "  </thead>\n",
       "  <tbody>\n",
       "    <tr>\n",
       "      <th>2013</th>\n",
       "      <td>2,174,650,946,322.04</td>\n",
       "      <td>1,893,613,719,099.78</td>\n",
       "      <td>87.08</td>\n",
       "    </tr>\n",
       "    <tr>\n",
       "      <th>2014</th>\n",
       "      <td>2,392,129,226,119.23</td>\n",
       "      <td>2,238,551,079,327.88</td>\n",
       "      <td>93.58</td>\n",
       "    </tr>\n",
       "    <tr>\n",
       "      <th>2015</th>\n",
       "      <td>2,878,827,555,613.92</td>\n",
       "      <td>2,665,685,375,159.13</td>\n",
       "      <td>92.60</td>\n",
       "    </tr>\n",
       "    <tr>\n",
       "      <th>2016</th>\n",
       "      <td>2,952,696,248,075.54</td>\n",
       "      <td>2,839,711,583,462.82</td>\n",
       "      <td>96.17</td>\n",
       "    </tr>\n",
       "    <tr>\n",
       "      <th>2017</th>\n",
       "      <td>3,414,379,614,681.84</td>\n",
       "      <td>2,558,047,412,866.96</td>\n",
       "      <td>74.92</td>\n",
       "    </tr>\n",
       "    <tr>\n",
       "      <th>2018</th>\n",
       "      <td>3,505,648,331,810.28</td>\n",
       "      <td>2,942,387,872,873.97</td>\n",
       "      <td>83.93</td>\n",
       "    </tr>\n",
       "    <tr>\n",
       "      <th>2019</th>\n",
       "      <td>3,261,378,698,948.11</td>\n",
       "      <td>2,991,564,738,258.26</td>\n",
       "      <td>91.73</td>\n",
       "    </tr>\n",
       "    <tr>\n",
       "      <th>2020</th>\n",
       "      <td>3,577,146,718,910.25</td>\n",
       "      <td>3,631,448,629,524.17</td>\n",
       "      <td>101.52</td>\n",
       "    </tr>\n",
       "    <tr>\n",
       "      <th>2021</th>\n",
       "      <td>4,180,716,471,387.52</td>\n",
       "      <td>3,876,372,024,873.04</td>\n",
       "      <td>92.72</td>\n",
       "    </tr>\n",
       "  </tbody>\n",
       "</table>\n",
       "</div>"
      ],
      "text/plain": [
       "      VALOR PREVISTO ATUALIZADO      VALOR REALIZADO  porcentaje_recaudacion\n",
       "Año                                                                         \n",
       "2013       2,174,650,946,322.04 1,893,613,719,099.78                   87.08\n",
       "2014       2,392,129,226,119.23 2,238,551,079,327.88                   93.58\n",
       "2015       2,878,827,555,613.92 2,665,685,375,159.13                   92.60\n",
       "2016       2,952,696,248,075.54 2,839,711,583,462.82                   96.17\n",
       "2017       3,414,379,614,681.84 2,558,047,412,866.96                   74.92\n",
       "2018       3,505,648,331,810.28 2,942,387,872,873.97                   83.93\n",
       "2019       3,261,378,698,948.11 2,991,564,738,258.26                   91.73\n",
       "2020       3,577,146,718,910.25 3,631,448,629,524.17                  101.52\n",
       "2021       4,180,716,471,387.52 3,876,372,024,873.04                   92.72"
      ]
     },
     "execution_count": 5,
     "metadata": {},
     "output_type": "execute_result"
    }
   ],
   "source": [
    "df_agrupado = df_comp_recaudacion_prevision.groupby(\"Año\")[[\"VALOR PREVISTO ATUALIZADO\",\"VALOR REALIZADO\"]].sum()\n",
    "df_agrupado[\"porcentaje_recaudacion\"] = round((df_agrupado[\"VALOR REALIZADO\"]/df_agrupado[\"VALOR PREVISTO ATUALIZADO\"]) *100, 2)\n",
    "df_agrupado"
   ]
  },
  {
   "cell_type": "code",
   "execution_count": 6,
   "metadata": {},
   "outputs": [
    {
     "data": {
      "image/png": "[encoded data removed]",
      "text/plain": [
       "<Figure size 640x480 with 1 Axes>"
      ]
     },
     "metadata": {},
     "output_type": "display_data"
    }
   ],
   "source": [
    "fs.evolucion_temporal(df_agrupado, \"Año\", [\"VALOR PREVISTO ATUALIZADO\", \"VALOR REALIZADO\"])"
   ]
  },
  {
   "cell_type": "markdown",
   "metadata": {},
   "source": [
    "Como podemos ver en ambos gráficos tanto la previsión, como la recaudación real de los ingresos públicos de Brasil presentan una tendencia al alza a lo largo de los años. Aún así observamos que la recaudación anual presenta valores inferiores en todos los años a la previsión recaudada. Principalmente vemos una importante reducción en la recaudación anual en 2017, año en el cual se esperaba ingresar un total de 3.414.379.614.681,84 $, de los cuales se ingresaron solo un 74,92 %. Esto puede deberse a la crisis económica que sufrió el país entre 2015 y 2016. "
   ]
  },
  {
   "cell_type": "markdown",
   "metadata": {},
   "source": [
    "### *Ingresos registrados e ingresos recaudados*"
   ]
  },
  {
   "cell_type": "code",
   "execution_count": 33,
   "metadata": {},
   "outputs": [
    {
     "name": "stderr",
     "output_type": "stream",
     "text": [
      "C:\\Users\\gabri\\AppData\\Local\\Temp\\ipykernel_17084\\2262978967.py:3: SettingWithCopyWarning: \n",
      "A value is trying to be set on a copy of a slice from a DataFrame.\n",
      "Try using .loc[row_indexer,col_indexer] = value instead\n",
      "\n",
      "See the caveats in the documentation: https://pandas.pydata.org/pandas-docs/stable/user_guide/indexing.html#returning-a-view-versus-a-copy\n",
      "  df_comp_recaudacion_registro[\"Año\"] = df_comp_recaudacion_registro[\"DATA LANÇAMENTO\"].dt.strftime(\"%Y\")\n"
     ]
    },
    {
     "data": {
      "text/html": [
       "<div>\n",
       "<style scoped>\n",
       "    .dataframe tbody tr th:only-of-type {\n",
       "        vertical-align: middle;\n",
       "    }\n",
       "\n",
       "    .dataframe tbody tr th {\n",
       "        vertical-align: top;\n",
       "    }\n",
       "\n",
       "    .dataframe thead th {\n",
       "        text-align: right;\n",
       "    }\n",
       "</style>\n",
       "<table border=\"1\" class=\"dataframe\">\n",
       "  <thead>\n",
       "    <tr style=\"text-align: right;\">\n",
       "      <th></th>\n",
       "      <th>VALOR LANÇADO</th>\n",
       "      <th>VALOR REALIZADO</th>\n",
       "      <th>DATA LANÇAMENTO</th>\n",
       "      <th>Año</th>\n",
       "    </tr>\n",
       "  </thead>\n",
       "  <tbody>\n",
       "    <tr>\n",
       "      <th>0</th>\n",
       "      <td>0.00</td>\n",
       "      <td>1,297.13</td>\n",
       "      <td>2013-12-31</td>\n",
       "      <td>2013</td>\n",
       "    </tr>\n",
       "    <tr>\n",
       "      <th>1</th>\n",
       "      <td>0.00</td>\n",
       "      <td>26,666,621.42</td>\n",
       "      <td>2013-12-31</td>\n",
       "      <td>2013</td>\n",
       "    </tr>\n",
       "    <tr>\n",
       "      <th>2</th>\n",
       "      <td>0.00</td>\n",
       "      <td>301,251.13</td>\n",
       "      <td>2013-12-31</td>\n",
       "      <td>2013</td>\n",
       "    </tr>\n",
       "    <tr>\n",
       "      <th>3</th>\n",
       "      <td>0.00</td>\n",
       "      <td>1,855.58</td>\n",
       "      <td>2013-12-31</td>\n",
       "      <td>2013</td>\n",
       "    </tr>\n",
       "    <tr>\n",
       "      <th>4</th>\n",
       "      <td>0.00</td>\n",
       "      <td>52,140.68</td>\n",
       "      <td>2013-12-31</td>\n",
       "      <td>2013</td>\n",
       "    </tr>\n",
       "    <tr>\n",
       "      <th>...</th>\n",
       "      <td>...</td>\n",
       "      <td>...</td>\n",
       "      <td>...</td>\n",
       "      <td>...</td>\n",
       "    </tr>\n",
       "    <tr>\n",
       "      <th>1026294</th>\n",
       "      <td>0.00</td>\n",
       "      <td>0.00</td>\n",
       "      <td>2021-04-23</td>\n",
       "      <td>2021</td>\n",
       "    </tr>\n",
       "    <tr>\n",
       "      <th>1026295</th>\n",
       "      <td>0.00</td>\n",
       "      <td>372.90</td>\n",
       "      <td>2021-11-22</td>\n",
       "      <td>2021</td>\n",
       "    </tr>\n",
       "    <tr>\n",
       "      <th>1026296</th>\n",
       "      <td>0.00</td>\n",
       "      <td>0.00</td>\n",
       "      <td>2021-04-23</td>\n",
       "      <td>2021</td>\n",
       "    </tr>\n",
       "    <tr>\n",
       "      <th>1026297</th>\n",
       "      <td>0.00</td>\n",
       "      <td>1,000,000.00</td>\n",
       "      <td>2021-05-10</td>\n",
       "      <td>2021</td>\n",
       "    </tr>\n",
       "    <tr>\n",
       "      <th>1026298</th>\n",
       "      <td>0.00</td>\n",
       "      <td>1,000,000.00</td>\n",
       "      <td>2021-03-23</td>\n",
       "      <td>2021</td>\n",
       "    </tr>\n",
       "  </tbody>\n",
       "</table>\n",
       "<p>1026299 rows × 4 columns</p>\n",
       "</div>"
      ],
      "text/plain": [
       "         VALOR LANÇADO  VALOR REALIZADO DATA LANÇAMENTO   Año\n",
       "0                 0.00         1,297.13      2013-12-31  2013\n",
       "1                 0.00    26,666,621.42      2013-12-31  2013\n",
       "2                 0.00       301,251.13      2013-12-31  2013\n",
       "3                 0.00         1,855.58      2013-12-31  2013\n",
       "4                 0.00        52,140.68      2013-12-31  2013\n",
       "...                ...              ...             ...   ...\n",
       "1026294           0.00             0.00      2021-04-23  2021\n",
       "1026295           0.00           372.90      2021-11-22  2021\n",
       "1026296           0.00             0.00      2021-04-23  2021\n",
       "1026297           0.00     1,000,000.00      2021-05-10  2021\n",
       "1026298           0.00     1,000,000.00      2021-03-23  2021\n",
       "\n",
       "[1026299 rows x 4 columns]"
      ]
     },
     "execution_count": 33,
     "metadata": {},
     "output_type": "execute_result"
    }
   ],
   "source": [
    "# Filtramos el dataframe para quedarnos solo con las columnas de fecha de registro del ingreso y los valores de ingresos.\n",
    "df_comp_recaudacion_registro = datos_brasil.iloc[: ,[11, 12, 14]]\n",
    "df_comp_recaudacion_registro[\"Año\"] = df_comp_recaudacion_registro[\"DATA LANÇAMENTO\"].dt.strftime(\"%Y\")\n",
    "df_comp_recaudacion_registro"
   ]
  },
  {
   "cell_type": "code",
   "execution_count": 8,
   "metadata": {},
   "outputs": [
    {
     "data": {
      "text/html": [
       "<div>\n",
       "<style scoped>\n",
       "    .dataframe tbody tr th:only-of-type {\n",
       "        vertical-align: middle;\n",
       "    }\n",
       "\n",
       "    .dataframe tbody tr th {\n",
       "        vertical-align: top;\n",
       "    }\n",
       "\n",
       "    .dataframe thead th {\n",
       "        text-align: right;\n",
       "    }\n",
       "</style>\n",
       "<table border=\"1\" class=\"dataframe\">\n",
       "  <thead>\n",
       "    <tr style=\"text-align: right;\">\n",
       "      <th></th>\n",
       "      <th>VALOR LANÇADO</th>\n",
       "      <th>VALOR REALIZADO</th>\n",
       "      <th>diferencia recaudacion</th>\n",
       "    </tr>\n",
       "    <tr>\n",
       "      <th>Año</th>\n",
       "      <th></th>\n",
       "      <th></th>\n",
       "      <th></th>\n",
       "    </tr>\n",
       "  </thead>\n",
       "  <tbody>\n",
       "    <tr>\n",
       "      <th>2013</th>\n",
       "      <td>1,142,556,841,623.94</td>\n",
       "      <td>1,893,613,719,099.78</td>\n",
       "      <td>-751,056,877,475.84</td>\n",
       "    </tr>\n",
       "    <tr>\n",
       "      <th>2014</th>\n",
       "      <td>1,266,561,021,071.51</td>\n",
       "      <td>2,238,551,079,327.88</td>\n",
       "      <td>-971,990,058,256.37</td>\n",
       "    </tr>\n",
       "    <tr>\n",
       "      <th>2015</th>\n",
       "      <td>307,296,621,471.69</td>\n",
       "      <td>2,665,685,375,159.13</td>\n",
       "      <td>-2,358,388,753,687.44</td>\n",
       "    </tr>\n",
       "    <tr>\n",
       "      <th>2016</th>\n",
       "      <td>18,651,606,918.55</td>\n",
       "      <td>2,839,711,583,462.82</td>\n",
       "      <td>-2,821,059,976,544.27</td>\n",
       "    </tr>\n",
       "    <tr>\n",
       "      <th>2017</th>\n",
       "      <td>133,949,259,691.54</td>\n",
       "      <td>2,558,047,412,866.96</td>\n",
       "      <td>-2,424,098,153,175.42</td>\n",
       "    </tr>\n",
       "    <tr>\n",
       "      <th>2018</th>\n",
       "      <td>8,523,696,496.37</td>\n",
       "      <td>2,942,387,872,873.97</td>\n",
       "      <td>-2,933,864,176,377.60</td>\n",
       "    </tr>\n",
       "    <tr>\n",
       "      <th>2019</th>\n",
       "      <td>-124,684,806,683.59</td>\n",
       "      <td>2,991,564,738,258.26</td>\n",
       "      <td>-3,116,249,544,941.85</td>\n",
       "    </tr>\n",
       "    <tr>\n",
       "      <th>2020</th>\n",
       "      <td>35,589,145,007.15</td>\n",
       "      <td>3,631,448,629,524.17</td>\n",
       "      <td>-3,595,859,484,517.02</td>\n",
       "    </tr>\n",
       "    <tr>\n",
       "      <th>2021</th>\n",
       "      <td>-6,336,662,253.18</td>\n",
       "      <td>3,876,372,024,873.04</td>\n",
       "      <td>-3,882,708,687,126.22</td>\n",
       "    </tr>\n",
       "  </tbody>\n",
       "</table>\n",
       "</div>"
      ],
      "text/plain": [
       "            VALOR LANÇADO      VALOR REALIZADO  diferencia recaudacion\n",
       "Año                                                                   \n",
       "2013 1,142,556,841,623.94 1,893,613,719,099.78     -751,056,877,475.84\n",
       "2014 1,266,561,021,071.51 2,238,551,079,327.88     -971,990,058,256.37\n",
       "2015   307,296,621,471.69 2,665,685,375,159.13   -2,358,388,753,687.44\n",
       "2016    18,651,606,918.55 2,839,711,583,462.82   -2,821,059,976,544.27\n",
       "2017   133,949,259,691.54 2,558,047,412,866.96   -2,424,098,153,175.42\n",
       "2018     8,523,696,496.37 2,942,387,872,873.97   -2,933,864,176,377.60\n",
       "2019  -124,684,806,683.59 2,991,564,738,258.26   -3,116,249,544,941.85\n",
       "2020    35,589,145,007.15 3,631,448,629,524.17   -3,595,859,484,517.02\n",
       "2021    -6,336,662,253.18 3,876,372,024,873.04   -3,882,708,687,126.22"
      ]
     },
     "execution_count": 8,
     "metadata": {},
     "output_type": "execute_result"
    }
   ],
   "source": [
    "df_agrupado2 = df_comp_recaudacion_registro.groupby(\"Año\")[[\"VALOR LANÇADO\",\"VALOR REALIZADO\"]].sum()\n",
    "df_agrupado2[\"diferencia recaudacion\"] = df_agrupado2[\"VALOR LANÇADO\"] - df_agrupado2[\"VALOR REALIZADO\"]\n",
    "df_agrupado2"
   ]
  },
  {
   "cell_type": "code",
   "execution_count": 9,
   "metadata": {},
   "outputs": [
    {
     "data": {
      "image/png": "[encoded data removed]",
      "text/plain": [
       "<Figure size 640x480 with 1 Axes>"
      ]
     },
     "metadata": {},
     "output_type": "display_data"
    }
   ],
   "source": [
    "fs.evolucion_temporal(df_agrupado2, \"Año\", [\"VALOR LANÇADO\", \"VALOR REALIZADO\"])"
   ]
  },
  {
   "cell_type": "markdown",
   "metadata": {},
   "source": [
    "En cuanto a los registros de ingresos, y la recaudación real observamos enormes diferencias. Como hemos comentado anteriormente, el registro de un ingreso contable debe ser igual al ingreso final recibido por la entidad recaudadora. En este caso no se cumple este principio. Vemos que durante todo el período analizado el resgitro de ingresos presenta una tendencia a la baja, mientras que los ingresos realmente recaudados presentan una tendencia al alza. Se están registrando menos ingresos de los que se están recuadando realmente. Más abajo observaremos qué entidades administrativas presentan mayores diferencias en este aspecto, ya que intuimos la existencia de fraude públiico."
   ]
  },
  {
   "cell_type": "markdown",
   "metadata": {},
   "source": [
    "## *Ingresos por categoría económica*\n",
    "\n",
    "Como hemos visto anteriormente los ingresos de Brasil entre 2013 y 2021 se clasifican en diferentes categorías y subcategorías económicas. A continuación realizaremos un análisis de los ingresos recibidos por categoría y después de las subcategorías que contienen las categorías principales. "
   ]
  },
  {
   "cell_type": "markdown",
   "metadata": {},
   "source": [
    "Las categorías económicas principales en las que se dividen los ingresos de Brasil son:\n",
    "- Ingresos corrientes\n",
    "- Ingresos de capital\n",
    "- Ingresos corrientes - intrapresupuestarios\t\n",
    "- Ingresos de capital - intrapresupuestarios"
   ]
  },
  {
   "cell_type": "markdown",
   "metadata": {},
   "source": [
    "Vamos a ir viendo el desglose de los ingresos por categoría ecoómica."
   ]
  },
  {
   "cell_type": "code",
   "execution_count": 4,
   "metadata": {},
   "outputs": [
    {
     "data": {
      "text/html": [
       "<div>\n",
       "<style scoped>\n",
       "    .dataframe tbody tr th:only-of-type {\n",
       "        vertical-align: middle;\n",
       "    }\n",
       "\n",
       "    .dataframe tbody tr th {\n",
       "        vertical-align: top;\n",
       "    }\n",
       "\n",
       "    .dataframe thead th {\n",
       "        text-align: right;\n",
       "    }\n",
       "</style>\n",
       "<table border=\"1\" class=\"dataframe\">\n",
       "  <thead>\n",
       "    <tr style=\"text-align: right;\">\n",
       "      <th></th>\n",
       "      <th>CATEGORIA ECONÔMICA</th>\n",
       "      <th>VALOR PREVISTO ATUALIZADO</th>\n",
       "      <th>VALOR LANÇADO</th>\n",
       "      <th>VALOR REALIZADO</th>\n",
       "      <th>porcentaje recaudado</th>\n",
       "      <th>diferencia_recaudacion</th>\n",
       "    </tr>\n",
       "  </thead>\n",
       "  <tbody>\n",
       "    <tr>\n",
       "      <th>0</th>\n",
       "      <td>Receitas Correntes</td>\n",
       "      <td>13,549,526,943,206.14</td>\n",
       "      <td>5,377,870,503,243.72</td>\n",
       "      <td>12,909,343,128,909.43</td>\n",
       "      <td>95.28</td>\n",
       "      <td>7,531,472,625,665.71</td>\n",
       "    </tr>\n",
       "    <tr>\n",
       "      <th>1</th>\n",
       "      <td>Receitas Correntes - intra-orçamentárias</td>\n",
       "      <td>291,485,025,919.00</td>\n",
       "      <td>0.00</td>\n",
       "      <td>292,651,790,699.89</td>\n",
       "      <td>100.40</td>\n",
       "      <td>292,651,790,699.89</td>\n",
       "    </tr>\n",
       "    <tr>\n",
       "      <th>2</th>\n",
       "      <td>Receitas de Capital</td>\n",
       "      <td>14,485,753,431,206.59</td>\n",
       "      <td>3,813,949.42</td>\n",
       "      <td>12,407,136,680,065.79</td>\n",
       "      <td>85.65</td>\n",
       "      <td>12,407,132,866,116.37</td>\n",
       "    </tr>\n",
       "    <tr>\n",
       "      <th>3</th>\n",
       "      <td>Receitas de Capital - intra-orçamentárias</td>\n",
       "      <td>10,808,411,537.00</td>\n",
       "      <td>0.00</td>\n",
       "      <td>28,250,835,724.33</td>\n",
       "      <td>261.38</td>\n",
       "      <td>28,250,835,724.33</td>\n",
       "    </tr>\n",
       "    <tr>\n",
       "      <th>4</th>\n",
       "      <td>Sem informação</td>\n",
       "      <td>0.00</td>\n",
       "      <td>2,812,347,576.39</td>\n",
       "      <td>46.57</td>\n",
       "      <td>Previsión de 0</td>\n",
       "      <td>-2,812,347,529.82</td>\n",
       "    </tr>\n",
       "  </tbody>\n",
       "</table>\n",
       "</div>"
      ],
      "text/plain": [
       "                         CATEGORIA ECONÔMICA  VALOR PREVISTO ATUALIZADO  \\\n",
       "0                         Receitas Correntes      13,549,526,943,206.14   \n",
       "1   Receitas Correntes - intra-orçamentárias         291,485,025,919.00   \n",
       "2                        Receitas de Capital      14,485,753,431,206.59   \n",
       "3  Receitas de Capital - intra-orçamentárias          10,808,411,537.00   \n",
       "4                             Sem informação                       0.00   \n",
       "\n",
       "         VALOR LANÇADO       VALOR REALIZADO porcentaje recaudado  \\\n",
       "0 5,377,870,503,243.72 12,909,343,128,909.43                95.28   \n",
       "1                 0.00    292,651,790,699.89               100.40   \n",
       "2         3,813,949.42 12,407,136,680,065.79                85.65   \n",
       "3                 0.00     28,250,835,724.33               261.38   \n",
       "4     2,812,347,576.39                 46.57       Previsión de 0   \n",
       "\n",
       "   diferencia_recaudacion  \n",
       "0    7,531,472,625,665.71  \n",
       "1      292,651,790,699.89  \n",
       "2   12,407,132,866,116.37  \n",
       "3       28,250,835,724.33  \n",
       "4       -2,812,347,529.82  "
      ]
     },
     "execution_count": 4,
     "metadata": {},
     "output_type": "execute_result"
    }
   ],
   "source": [
    "# Ingresos por categoría económica general\n",
    "categorias_economicas = fs.info_cat(datos_brasil, \"CATEGORIA ECONÔMICA\").reset_index()\n",
    "categorias_economicas"
   ]
  },
  {
   "cell_type": "markdown",
   "metadata": {},
   "source": [
    "Al adentrarnos en las categorías económicas podemos observar diferencias entre los diferentes valores de ingresos. La categoría que más ingresos ha recaudado entre 2013 y 2021 ha sido la de ingresos de capital, seguida por los ingresos corrientes. Estas categorías contienen al fin y al cabo la mayoría de los ingresos presupuestarios. Los ingresos intrapresupuestarios tienen una inferior recaudación. Finalmente tenemos las entradas sin información. \n",
    "\n",
    "En cuanto a las previsiones, las categorías con mayor volumen de previsión son asimismo las de inrgesos corriente y de capital, seguidas de los ingresos intrapresupuestarios. De las previsiones, las categorías que han llegado a recaudar la totalidad o más de lo previsto han sido las intrapresupuestarias. Los ingresos corriente y de capital han consguido entre un 80% y un 90% de la recaudación prevista. \n",
    "\n",
    "Finalmente, las categorías con más diferencia entre los ingresos registrados y los ingresos recaudados son las intrapresupuestarias, las cuales tienen un ingreso registrado de 0 $. Los ingresos de capital presentan una alta diferencia asimismo, ya que hay un registro bastante pequeño de estos ingresos. Los ingresos corrientes son los que menos diferencia presentan."
   ]
  },
  {
   "cell_type": "code",
   "execution_count": 16,
   "metadata": {},
   "outputs": [],
   "source": [
    "cat_ec2 =categorias_economicas[categorias_economicas[\"CATEGORIA ECONÔMICA\"] != \"Sem informação\"]"
   ]
  },
  {
   "cell_type": "code",
   "execution_count": 47,
   "metadata": {},
   "outputs": [
    {
     "data": {
      "image/png": "[encoded data removed]",
      "text/plain": [
       "<Figure size 2000x800 with 2 Axes>"
      ]
     },
     "metadata": {},
     "output_type": "display_data"
    }
   ],
   "source": [
    "colores_categorias = [\"cadetblue\", \"mediumseagreen\", \"seagreen\", \"teal\", \"turquoise\"]\n",
    "\n",
    "fig, axes = plt.subplots(nrows = 1, ncols = 2, figsize = (20, 8), sharex = True)\n",
    "\n",
    "axes[0].pie(\"VALOR PREVISTO ATUALIZADO\", \n",
    "        labels = \"CATEGORIA ECONÔMICA\",\n",
    "        data = cat_ec2, \n",
    "        autopct=  '%1.1f%%', \n",
    "        colors = colores_categorias, \n",
    "        textprops={'fontsize': 8}, \n",
    "        startangle=90,\n",
    "        )\n",
    "\n",
    "axes[1].pie(\"VALOR REALIZADO\", \n",
    "        labels = \"CATEGORIA ECONÔMICA\",\n",
    "        data = cat_ec2, \n",
    "        autopct=  '%1.1f%%', \n",
    "        colors = colores_categorias, \n",
    "        textprops={'fontsize': 8}, \n",
    "        startangle=90,\n",
    "        )\n",
    "plt.tight_layout()"
   ]
  },
  {
   "cell_type": "markdown",
   "metadata": {},
   "source": [
    "A continuación podemos ver de forma detallada, como en un balance, las partidas correspondientes a cada categoría económica."
   ]
  },
  {
   "cell_type": "code",
   "execution_count": 18,
   "metadata": {},
   "outputs": [
    {
     "data": {
      "text/html": [
       "<div>\n",
       "<style scoped>\n",
       "    .dataframe tbody tr th:only-of-type {\n",
       "        vertical-align: middle;\n",
       "    }\n",
       "\n",
       "    .dataframe tbody tr th {\n",
       "        vertical-align: top;\n",
       "    }\n",
       "\n",
       "    .dataframe thead th {\n",
       "        text-align: right;\n",
       "    }\n",
       "</style>\n",
       "<table border=\"1\" class=\"dataframe\">\n",
       "  <thead>\n",
       "    <tr style=\"text-align: right;\">\n",
       "      <th></th>\n",
       "      <th></th>\n",
       "      <th>VALOR PREVISTO ATUALIZADO</th>\n",
       "      <th>VALOR LANÇADO</th>\n",
       "      <th>VALOR REALIZADO</th>\n",
       "    </tr>\n",
       "    <tr>\n",
       "      <th>CATEGORIA ECONÔMICA</th>\n",
       "      <th>ORIGEM RECEITA</th>\n",
       "      <th></th>\n",
       "      <th></th>\n",
       "      <th></th>\n",
       "    </tr>\n",
       "  </thead>\n",
       "  <tbody>\n",
       "    <tr>\n",
       "      <th rowspan=\"9\" valign=\"top\">Receitas Correntes</th>\n",
       "      <th>Contribuições</th>\n",
       "      <td>7,224,633,087,504.00</td>\n",
       "      <td>3,220,620,507,720.18</td>\n",
       "      <td>6,877,089,890,534.66</td>\n",
       "    </tr>\n",
       "    <tr>\n",
       "      <th>Impostos, Taxas e Contribuições de Melhoria</th>\n",
       "      <td>4,510,202,085,939.00</td>\n",
       "      <td>2,020,808,903,486.62</td>\n",
       "      <td>4,287,304,858,124.57</td>\n",
       "    </tr>\n",
       "    <tr>\n",
       "      <th>Outras Receitas Correntes</th>\n",
       "      <td>428,858,259,677.00</td>\n",
       "      <td>136,055,962,948.35</td>\n",
       "      <td>371,983,192,854.63</td>\n",
       "    </tr>\n",
       "    <tr>\n",
       "      <th>Receita Agropecuária</th>\n",
       "      <td>230,056,327.00</td>\n",
       "      <td>0.00</td>\n",
       "      <td>212,916,430.85</td>\n",
       "    </tr>\n",
       "    <tr>\n",
       "      <th>Receita Industrial</th>\n",
       "      <td>18,734,738,626.00</td>\n",
       "      <td>0.00</td>\n",
       "      <td>17,941,345,587.65</td>\n",
       "    </tr>\n",
       "    <tr>\n",
       "      <th>Receita Patrimonial</th>\n",
       "      <td>922,303,174,656.03</td>\n",
       "      <td>380,086,767.00</td>\n",
       "      <td>957,242,133,633.19</td>\n",
       "    </tr>\n",
       "    <tr>\n",
       "      <th>Receita de Serviços</th>\n",
       "      <td>439,803,742,964.11</td>\n",
       "      <td>0.00</td>\n",
       "      <td>409,260,662,661.21</td>\n",
       "    </tr>\n",
       "    <tr>\n",
       "      <th>Receitas Correntes - a classificar</th>\n",
       "      <td>0.00</td>\n",
       "      <td>5,042,321.57</td>\n",
       "      <td>-15,471,989,712.32</td>\n",
       "    </tr>\n",
       "    <tr>\n",
       "      <th>Transferências Correntes</th>\n",
       "      <td>4,761,797,513.00</td>\n",
       "      <td>0.00</td>\n",
       "      <td>3,780,118,794.99</td>\n",
       "    </tr>\n",
       "    <tr>\n",
       "      <th rowspan=\"6\" valign=\"top\">Receitas Correntes - intra-orçamentárias</th>\n",
       "      <th>Contribuições</th>\n",
       "      <td>190,615,572,904.00</td>\n",
       "      <td>0.00</td>\n",
       "      <td>166,514,271,351.59</td>\n",
       "    </tr>\n",
       "    <tr>\n",
       "      <th>Impostos, Taxas e Contribuições de Melhoria</th>\n",
       "      <td>8,679,239.00</td>\n",
       "      <td>0.00</td>\n",
       "      <td>-12,147,875.22</td>\n",
       "    </tr>\n",
       "    <tr>\n",
       "      <th>Outras Receitas Correntes</th>\n",
       "      <td>98,478,861,468.00</td>\n",
       "      <td>0.00</td>\n",
       "      <td>123,592,727,703.21</td>\n",
       "    </tr>\n",
       "    <tr>\n",
       "      <th>Receita Industrial</th>\n",
       "      <td>1,381,739,049.00</td>\n",
       "      <td>0.00</td>\n",
       "      <td>1,314,822,119.85</td>\n",
       "    </tr>\n",
       "    <tr>\n",
       "      <th>Receita Patrimonial</th>\n",
       "      <td>45,380,166.00</td>\n",
       "      <td>0.00</td>\n",
       "      <td>92,745,808.59</td>\n",
       "    </tr>\n",
       "    <tr>\n",
       "      <th>Receita de Serviços</th>\n",
       "      <td>954,793,093.00</td>\n",
       "      <td>0.00</td>\n",
       "      <td>1,149,371,591.87</td>\n",
       "    </tr>\n",
       "    <tr>\n",
       "      <th rowspan=\"5\" valign=\"top\">Receitas de Capital</th>\n",
       "      <th>Alienação de Bens</th>\n",
       "      <td>69,459,904,322.00</td>\n",
       "      <td>0.00</td>\n",
       "      <td>26,925,014,385.03</td>\n",
       "    </tr>\n",
       "    <tr>\n",
       "      <th>Amortizações de Empréstimos</th>\n",
       "      <td>468,392,937,016.00</td>\n",
       "      <td>0.00</td>\n",
       "      <td>799,034,542,267.89</td>\n",
       "    </tr>\n",
       "    <tr>\n",
       "      <th>Operações de Crédito</th>\n",
       "      <td>12,776,862,878,819.19</td>\n",
       "      <td>3,813,949.42</td>\n",
       "      <td>9,857,797,506,467.94</td>\n",
       "    </tr>\n",
       "    <tr>\n",
       "      <th>Outras Receitas de Capital</th>\n",
       "      <td>1,169,948,076,486.00</td>\n",
       "      <td>0.00</td>\n",
       "      <td>1,722,900,919,485.78</td>\n",
       "    </tr>\n",
       "    <tr>\n",
       "      <th>Transferências de Capital</th>\n",
       "      <td>1,089,634,563.40</td>\n",
       "      <td>0.00</td>\n",
       "      <td>478,697,459.15</td>\n",
       "    </tr>\n",
       "    <tr>\n",
       "      <th rowspan=\"2\" valign=\"top\">Receitas de Capital - intra-orçamentárias</th>\n",
       "      <th>Alienação de Bens</th>\n",
       "      <td>0.00</td>\n",
       "      <td>0.00</td>\n",
       "      <td>108,886,708.01</td>\n",
       "    </tr>\n",
       "    <tr>\n",
       "      <th>Operações de Crédito</th>\n",
       "      <td>10,808,411,537.00</td>\n",
       "      <td>0.00</td>\n",
       "      <td>28,141,949,016.32</td>\n",
       "    </tr>\n",
       "    <tr>\n",
       "      <th>Sem informação</th>\n",
       "      <th>Sem informação</th>\n",
       "      <td>0.00</td>\n",
       "      <td>2,812,347,576.39</td>\n",
       "      <td>46.57</td>\n",
       "    </tr>\n",
       "  </tbody>\n",
       "</table>\n",
       "</div>"
      ],
      "text/plain": [
       "                                                                                       VALOR PREVISTO ATUALIZADO  \\\n",
       "CATEGORIA ECONÔMICA                       ORIGEM RECEITA                                                           \n",
       "Receitas Correntes                        Contribuições                                     7,224,633,087,504.00   \n",
       "                                          Impostos, Taxas e Contribuições de Melhoria       4,510,202,085,939.00   \n",
       "                                          Outras Receitas Correntes                           428,858,259,677.00   \n",
       "                                          Receita Agropecuária                                    230,056,327.00   \n",
       "                                          Receita Industrial                                   18,734,738,626.00   \n",
       "                                          Receita Patrimonial                                 922,303,174,656.03   \n",
       "                                          Receita de Serviços                                 439,803,742,964.11   \n",
       "                                          Receitas Correntes - a classificar                                0.00   \n",
       "                                          Transferências Correntes                              4,761,797,513.00   \n",
       "Receitas Correntes - intra-orçamentárias  Contribuições                                       190,615,572,904.00   \n",
       "                                          Impostos, Taxas e Contribuições de Melhoria               8,679,239.00   \n",
       "                                          Outras Receitas Correntes                            98,478,861,468.00   \n",
       "                                          Receita Industrial                                    1,381,739,049.00   \n",
       "                                          Receita Patrimonial                                      45,380,166.00   \n",
       "                                          Receita de Serviços                                     954,793,093.00   \n",
       "Receitas de Capital                       Alienação de Bens                                    69,459,904,322.00   \n",
       "                                          Amortizações de Empréstimos                         468,392,937,016.00   \n",
       "                                          Operações de Crédito                             12,776,862,878,819.19   \n",
       "                                          Outras Receitas de Capital                        1,169,948,076,486.00   \n",
       "                                          Transferências de Capital                             1,089,634,563.40   \n",
       "Receitas de Capital - intra-orçamentárias Alienação de Bens                                                 0.00   \n",
       "                                          Operações de Crédito                                 10,808,411,537.00   \n",
       "Sem informação                            Sem informação                                                    0.00   \n",
       "\n",
       "                                                                                             VALOR LANÇADO  \\\n",
       "CATEGORIA ECONÔMICA                       ORIGEM RECEITA                                                     \n",
       "Receitas Correntes                        Contribuições                               3,220,620,507,720.18   \n",
       "                                          Impostos, Taxas e Contribuições de Melhoria 2,020,808,903,486.62   \n",
       "                                          Outras Receitas Correntes                     136,055,962,948.35   \n",
       "                                          Receita Agropecuária                                        0.00   \n",
       "                                          Receita Industrial                                          0.00   \n",
       "                                          Receita Patrimonial                               380,086,767.00   \n",
       "                                          Receita de Serviços                                         0.00   \n",
       "                                          Receitas Correntes - a classificar                  5,042,321.57   \n",
       "                                          Transferências Correntes                                    0.00   \n",
       "Receitas Correntes - intra-orçamentárias  Contribuições                                               0.00   \n",
       "                                          Impostos, Taxas e Contribuições de Melhoria                 0.00   \n",
       "                                          Outras Receitas Correntes                                   0.00   \n",
       "                                          Receita Industrial                                          0.00   \n",
       "                                          Receita Patrimonial                                         0.00   \n",
       "                                          Receita de Serviços                                         0.00   \n",
       "Receitas de Capital                       Alienação de Bens                                           0.00   \n",
       "                                          Amortizações de Empréstimos                                 0.00   \n",
       "                                          Operações de Crédito                                3,813,949.42   \n",
       "                                          Outras Receitas de Capital                                  0.00   \n",
       "                                          Transferências de Capital                                   0.00   \n",
       "Receitas de Capital - intra-orçamentárias Alienação de Bens                                           0.00   \n",
       "                                          Operações de Crédito                                        0.00   \n",
       "Sem informação                            Sem informação                                  2,812,347,576.39   \n",
       "\n",
       "                                                                                           VALOR REALIZADO  \n",
       "CATEGORIA ECONÔMICA                       ORIGEM RECEITA                                                    \n",
       "Receitas Correntes                        Contribuições                               6,877,089,890,534.66  \n",
       "                                          Impostos, Taxas e Contribuições de Melhoria 4,287,304,858,124.57  \n",
       "                                          Outras Receitas Correntes                     371,983,192,854.63  \n",
       "                                          Receita Agropecuária                              212,916,430.85  \n",
       "                                          Receita Industrial                             17,941,345,587.65  \n",
       "                                          Receita Patrimonial                           957,242,133,633.19  \n",
       "                                          Receita de Serviços                           409,260,662,661.21  \n",
       "                                          Receitas Correntes - a classificar            -15,471,989,712.32  \n",
       "                                          Transferências Correntes                        3,780,118,794.99  \n",
       "Receitas Correntes - intra-orçamentárias  Contribuições                                 166,514,271,351.59  \n",
       "                                          Impostos, Taxas e Contribuições de Melhoria       -12,147,875.22  \n",
       "                                          Outras Receitas Correntes                     123,592,727,703.21  \n",
       "                                          Receita Industrial                              1,314,822,119.85  \n",
       "                                          Receita Patrimonial                                92,745,808.59  \n",
       "                                          Receita de Serviços                             1,149,371,591.87  \n",
       "Receitas de Capital                       Alienação de Bens                              26,925,014,385.03  \n",
       "                                          Amortizações de Empréstimos                   799,034,542,267.89  \n",
       "                                          Operações de Crédito                        9,857,797,506,467.94  \n",
       "                                          Outras Receitas de Capital                  1,722,900,919,485.78  \n",
       "                                          Transferências de Capital                         478,697,459.15  \n",
       "Receitas de Capital - intra-orçamentárias Alienação de Bens                                 108,886,708.01  \n",
       "                                          Operações de Crédito                           28,141,949,016.32  \n",
       "Sem informação                            Sem informação                                             46.57  "
      ]
     },
     "execution_count": 18,
     "metadata": {},
     "output_type": "execute_result"
    }
   ],
   "source": [
    "ingresos_cat = datos_brasil.groupby([\"CATEGORIA ECONÔMICA\", \"ORIGEM RECEITA\"])[[\"VALOR PREVISTO ATUALIZADO\", \"VALOR LANÇADO\",\"VALOR REALIZADO\"]].sum().round(2)\n",
    "ingresos_cat"
   ]
  },
  {
   "cell_type": "markdown",
   "metadata": {},
   "source": [
    "Realizaremos un análisis en detalle de los origenes de los ingresos dentro de cada categoría económica."
   ]
  },
  {
   "cell_type": "markdown",
   "metadata": {},
   "source": [
    "### *Ingresos corrientes*"
   ]
  },
  {
   "cell_type": "markdown",
   "metadata": {},
   "source": [
    "Como hemos visto en la preview del balance anterior, los ingresos corrientes se componen de los siguientes orígenes:"
   ]
  },
  {
   "cell_type": "code",
   "execution_count": 28,
   "metadata": {},
   "outputs": [
    {
     "data": {
      "text/html": [
       "<div>\n",
       "<style scoped>\n",
       "    .dataframe tbody tr th:only-of-type {\n",
       "        vertical-align: middle;\n",
       "    }\n",
       "\n",
       "    .dataframe tbody tr th {\n",
       "        vertical-align: top;\n",
       "    }\n",
       "\n",
       "    .dataframe thead th {\n",
       "        text-align: right;\n",
       "    }\n",
       "</style>\n",
       "<table border=\"1\" class=\"dataframe\">\n",
       "  <thead>\n",
       "    <tr style=\"text-align: right;\">\n",
       "      <th></th>\n",
       "      <th>ORIGEM RECEITA</th>\n",
       "      <th>VALOR PREVISTO ATUALIZADO</th>\n",
       "      <th>VALOR LANÇADO</th>\n",
       "      <th>VALOR REALIZADO</th>\n",
       "      <th>porcentaje recaudado</th>\n",
       "      <th>diferencia_recaudacion</th>\n",
       "    </tr>\n",
       "  </thead>\n",
       "  <tbody>\n",
       "    <tr>\n",
       "      <th>0</th>\n",
       "      <td>Contribuições</td>\n",
       "      <td>7,224,633,087,504.00</td>\n",
       "      <td>3,220,620,507,720.18</td>\n",
       "      <td>6,877,089,890,534.66</td>\n",
       "      <td>95.19</td>\n",
       "      <td>3,656,469,382,814.48</td>\n",
       "    </tr>\n",
       "    <tr>\n",
       "      <th>1</th>\n",
       "      <td>Impostos, Taxas e Contribuições de Melhoria</td>\n",
       "      <td>4,510,202,085,939.00</td>\n",
       "      <td>2,020,808,903,486.62</td>\n",
       "      <td>4,287,304,858,124.57</td>\n",
       "      <td>95.06</td>\n",
       "      <td>2,266,495,954,637.95</td>\n",
       "    </tr>\n",
       "    <tr>\n",
       "      <th>2</th>\n",
       "      <td>Outras Receitas Correntes</td>\n",
       "      <td>428,858,259,677.00</td>\n",
       "      <td>136,055,962,948.35</td>\n",
       "      <td>371,983,192,854.63</td>\n",
       "      <td>86.74</td>\n",
       "      <td>235,927,229,906.28</td>\n",
       "    </tr>\n",
       "    <tr>\n",
       "      <th>3</th>\n",
       "      <td>Receita Agropecuária</td>\n",
       "      <td>230,056,327.00</td>\n",
       "      <td>0.00</td>\n",
       "      <td>212,916,430.85</td>\n",
       "      <td>92.55</td>\n",
       "      <td>212,916,430.85</td>\n",
       "    </tr>\n",
       "    <tr>\n",
       "      <th>4</th>\n",
       "      <td>Receita Industrial</td>\n",
       "      <td>18,734,738,626.00</td>\n",
       "      <td>0.00</td>\n",
       "      <td>17,941,345,587.65</td>\n",
       "      <td>95.77</td>\n",
       "      <td>17,941,345,587.65</td>\n",
       "    </tr>\n",
       "    <tr>\n",
       "      <th>5</th>\n",
       "      <td>Receita Patrimonial</td>\n",
       "      <td>922,303,174,656.03</td>\n",
       "      <td>380,086,767.00</td>\n",
       "      <td>957,242,133,633.19</td>\n",
       "      <td>103.79</td>\n",
       "      <td>956,862,046,866.19</td>\n",
       "    </tr>\n",
       "    <tr>\n",
       "      <th>6</th>\n",
       "      <td>Receita de Serviços</td>\n",
       "      <td>439,803,742,964.11</td>\n",
       "      <td>0.00</td>\n",
       "      <td>409,260,662,661.21</td>\n",
       "      <td>93.06</td>\n",
       "      <td>409,260,662,661.21</td>\n",
       "    </tr>\n",
       "    <tr>\n",
       "      <th>7</th>\n",
       "      <td>Receitas Correntes - a classificar</td>\n",
       "      <td>0.00</td>\n",
       "      <td>5,042,321.57</td>\n",
       "      <td>-15,471,989,712.32</td>\n",
       "      <td>Previsión de 0</td>\n",
       "      <td>-15,477,032,033.89</td>\n",
       "    </tr>\n",
       "    <tr>\n",
       "      <th>8</th>\n",
       "      <td>Transferências Correntes</td>\n",
       "      <td>4,761,797,513.00</td>\n",
       "      <td>0.00</td>\n",
       "      <td>3,780,118,794.99</td>\n",
       "      <td>79.38</td>\n",
       "      <td>3,780,118,794.99</td>\n",
       "    </tr>\n",
       "  </tbody>\n",
       "</table>\n",
       "</div>"
      ],
      "text/plain": [
       "                                ORIGEM RECEITA  VALOR PREVISTO ATUALIZADO  \\\n",
       "0                                Contribuições       7,224,633,087,504.00   \n",
       "1  Impostos, Taxas e Contribuições de Melhoria       4,510,202,085,939.00   \n",
       "2                    Outras Receitas Correntes         428,858,259,677.00   \n",
       "3                         Receita Agropecuária             230,056,327.00   \n",
       "4                           Receita Industrial          18,734,738,626.00   \n",
       "5                          Receita Patrimonial         922,303,174,656.03   \n",
       "6                          Receita de Serviços         439,803,742,964.11   \n",
       "7           Receitas Correntes - a classificar                       0.00   \n",
       "8                     Transferências Correntes           4,761,797,513.00   \n",
       "\n",
       "         VALOR LANÇADO      VALOR REALIZADO porcentaje recaudado  \\\n",
       "0 3,220,620,507,720.18 6,877,089,890,534.66                95.19   \n",
       "1 2,020,808,903,486.62 4,287,304,858,124.57                95.06   \n",
       "2   136,055,962,948.35   371,983,192,854.63                86.74   \n",
       "3                 0.00       212,916,430.85                92.55   \n",
       "4                 0.00    17,941,345,587.65                95.77   \n",
       "5       380,086,767.00   957,242,133,633.19               103.79   \n",
       "6                 0.00   409,260,662,661.21                93.06   \n",
       "7         5,042,321.57   -15,471,989,712.32       Previsión de 0   \n",
       "8                 0.00     3,780,118,794.99                79.38   \n",
       "\n",
       "   diferencia_recaudacion  \n",
       "0    3,656,469,382,814.48  \n",
       "1    2,266,495,954,637.95  \n",
       "2      235,927,229,906.28  \n",
       "3          212,916,430.85  \n",
       "4       17,941,345,587.65  \n",
       "5      956,862,046,866.19  \n",
       "6      409,260,662,661.21  \n",
       "7      -15,477,032,033.89  \n",
       "8        3,780,118,794.99  "
      ]
     },
     "execution_count": 28,
     "metadata": {},
     "output_type": "execute_result"
    }
   ],
   "source": [
    "# Ingresos corrientes\n",
    "ingresos_corrientes2 = datos_brasil[datos_brasil[\"CATEGORIA ECONÔMICA\"] == \"Receitas Correntes\"]\n",
    "ingresos_corrientes_origen = fs.info_cat(ingresos_corrientes2, \"ORIGEM RECEITA\").reset_index()\n",
    "ingresos_corrientes_origen"
   ]
  },
  {
   "cell_type": "markdown",
   "metadata": {},
   "source": [
    "Dentro de los ingresos corrientes nos encontramos que la principal fuente de estos ingresos son las contribuciones y los ingresos fiscales, los cuales se componen por los impuestos, tasas y contribuciones de mejoría. Estas dos categorías son asimismo las que han recibido una mayor previsión de ingresos. Al fin y al cabo se componen de los ingresos procedentes de la recudación de impuestos, tasa y contribuciones, así como de las contribuciones sociales. Estos son los principales ingresos de una economía por norma general. Como es de esperar, la mayor diferencia entre lo recaudado y lo registrado es superior en estas categorías. \n",
    "\n",
    "Los orígenes con menor volumen de ingresos son las rentas agrarias, las cuales proceden de la actividad o explotación agraria de origen vegetal o animal.La previsión de estsos ingresos es bastante baja asimismo. \n",
    "\n",
    "Nos encontramos que hay un registro nulo en las rentas agropecuarias, las rentas industriales, y las rentas de servicios. "
   ]
  },
  {
   "cell_type": "code",
   "execution_count": 53,
   "metadata": {},
   "outputs": [
    {
     "data": {
      "text/plain": [
       "<Axes: xlabel='diferencia_recaudacion', ylabel='ORIGEM RECEITA'>"
      ]
     },
     "execution_count": 53,
     "metadata": {},
     "output_type": "execute_result"
    },
    {
     "data": {
      "image/png": "[encoded data removed]",
      "text/plain": [
       "<Figure size 1000x1500 with 4 Axes>"
      ]
     },
     "metadata": {},
     "output_type": "display_data"
    }
   ],
   "source": [
    "fig, axes = plt.subplots(nrows = 4, ncols = 1, figsize = (10, 15))\n",
    "sns.barplot(y = \"ORIGEM RECEITA\", \n",
    "            x = \"VALOR PREVISTO ATUALIZADO\",\n",
    "            data = ingresos_corrientes_origen,\n",
    "            ax = axes[0])\n",
    "sns.barplot(y = \"ORIGEM RECEITA\", \n",
    "            x = \"VALOR LANÇADO\",\n",
    "            data = ingresos_corrientes_origen,\n",
    "            ax = axes[1])\n",
    "sns.barplot(y = \"ORIGEM RECEITA\", \n",
    "            x = \"VALOR REALIZADO\",\n",
    "            data = ingresos_corrientes_origen,\n",
    "            ax = axes[2]) \n",
    "sns.barplot(y = \"ORIGEM RECEITA\", \n",
    "            x = \"diferencia_recaudacion\",\n",
    "            data = ingresos_corrientes_origen,\n",
    "            ax = axes[3]) "
   ]
  },
  {
   "cell_type": "code",
   "execution_count": 21,
   "metadata": {},
   "outputs": [
    {
     "data": {
      "text/html": [
       "<div>\n",
       "<style scoped>\n",
       "    .dataframe tbody tr th:only-of-type {\n",
       "        vertical-align: middle;\n",
       "    }\n",
       "\n",
       "    .dataframe tbody tr th {\n",
       "        vertical-align: top;\n",
       "    }\n",
       "\n",
       "    .dataframe thead th {\n",
       "        text-align: right;\n",
       "    }\n",
       "</style>\n",
       "<table border=\"1\" class=\"dataframe\">\n",
       "  <thead>\n",
       "    <tr style=\"text-align: right;\">\n",
       "      <th></th>\n",
       "      <th>VALOR PREVISTO ATUALIZADO</th>\n",
       "      <th>VALOR LANÇADO</th>\n",
       "      <th>VALOR REALIZADO</th>\n",
       "      <th>porcentaje recaudado</th>\n",
       "      <th>diferencia_recaudacion</th>\n",
       "    </tr>\n",
       "    <tr>\n",
       "      <th>ESPÉCIE RECEITA</th>\n",
       "      <th></th>\n",
       "      <th></th>\n",
       "      <th></th>\n",
       "      <th></th>\n",
       "      <th></th>\n",
       "    </tr>\n",
       "  </thead>\n",
       "  <tbody>\n",
       "    <tr>\n",
       "      <th>Contribuições econômicas</th>\n",
       "      <td>128,465,554,111.00</td>\n",
       "      <td>31,469,943,756.64</td>\n",
       "      <td>137,391,936,282.17</td>\n",
       "      <td>106.95</td>\n",
       "      <td>105,921,992,525.53</td>\n",
       "    </tr>\n",
       "    <tr>\n",
       "      <th>Contribuições para Entidades Privadas de Serv</th>\n",
       "      <td>0.00</td>\n",
       "      <td>7,236,634,754.58</td>\n",
       "      <td>0.00</td>\n",
       "      <td>Previsión de 0</td>\n",
       "      <td>-7,236,634,754.58</td>\n",
       "    </tr>\n",
       "    <tr>\n",
       "      <th>Contribuições sociais</th>\n",
       "      <td>7,286,783,106,297.00</td>\n",
       "      <td>3,181,913,929,208.96</td>\n",
       "      <td>6,906,212,225,604.08</td>\n",
       "      <td>94.78</td>\n",
       "      <td>3,724,298,296,395.12</td>\n",
       "    </tr>\n",
       "  </tbody>\n",
       "</table>\n",
       "</div>"
      ],
      "text/plain": [
       "                                               VALOR PREVISTO ATUALIZADO  \\\n",
       "ESPÉCIE RECEITA                                                            \n",
       "Contribuições econômicas                              128,465,554,111.00   \n",
       "Contribuições para Entidades Privadas de Serv                       0.00   \n",
       "Contribuições sociais                               7,286,783,106,297.00   \n",
       "\n",
       "                                                     VALOR LANÇADO  \\\n",
       "ESPÉCIE RECEITA                                                      \n",
       "Contribuições econômicas                         31,469,943,756.64   \n",
       "Contribuições para Entidades Privadas de Serv     7,236,634,754.58   \n",
       "Contribuições sociais                         3,181,913,929,208.96   \n",
       "\n",
       "                                                   VALOR REALIZADO  \\\n",
       "ESPÉCIE RECEITA                                                      \n",
       "Contribuições econômicas                        137,391,936,282.17   \n",
       "Contribuições para Entidades Privadas de Serv                 0.00   \n",
       "Contribuições sociais                         6,906,212,225,604.08   \n",
       "\n",
       "                                              porcentaje recaudado  \\\n",
       "ESPÉCIE RECEITA                                                      \n",
       "Contribuições econômicas                                    106.95   \n",
       "Contribuições para Entidades Privadas de Serv       Previsión de 0   \n",
       "Contribuições sociais                                        94.78   \n",
       "\n",
       "                                               diferencia_recaudacion  \n",
       "ESPÉCIE RECEITA                                                        \n",
       "Contribuições econômicas                           105,921,992,525.53  \n",
       "Contribuições para Entidades Privadas de Serv       -7,236,634,754.58  \n",
       "Contribuições sociais                            3,724,298,296,395.12  "
      ]
     },
     "execution_count": 21,
     "metadata": {},
     "output_type": "execute_result"
    }
   ],
   "source": [
    "# Nos metemos en las contribuciones\n",
    "ingresos_corrientes = datos_brasil[datos_brasil[\"ORIGEM RECEITA\"] == \"Contribuições\"]\n",
    "fs.info_cat(ingresos_corrientes, \"ESPÉCIE RECEITA\")"
   ]
  },
  {
   "cell_type": "code",
   "execution_count": 23,
   "metadata": {},
   "outputs": [
    {
     "data": {
      "text/html": [
       "<div>\n",
       "<style scoped>\n",
       "    .dataframe tbody tr th:only-of-type {\n",
       "        vertical-align: middle;\n",
       "    }\n",
       "\n",
       "    .dataframe tbody tr th {\n",
       "        vertical-align: top;\n",
       "    }\n",
       "\n",
       "    .dataframe thead th {\n",
       "        text-align: right;\n",
       "    }\n",
       "</style>\n",
       "<table border=\"1\" class=\"dataframe\">\n",
       "  <thead>\n",
       "    <tr style=\"text-align: right;\">\n",
       "      <th></th>\n",
       "      <th>DETALHAMENTO</th>\n",
       "      <th>VALOR PREVISTO ATUALIZADO</th>\n",
       "      <th>VALOR LANÇADO</th>\n",
       "      <th>VALOR REALIZADO</th>\n",
       "      <th>porcentaje recaudado</th>\n",
       "      <th>diferencia_recaudacion</th>\n",
       "    </tr>\n",
       "  </thead>\n",
       "  <tbody>\n",
       "    <tr>\n",
       "      <th>1</th>\n",
       "      <td>CIDE-COMBUST.-COMERCIALIZACAO-DIV.AT-MUL.JUR.</td>\n",
       "      <td>513,811,274.00</td>\n",
       "      <td>0.00</td>\n",
       "      <td>2,329,775.85</td>\n",
       "      <td>0.45</td>\n",
       "      <td>2,329,775.85</td>\n",
       "    </tr>\n",
       "    <tr>\n",
       "      <th>2</th>\n",
       "      <td>CIDE-COMBUST.-COMERCIALIZACAO-JUROS DIV.ATIVA</td>\n",
       "      <td>1,413,413.00</td>\n",
       "      <td>0.00</td>\n",
       "      <td>2,628,207.83</td>\n",
       "      <td>185.95</td>\n",
       "      <td>2,628,207.83</td>\n",
       "    </tr>\n",
       "    <tr>\n",
       "      <th>3</th>\n",
       "      <td>CIDE-COMBUST.-COMERCIALIZACAO-JUROS DÍV.ATIVA</td>\n",
       "      <td>5,388,140.00</td>\n",
       "      <td>0.00</td>\n",
       "      <td>7,843,346.52</td>\n",
       "      <td>145.57</td>\n",
       "      <td>7,843,346.52</td>\n",
       "    </tr>\n",
       "    <tr>\n",
       "      <th>4</th>\n",
       "      <td>CIDE-COMBUST.-COMERCIALIZACAO-MULTAS DIV.AT.</td>\n",
       "      <td>160,568.00</td>\n",
       "      <td>0.00</td>\n",
       "      <td>1,801,894.52</td>\n",
       "      <td>1,122.20</td>\n",
       "      <td>1,801,894.52</td>\n",
       "    </tr>\n",
       "    <tr>\n",
       "      <th>5</th>\n",
       "      <td>CIDE-COMBUST.-COMERCIALIZACAO-MULTAS DÍV.AT.</td>\n",
       "      <td>934,976.00</td>\n",
       "      <td>0.00</td>\n",
       "      <td>642,701.35</td>\n",
       "      <td>68.74</td>\n",
       "      <td>642,701.35</td>\n",
       "    </tr>\n",
       "    <tr>\n",
       "      <th>...</th>\n",
       "      <td>...</td>\n",
       "      <td>...</td>\n",
       "      <td>...</td>\n",
       "      <td>...</td>\n",
       "      <td>...</td>\n",
       "      <td>...</td>\n",
       "    </tr>\n",
       "    <tr>\n",
       "      <th>84</th>\n",
       "      <td>OUTR.CONTR.ECON-ARREC.PROJ.RFB-DIV.AT.MUL/JUR</td>\n",
       "      <td>0.00</td>\n",
       "      <td>0.00</td>\n",
       "      <td>5,368,073.13</td>\n",
       "      <td>Previsión de 0</td>\n",
       "      <td>5,368,073.13</td>\n",
       "    </tr>\n",
       "    <tr>\n",
       "      <th>86</th>\n",
       "      <td>OUTRAS CONTRIB.ECONOM.-ARREC.PROJ.RFB-DIV.AT.</td>\n",
       "      <td>0.00</td>\n",
       "      <td>0.00</td>\n",
       "      <td>614,743.57</td>\n",
       "      <td>Previsión de 0</td>\n",
       "      <td>614,743.57</td>\n",
       "    </tr>\n",
       "    <tr>\n",
       "      <th>87</th>\n",
       "      <td>OUTRAS CONTRIBUICOES ECONOMICAS</td>\n",
       "      <td>11,557.00</td>\n",
       "      <td>0.00</td>\n",
       "      <td>0.00</td>\n",
       "      <td>0.00</td>\n",
       "      <td>0.00</td>\n",
       "    </tr>\n",
       "    <tr>\n",
       "      <th>90</th>\n",
       "      <td>REC.DIST.AUDIOVISUAIS POR PRESTADOR DE SERV.</td>\n",
       "      <td>3,255,714,287.00</td>\n",
       "      <td>0.00</td>\n",
       "      <td>2,717,246,488.53</td>\n",
       "      <td>83.46</td>\n",
       "      <td>2,717,246,488.53</td>\n",
       "    </tr>\n",
       "    <tr>\n",
       "      <th>92</th>\n",
       "      <td>RECEITA REMESSA DE REND. EXPLORACAO DE OBRAS</td>\n",
       "      <td>30,223,117.00</td>\n",
       "      <td>0.00</td>\n",
       "      <td>32,576,613.18</td>\n",
       "      <td>107.79</td>\n",
       "      <td>32,576,613.18</td>\n",
       "    </tr>\n",
       "  </tbody>\n",
       "</table>\n",
       "<p>72 rows × 6 columns</p>\n",
       "</div>"
      ],
      "text/plain": [
       "                                     DETALHAMENTO  VALOR PREVISTO ATUALIZADO  \\\n",
       "1   CIDE-COMBUST.-COMERCIALIZACAO-DIV.AT-MUL.JUR.             513,811,274.00   \n",
       "2   CIDE-COMBUST.-COMERCIALIZACAO-JUROS DIV.ATIVA               1,413,413.00   \n",
       "3   CIDE-COMBUST.-COMERCIALIZACAO-JUROS DÍV.ATIVA               5,388,140.00   \n",
       "4    CIDE-COMBUST.-COMERCIALIZACAO-MULTAS DIV.AT.                 160,568.00   \n",
       "5    CIDE-COMBUST.-COMERCIALIZACAO-MULTAS DÍV.AT.                 934,976.00   \n",
       "..                                            ...                        ...   \n",
       "84  OUTR.CONTR.ECON-ARREC.PROJ.RFB-DIV.AT.MUL/JUR                       0.00   \n",
       "86  OUTRAS CONTRIB.ECONOM.-ARREC.PROJ.RFB-DIV.AT.                       0.00   \n",
       "87                OUTRAS CONTRIBUICOES ECONOMICAS                  11,557.00   \n",
       "90   REC.DIST.AUDIOVISUAIS POR PRESTADOR DE SERV.           3,255,714,287.00   \n",
       "92   RECEITA REMESSA DE REND. EXPLORACAO DE OBRAS              30,223,117.00   \n",
       "\n",
       "    VALOR LANÇADO  VALOR REALIZADO porcentaje recaudado  \\\n",
       "1            0.00     2,329,775.85                 0.45   \n",
       "2            0.00     2,628,207.83               185.95   \n",
       "3            0.00     7,843,346.52               145.57   \n",
       "4            0.00     1,801,894.52             1,122.20   \n",
       "5            0.00       642,701.35                68.74   \n",
       "..            ...              ...                  ...   \n",
       "84           0.00     5,368,073.13       Previsión de 0   \n",
       "86           0.00       614,743.57       Previsión de 0   \n",
       "87           0.00             0.00                 0.00   \n",
       "90           0.00 2,717,246,488.53                83.46   \n",
       "92           0.00    32,576,613.18               107.79   \n",
       "\n",
       "    diferencia_recaudacion  \n",
       "1             2,329,775.85  \n",
       "2             2,628,207.83  \n",
       "3             7,843,346.52  \n",
       "4             1,801,894.52  \n",
       "5               642,701.35  \n",
       "..                     ...  \n",
       "84            5,368,073.13  \n",
       "86              614,743.57  \n",
       "87                    0.00  \n",
       "90        2,717,246,488.53  \n",
       "92           32,576,613.18  \n",
       "\n",
       "[72 rows x 6 columns]"
      ]
     },
     "execution_count": 23,
     "metadata": {},
     "output_type": "execute_result"
    }
   ],
   "source": [
    "# dentro de las contibuciones nos metemos en las contribuciones económicas\n",
    "ingresos_corrientes = datos_brasil[datos_brasil[\"ESPÉCIE RECEITA\"] == \"Contribuições econômicas\"]\n",
    "ingresos_corrientes_detalle = fs.info_cat(ingresos_corrientes, \"DETALHAMENTO\").reset_index()\n",
    "ingresos_corrientes_detalle[ingresos_corrientes_detalle[\"VALOR LANÇADO\"] == 0]"
   ]
  },
  {
   "cell_type": "markdown",
   "metadata": {},
   "source": [
    "#### *Ingresos corrientes - intrapresupuestarios*"
   ]
  },
  {
   "cell_type": "code",
   "execution_count": 33,
   "metadata": {},
   "outputs": [
    {
     "data": {
      "text/html": [
       "<div>\n",
       "<style scoped>\n",
       "    .dataframe tbody tr th:only-of-type {\n",
       "        vertical-align: middle;\n",
       "    }\n",
       "\n",
       "    .dataframe tbody tr th {\n",
       "        vertical-align: top;\n",
       "    }\n",
       "\n",
       "    .dataframe thead th {\n",
       "        text-align: right;\n",
       "    }\n",
       "</style>\n",
       "<table border=\"1\" class=\"dataframe\">\n",
       "  <thead>\n",
       "    <tr style=\"text-align: right;\">\n",
       "      <th></th>\n",
       "      <th>VALOR PREVISTO ATUALIZADO</th>\n",
       "      <th>VALOR LANÇADO</th>\n",
       "      <th>VALOR REALIZADO</th>\n",
       "      <th>porcentaje recaudado</th>\n",
       "      <th>diferencia_recaudacion</th>\n",
       "    </tr>\n",
       "    <tr>\n",
       "      <th>ORIGEM RECEITA</th>\n",
       "      <th></th>\n",
       "      <th></th>\n",
       "      <th></th>\n",
       "      <th></th>\n",
       "      <th></th>\n",
       "    </tr>\n",
       "  </thead>\n",
       "  <tbody>\n",
       "    <tr>\n",
       "      <th>Contribuições</th>\n",
       "      <td>190,615,572,904.00</td>\n",
       "      <td>0.00</td>\n",
       "      <td>166,514,271,351.59</td>\n",
       "      <td>87.36</td>\n",
       "      <td>166,514,271,351.59</td>\n",
       "    </tr>\n",
       "    <tr>\n",
       "      <th>Impostos, Taxas e Contribuições de Melhoria</th>\n",
       "      <td>8,679,239.00</td>\n",
       "      <td>0.00</td>\n",
       "      <td>-12,147,875.22</td>\n",
       "      <td>-139.96</td>\n",
       "      <td>-12,147,875.22</td>\n",
       "    </tr>\n",
       "    <tr>\n",
       "      <th>Outras Receitas Correntes</th>\n",
       "      <td>98,478,861,468.00</td>\n",
       "      <td>0.00</td>\n",
       "      <td>123,592,727,703.21</td>\n",
       "      <td>125.50</td>\n",
       "      <td>123,592,727,703.21</td>\n",
       "    </tr>\n",
       "    <tr>\n",
       "      <th>Receita Industrial</th>\n",
       "      <td>1,381,739,049.00</td>\n",
       "      <td>0.00</td>\n",
       "      <td>1,314,822,119.85</td>\n",
       "      <td>95.16</td>\n",
       "      <td>1,314,822,119.85</td>\n",
       "    </tr>\n",
       "    <tr>\n",
       "      <th>Receita Patrimonial</th>\n",
       "      <td>45,380,166.00</td>\n",
       "      <td>0.00</td>\n",
       "      <td>92,745,808.59</td>\n",
       "      <td>204.38</td>\n",
       "      <td>92,745,808.59</td>\n",
       "    </tr>\n",
       "    <tr>\n",
       "      <th>Receita de Serviços</th>\n",
       "      <td>954,793,093.00</td>\n",
       "      <td>0.00</td>\n",
       "      <td>1,149,371,591.87</td>\n",
       "      <td>120.38</td>\n",
       "      <td>1,149,371,591.87</td>\n",
       "    </tr>\n",
       "  </tbody>\n",
       "</table>\n",
       "</div>"
      ],
      "text/plain": [
       "                                             VALOR PREVISTO ATUALIZADO  \\\n",
       "ORIGEM RECEITA                                                           \n",
       "Contribuições                                       190,615,572,904.00   \n",
       "Impostos, Taxas e Contribuições de Melhoria               8,679,239.00   \n",
       "Outras Receitas Correntes                            98,478,861,468.00   \n",
       "Receita Industrial                                    1,381,739,049.00   \n",
       "Receita Patrimonial                                      45,380,166.00   \n",
       "Receita de Serviços                                     954,793,093.00   \n",
       "\n",
       "                                             VALOR LANÇADO    VALOR REALIZADO  \\\n",
       "ORIGEM RECEITA                                                                  \n",
       "Contribuições                                         0.00 166,514,271,351.59   \n",
       "Impostos, Taxas e Contribuições de Melhoria           0.00     -12,147,875.22   \n",
       "Outras Receitas Correntes                             0.00 123,592,727,703.21   \n",
       "Receita Industrial                                    0.00   1,314,822,119.85   \n",
       "Receita Patrimonial                                   0.00      92,745,808.59   \n",
       "Receita de Serviços                                   0.00   1,149,371,591.87   \n",
       "\n",
       "                                             porcentaje recaudado  \\\n",
       "ORIGEM RECEITA                                                      \n",
       "Contribuições                                               87.36   \n",
       "Impostos, Taxas e Contribuições de Melhoria               -139.96   \n",
       "Outras Receitas Correntes                                  125.50   \n",
       "Receita Industrial                                          95.16   \n",
       "Receita Patrimonial                                        204.38   \n",
       "Receita de Serviços                                        120.38   \n",
       "\n",
       "                                             diferencia_recaudacion  \n",
       "ORIGEM RECEITA                                                       \n",
       "Contribuições                                    166,514,271,351.59  \n",
       "Impostos, Taxas e Contribuições de Melhoria          -12,147,875.22  \n",
       "Outras Receitas Correntes                        123,592,727,703.21  \n",
       "Receita Industrial                                 1,314,822,119.85  \n",
       "Receita Patrimonial                                   92,745,808.59  \n",
       "Receita de Serviços                                1,149,371,591.87  "
      ]
     },
     "execution_count": 33,
     "metadata": {},
     "output_type": "execute_result"
    }
   ],
   "source": [
    "ingresos_corrientes_intrapresupuestarios = datos_brasil[datos_brasil[\"CATEGORIA ECONÔMICA\"] == \"Receitas Correntes - intra-orçamentárias\"]\n",
    "fs.info_cat(ingresos_corrientes_intrapresupuestarios, \"ORIGEM RECEITA\")"
   ]
  },
  {
   "cell_type": "markdown",
   "metadata": {},
   "source": [
    "#### *Ingresos de capital*"
   ]
  },
  {
   "cell_type": "code",
   "execution_count": 34,
   "metadata": {},
   "outputs": [
    {
     "data": {
      "text/html": [
       "<div>\n",
       "<style scoped>\n",
       "    .dataframe tbody tr th:only-of-type {\n",
       "        vertical-align: middle;\n",
       "    }\n",
       "\n",
       "    .dataframe tbody tr th {\n",
       "        vertical-align: top;\n",
       "    }\n",
       "\n",
       "    .dataframe thead th {\n",
       "        text-align: right;\n",
       "    }\n",
       "</style>\n",
       "<table border=\"1\" class=\"dataframe\">\n",
       "  <thead>\n",
       "    <tr style=\"text-align: right;\">\n",
       "      <th></th>\n",
       "      <th>VALOR PREVISTO ATUALIZADO</th>\n",
       "      <th>VALOR LANÇADO</th>\n",
       "      <th>VALOR REALIZADO</th>\n",
       "      <th>porcentaje recaudado</th>\n",
       "      <th>diferencia_recaudacion</th>\n",
       "    </tr>\n",
       "    <tr>\n",
       "      <th>ORIGEM RECEITA</th>\n",
       "      <th></th>\n",
       "      <th></th>\n",
       "      <th></th>\n",
       "      <th></th>\n",
       "      <th></th>\n",
       "    </tr>\n",
       "  </thead>\n",
       "  <tbody>\n",
       "    <tr>\n",
       "      <th>Alienação de Bens</th>\n",
       "      <td>69,459,904,322.00</td>\n",
       "      <td>0.00</td>\n",
       "      <td>26,925,014,385.03</td>\n",
       "      <td>38.76</td>\n",
       "      <td>26,925,014,385.03</td>\n",
       "    </tr>\n",
       "    <tr>\n",
       "      <th>Amortizações de Empréstimos</th>\n",
       "      <td>468,392,937,016.00</td>\n",
       "      <td>0.00</td>\n",
       "      <td>799,034,542,267.89</td>\n",
       "      <td>170.59</td>\n",
       "      <td>799,034,542,267.89</td>\n",
       "    </tr>\n",
       "    <tr>\n",
       "      <th>Operações de Crédito</th>\n",
       "      <td>12,776,862,878,819.19</td>\n",
       "      <td>3,813,949.42</td>\n",
       "      <td>9,857,797,506,467.94</td>\n",
       "      <td>77.15</td>\n",
       "      <td>9,857,793,692,518.52</td>\n",
       "    </tr>\n",
       "    <tr>\n",
       "      <th>Outras Receitas de Capital</th>\n",
       "      <td>1,169,948,076,486.00</td>\n",
       "      <td>0.00</td>\n",
       "      <td>1,722,900,919,485.78</td>\n",
       "      <td>147.26</td>\n",
       "      <td>1,722,900,919,485.78</td>\n",
       "    </tr>\n",
       "    <tr>\n",
       "      <th>Transferências de Capital</th>\n",
       "      <td>1,089,634,563.40</td>\n",
       "      <td>0.00</td>\n",
       "      <td>478,697,459.15</td>\n",
       "      <td>43.93</td>\n",
       "      <td>478,697,459.15</td>\n",
       "    </tr>\n",
       "  </tbody>\n",
       "</table>\n",
       "</div>"
      ],
      "text/plain": [
       "                             VALOR PREVISTO ATUALIZADO  VALOR LANÇADO  \\\n",
       "ORIGEM RECEITA                                                          \n",
       "Alienação de Bens                    69,459,904,322.00           0.00   \n",
       "Amortizações de Empréstimos         468,392,937,016.00           0.00   \n",
       "Operações de Crédito             12,776,862,878,819.19   3,813,949.42   \n",
       "Outras Receitas de Capital        1,169,948,076,486.00           0.00   \n",
       "Transferências de Capital             1,089,634,563.40           0.00   \n",
       "\n",
       "                                 VALOR REALIZADO  porcentaje recaudado  \\\n",
       "ORIGEM RECEITA                                                           \n",
       "Alienação de Bens              26,925,014,385.03                 38.76   \n",
       "Amortizações de Empréstimos   799,034,542,267.89                170.59   \n",
       "Operações de Crédito        9,857,797,506,467.94                 77.15   \n",
       "Outras Receitas de Capital  1,722,900,919,485.78                147.26   \n",
       "Transferências de Capital         478,697,459.15                 43.93   \n",
       "\n",
       "                             diferencia_recaudacion  \n",
       "ORIGEM RECEITA                                       \n",
       "Alienação de Bens                 26,925,014,385.03  \n",
       "Amortizações de Empréstimos      799,034,542,267.89  \n",
       "Operações de Crédito           9,857,793,692,518.52  \n",
       "Outras Receitas de Capital     1,722,900,919,485.78  \n",
       "Transferências de Capital            478,697,459.15  "
      ]
     },
     "execution_count": 34,
     "metadata": {},
     "output_type": "execute_result"
    }
   ],
   "source": [
    "ingresos_capital = datos_brasil[datos_brasil[\"CATEGORIA ECONÔMICA\"] == \"Receitas de Capital\"]\n",
    "fs.info_cat(ingresos_capital, \"ORIGEM RECEITA\")"
   ]
  },
  {
   "cell_type": "markdown",
   "metadata": {},
   "source": [
    "#### *Ingresos de capital - intrapresupuestarios*"
   ]
  },
  {
   "cell_type": "code",
   "execution_count": 35,
   "metadata": {},
   "outputs": [
    {
     "data": {
      "text/html": [
       "<div>\n",
       "<style scoped>\n",
       "    .dataframe tbody tr th:only-of-type {\n",
       "        vertical-align: middle;\n",
       "    }\n",
       "\n",
       "    .dataframe tbody tr th {\n",
       "        vertical-align: top;\n",
       "    }\n",
       "\n",
       "    .dataframe thead th {\n",
       "        text-align: right;\n",
       "    }\n",
       "</style>\n",
       "<table border=\"1\" class=\"dataframe\">\n",
       "  <thead>\n",
       "    <tr style=\"text-align: right;\">\n",
       "      <th></th>\n",
       "      <th>VALOR PREVISTO ATUALIZADO</th>\n",
       "      <th>VALOR LANÇADO</th>\n",
       "      <th>VALOR REALIZADO</th>\n",
       "      <th>porcentaje recaudado</th>\n",
       "      <th>diferencia_recaudacion</th>\n",
       "    </tr>\n",
       "    <tr>\n",
       "      <th>ORIGEM RECEITA</th>\n",
       "      <th></th>\n",
       "      <th></th>\n",
       "      <th></th>\n",
       "      <th></th>\n",
       "      <th></th>\n",
       "    </tr>\n",
       "  </thead>\n",
       "  <tbody>\n",
       "    <tr>\n",
       "      <th>Alienação de Bens</th>\n",
       "      <td>0.00</td>\n",
       "      <td>0.00</td>\n",
       "      <td>108,886,708.01</td>\n",
       "      <td>Previsión de 0</td>\n",
       "      <td>108,886,708.01</td>\n",
       "    </tr>\n",
       "    <tr>\n",
       "      <th>Operações de Crédito</th>\n",
       "      <td>10,808,411,537.00</td>\n",
       "      <td>0.00</td>\n",
       "      <td>28,141,949,016.32</td>\n",
       "      <td>260.37</td>\n",
       "      <td>28,141,949,016.32</td>\n",
       "    </tr>\n",
       "  </tbody>\n",
       "</table>\n",
       "</div>"
      ],
      "text/plain": [
       "                      VALOR PREVISTO ATUALIZADO  VALOR LANÇADO  \\\n",
       "ORIGEM RECEITA                                                   \n",
       "Alienação de Bens                          0.00           0.00   \n",
       "Operações de Crédito          10,808,411,537.00           0.00   \n",
       "\n",
       "                       VALOR REALIZADO porcentaje recaudado  \\\n",
       "ORIGEM RECEITA                                                \n",
       "Alienação de Bens       108,886,708.01       Previsión de 0   \n",
       "Operações de Crédito 28,141,949,016.32               260.37   \n",
       "\n",
       "                      diferencia_recaudacion  \n",
       "ORIGEM RECEITA                                \n",
       "Alienação de Bens             108,886,708.01  \n",
       "Operações de Crédito       28,141,949,016.32  "
      ]
     },
     "execution_count": 35,
     "metadata": {},
     "output_type": "execute_result"
    }
   ],
   "source": [
    "ingresos_capital_intrapresupuestarios = datos_brasil[datos_brasil[\"CATEGORIA ECONÔMICA\"] == \"Receitas de Capital - intra-orçamentárias\"]\n",
    "fs.info_cat(ingresos_capital_intrapresupuestarios, \"ORIGEM RECEITA\")"
   ]
  },
  {
   "cell_type": "code",
   "execution_count": 36,
   "metadata": {},
   "outputs": [
    {
     "data": {
      "text/html": [
       "<div>\n",
       "<style scoped>\n",
       "    .dataframe tbody tr th:only-of-type {\n",
       "        vertical-align: middle;\n",
       "    }\n",
       "\n",
       "    .dataframe tbody tr th {\n",
       "        vertical-align: top;\n",
       "    }\n",
       "\n",
       "    .dataframe thead th {\n",
       "        text-align: right;\n",
       "    }\n",
       "</style>\n",
       "<table border=\"1\" class=\"dataframe\">\n",
       "  <thead>\n",
       "    <tr style=\"text-align: right;\">\n",
       "      <th></th>\n",
       "      <th>VALOR PREVISTO ATUALIZADO</th>\n",
       "      <th>VALOR LANÇADO</th>\n",
       "      <th>VALOR REALIZADO</th>\n",
       "      <th>porcentaje recaudado</th>\n",
       "      <th>diferencia_recaudacion</th>\n",
       "    </tr>\n",
       "    <tr>\n",
       "      <th>ESPÉCIE RECEITA</th>\n",
       "      <th></th>\n",
       "      <th></th>\n",
       "      <th></th>\n",
       "      <th></th>\n",
       "      <th></th>\n",
       "    </tr>\n",
       "  </thead>\n",
       "  <tbody>\n",
       "    <tr>\n",
       "      <th>Alienação de bens imóveis</th>\n",
       "      <td>37,158,692,141.00</td>\n",
       "      <td>0.00</td>\n",
       "      <td>1,816,905,074.09</td>\n",
       "      <td>4.89</td>\n",
       "      <td>1,816,905,074.09</td>\n",
       "    </tr>\n",
       "    <tr>\n",
       "      <th>Alienação de bens intangíveis</th>\n",
       "      <td>17,119,803,896.00</td>\n",
       "      <td>0.00</td>\n",
       "      <td>4,041,282,175.35</td>\n",
       "      <td>23.61</td>\n",
       "      <td>4,041,282,175.35</td>\n",
       "    </tr>\n",
       "    <tr>\n",
       "      <th>Alienação de bens móveis</th>\n",
       "      <td>15,181,408,285.00</td>\n",
       "      <td>0.00</td>\n",
       "      <td>21,175,713,843.60</td>\n",
       "      <td>139.48</td>\n",
       "      <td>21,175,713,843.60</td>\n",
       "    </tr>\n",
       "  </tbody>\n",
       "</table>\n",
       "</div>"
      ],
      "text/plain": [
       "                               VALOR PREVISTO ATUALIZADO  VALOR LANÇADO  \\\n",
       "ESPÉCIE RECEITA                                                           \n",
       "Alienação de bens imóveis              37,158,692,141.00           0.00   \n",
       "Alienação de bens intangíveis          17,119,803,896.00           0.00   \n",
       "Alienação de bens móveis               15,181,408,285.00           0.00   \n",
       "\n",
       "                                VALOR REALIZADO  porcentaje recaudado  \\\n",
       "ESPÉCIE RECEITA                                                         \n",
       "Alienação de bens imóveis      1,816,905,074.09                  4.89   \n",
       "Alienação de bens intangíveis  4,041,282,175.35                 23.61   \n",
       "Alienação de bens móveis      21,175,713,843.60                139.48   \n",
       "\n",
       "                               diferencia_recaudacion  \n",
       "ESPÉCIE RECEITA                                        \n",
       "Alienação de bens imóveis            1,816,905,074.09  \n",
       "Alienação de bens intangíveis        4,041,282,175.35  \n",
       "Alienação de bens móveis            21,175,713,843.60  "
      ]
     },
     "execution_count": 36,
     "metadata": {},
     "output_type": "execute_result"
    }
   ],
   "source": [
    "ingresos_capital_intrapresupuestarios = datos_brasil[datos_brasil[\"ORIGEM RECEITA\"] == \"Alienação de Bens\"]\n",
    "fs.info_cat(ingresos_capital_intrapresupuestarios, \"ESPÉCIE RECEITA\")"
   ]
  },
  {
   "cell_type": "markdown",
   "metadata": {},
   "source": [
    "#### *Entradas sin información*"
   ]
  },
  {
   "cell_type": "code",
   "execution_count": 37,
   "metadata": {},
   "outputs": [
    {
     "data": {
      "text/html": [
       "<div>\n",
       "<style scoped>\n",
       "    .dataframe tbody tr th:only-of-type {\n",
       "        vertical-align: middle;\n",
       "    }\n",
       "\n",
       "    .dataframe tbody tr th {\n",
       "        vertical-align: top;\n",
       "    }\n",
       "\n",
       "    .dataframe thead th {\n",
       "        text-align: right;\n",
       "    }\n",
       "</style>\n",
       "<table border=\"1\" class=\"dataframe\">\n",
       "  <thead>\n",
       "    <tr style=\"text-align: right;\">\n",
       "      <th></th>\n",
       "      <th>VALOR PREVISTO ATUALIZADO</th>\n",
       "      <th>VALOR LANÇADO</th>\n",
       "      <th>VALOR REALIZADO</th>\n",
       "      <th>porcentaje recaudado</th>\n",
       "      <th>diferencia_recaudacion</th>\n",
       "    </tr>\n",
       "    <tr>\n",
       "      <th>ESPÉCIE RECEITA</th>\n",
       "      <th></th>\n",
       "      <th></th>\n",
       "      <th></th>\n",
       "      <th></th>\n",
       "      <th></th>\n",
       "    </tr>\n",
       "  </thead>\n",
       "  <tbody>\n",
       "    <tr>\n",
       "      <th>Sem informação</th>\n",
       "      <td>0.00</td>\n",
       "      <td>2,812,347,576.39</td>\n",
       "      <td>46.57</td>\n",
       "      <td>Previsión de 0</td>\n",
       "      <td>-2,812,347,529.82</td>\n",
       "    </tr>\n",
       "  </tbody>\n",
       "</table>\n",
       "</div>"
      ],
      "text/plain": [
       "                 VALOR PREVISTO ATUALIZADO    VALOR LANÇADO  VALOR REALIZADO  \\\n",
       "ESPÉCIE RECEITA                                                                \n",
       "Sem informação                        0.00 2,812,347,576.39            46.57   \n",
       "\n",
       "                porcentaje recaudado  diferencia_recaudacion  \n",
       "ESPÉCIE RECEITA                                               \n",
       "Sem informação        Previsión de 0       -2,812,347,529.82  "
      ]
     },
     "execution_count": 37,
     "metadata": {},
     "output_type": "execute_result"
    }
   ],
   "source": [
    "ingresos_sin_info = datos_brasil[datos_brasil[\"ORIGEM RECEITA\"] == \"Sem informação\"]\n",
    "fs.info_cat(ingresos_sin_info, \"ESPÉCIE RECEITA\")"
   ]
  },
  {
   "cell_type": "markdown",
   "metadata": {},
   "source": [
    "## Análisis por entidad gubernamental"
   ]
  },
  {
   "cell_type": "code",
   "execution_count": 3,
   "metadata": {},
   "outputs": [],
   "source": [
    "pd.options.display.float_format = '{:,.2f}'.format"
   ]
  },
  {
   "cell_type": "code",
   "execution_count": 4,
   "metadata": {},
   "outputs": [
    {
     "data": {
      "text/html": [
       "<div>\n",
       "<style scoped>\n",
       "    .dataframe tbody tr th:only-of-type {\n",
       "        vertical-align: middle;\n",
       "    }\n",
       "\n",
       "    .dataframe tbody tr th {\n",
       "        vertical-align: top;\n",
       "    }\n",
       "\n",
       "    .dataframe thead th {\n",
       "        text-align: right;\n",
       "    }\n",
       "</style>\n",
       "<table border=\"1\" class=\"dataframe\">\n",
       "  <thead>\n",
       "    <tr style=\"text-align: right;\">\n",
       "      <th></th>\n",
       "      <th>NOME ÓRGÃO SUPERIOR</th>\n",
       "      <th>VALOR PREVISTO ATUALIZADO</th>\n",
       "      <th>VALOR LANÇADO</th>\n",
       "      <th>VALOR REALIZADO</th>\n",
       "      <th>porcentaje recaudado</th>\n",
       "      <th>diferencia_recaudacion</th>\n",
       "    </tr>\n",
       "  </thead>\n",
       "  <tbody>\n",
       "    <tr>\n",
       "      <th>0</th>\n",
       "      <td>Advocacia-Geral da União</td>\n",
       "      <td>3,726,053,651.00</td>\n",
       "      <td>0.00</td>\n",
       "      <td>334,962,977.49</td>\n",
       "      <td>8.99</td>\n",
       "      <td>334,962,977.49</td>\n",
       "    </tr>\n",
       "    <tr>\n",
       "      <th>1</th>\n",
       "      <td>Controladoria-Geral da União</td>\n",
       "      <td>740,692,856.00</td>\n",
       "      <td>0.00</td>\n",
       "      <td>7,555,037.45</td>\n",
       "      <td>1.02</td>\n",
       "      <td>7,555,037.45</td>\n",
       "    </tr>\n",
       "    <tr>\n",
       "      <th>2</th>\n",
       "      <td>Ministério da Agricultura, Pecuária e Abastec</td>\n",
       "      <td>87,492,532,893.00</td>\n",
       "      <td>0.00</td>\n",
       "      <td>56,433,953,381.26</td>\n",
       "      <td>64.50</td>\n",
       "      <td>56,433,953,381.26</td>\n",
       "    </tr>\n",
       "    <tr>\n",
       "      <th>3</th>\n",
       "      <td>Ministério da Cidadania</td>\n",
       "      <td>43,958,882,249.00</td>\n",
       "      <td>0.00</td>\n",
       "      <td>5,143,388,129.18</td>\n",
       "      <td>11.70</td>\n",
       "      <td>5,143,388,129.18</td>\n",
       "    </tr>\n",
       "    <tr>\n",
       "      <th>4</th>\n",
       "      <td>Ministério da Ciência, Tecnologia, Inovações</td>\n",
       "      <td>62,254,372,476.31</td>\n",
       "      <td>79,230.26</td>\n",
       "      <td>34,791,131,893.58</td>\n",
       "      <td>55.89</td>\n",
       "      <td>34,791,052,663.32</td>\n",
       "    </tr>\n",
       "    <tr>\n",
       "      <th>5</th>\n",
       "      <td>Ministério da Defesa</td>\n",
       "      <td>198,522,792,044.00</td>\n",
       "      <td>0.00</td>\n",
       "      <td>104,665,740,965.96</td>\n",
       "      <td>52.72</td>\n",
       "      <td>104,665,740,965.96</td>\n",
       "    </tr>\n",
       "    <tr>\n",
       "      <th>6</th>\n",
       "      <td>Ministério da Economia</td>\n",
       "      <td>26,486,420,136,019.00</td>\n",
       "      <td>5,367,369,003,775.87</td>\n",
       "      <td>24,709,753,338,137.24</td>\n",
       "      <td>93.29</td>\n",
       "      <td>19,342,384,334,361.37</td>\n",
       "    </tr>\n",
       "    <tr>\n",
       "      <th>7</th>\n",
       "      <td>Ministério da Educação</td>\n",
       "      <td>609,585,887,826.00</td>\n",
       "      <td>3,516,427.16</td>\n",
       "      <td>221,589,353,642.78</td>\n",
       "      <td>36.35</td>\n",
       "      <td>221,585,837,215.62</td>\n",
       "    </tr>\n",
       "    <tr>\n",
       "      <th>8</th>\n",
       "      <td>Ministério da Infraestrutura</td>\n",
       "      <td>119,972,882,836.00</td>\n",
       "      <td>0.00</td>\n",
       "      <td>136,206,900,382.34</td>\n",
       "      <td>113.53</td>\n",
       "      <td>136,206,900,382.34</td>\n",
       "    </tr>\n",
       "    <tr>\n",
       "      <th>9</th>\n",
       "      <td>Ministério da Justiça e Segurança Pública</td>\n",
       "      <td>36,304,805,355.02</td>\n",
       "      <td>0.00</td>\n",
       "      <td>25,219,154,299.03</td>\n",
       "      <td>69.47</td>\n",
       "      <td>25,219,154,299.03</td>\n",
       "    </tr>\n",
       "    <tr>\n",
       "      <th>10</th>\n",
       "      <td>Ministério da Mulher, Família e Direitos Huma</td>\n",
       "      <td>843,366,940.00</td>\n",
       "      <td>0.00</td>\n",
       "      <td>211,689,152.70</td>\n",
       "      <td>25.10</td>\n",
       "      <td>211,689,152.70</td>\n",
       "    </tr>\n",
       "    <tr>\n",
       "      <th>11</th>\n",
       "      <td>Ministério da Pesca e Aquicultura</td>\n",
       "      <td>40,939,194.00</td>\n",
       "      <td>0.00</td>\n",
       "      <td>57,749,317.66</td>\n",
       "      <td>141.06</td>\n",
       "      <td>57,749,317.66</td>\n",
       "    </tr>\n",
       "    <tr>\n",
       "      <th>12</th>\n",
       "      <td>Ministério da Previdência Social</td>\n",
       "      <td>37,327,399.00</td>\n",
       "      <td>0.00</td>\n",
       "      <td>14,240,783.79</td>\n",
       "      <td>38.15</td>\n",
       "      <td>14,240,783.79</td>\n",
       "    </tr>\n",
       "    <tr>\n",
       "      <th>13</th>\n",
       "      <td>Ministério da Saúde</td>\n",
       "      <td>46,656,321,844.00</td>\n",
       "      <td>125,949,190.83</td>\n",
       "      <td>37,786,245,892.63</td>\n",
       "      <td>80.99</td>\n",
       "      <td>37,660,296,701.80</td>\n",
       "    </tr>\n",
       "    <tr>\n",
       "      <th>14</th>\n",
       "      <td>Ministério das Comunicações</td>\n",
       "      <td>50,303,390,042.00</td>\n",
       "      <td>11,831.64</td>\n",
       "      <td>40,047,759,133.20</td>\n",
       "      <td>79.61</td>\n",
       "      <td>40,047,747,301.56</td>\n",
       "    </tr>\n",
       "    <tr>\n",
       "      <th>15</th>\n",
       "      <td>Ministério das Mulheres, Igualdade Racial, da</td>\n",
       "      <td>109,699,610.00</td>\n",
       "      <td>0.00</td>\n",
       "      <td>136,845,774.52</td>\n",
       "      <td>124.75</td>\n",
       "      <td>136,845,774.52</td>\n",
       "    </tr>\n",
       "    <tr>\n",
       "      <th>16</th>\n",
       "      <td>Ministério das Relações Exteriores</td>\n",
       "      <td>5,328,738,148.00</td>\n",
       "      <td>0.00</td>\n",
       "      <td>2,931,914,529.32</td>\n",
       "      <td>55.02</td>\n",
       "      <td>2,931,914,529.32</td>\n",
       "    </tr>\n",
       "    <tr>\n",
       "      <th>17</th>\n",
       "      <td>Ministério de Minas e Energia</td>\n",
       "      <td>354,233,973,334.00</td>\n",
       "      <td>13,136,233,568.97</td>\n",
       "      <td>191,485,924,485.02</td>\n",
       "      <td>54.06</td>\n",
       "      <td>178,349,690,916.05</td>\n",
       "    </tr>\n",
       "    <tr>\n",
       "      <th>18</th>\n",
       "      <td>Ministério do Desenvolvimento Agrário</td>\n",
       "      <td>558,355,581.00</td>\n",
       "      <td>0.00</td>\n",
       "      <td>514,953,670.74</td>\n",
       "      <td>92.23</td>\n",
       "      <td>514,953,670.74</td>\n",
       "    </tr>\n",
       "    <tr>\n",
       "      <th>19</th>\n",
       "      <td>Ministério do Desenvolvimento Regional</td>\n",
       "      <td>125,967,254,487.00</td>\n",
       "      <td>0.00</td>\n",
       "      <td>19,356,487,150.32</td>\n",
       "      <td>15.37</td>\n",
       "      <td>19,356,487,150.32</td>\n",
       "    </tr>\n",
       "    <tr>\n",
       "      <th>20</th>\n",
       "      <td>Ministério do Esporte</td>\n",
       "      <td>120,909,686.40</td>\n",
       "      <td>0.00</td>\n",
       "      <td>53,896,237.79</td>\n",
       "      <td>44.58</td>\n",
       "      <td>53,896,237.79</td>\n",
       "    </tr>\n",
       "    <tr>\n",
       "      <th>21</th>\n",
       "      <td>Ministério do Meio Ambiente</td>\n",
       "      <td>12,106,708,057.00</td>\n",
       "      <td>4,506.00</td>\n",
       "      <td>7,127,409,730.62</td>\n",
       "      <td>58.87</td>\n",
       "      <td>7,127,405,224.62</td>\n",
       "    </tr>\n",
       "    <tr>\n",
       "      <th>22</th>\n",
       "      <td>Ministério do Trabalho e Emprego</td>\n",
       "      <td>14,328,825,280.00</td>\n",
       "      <td>0.00</td>\n",
       "      <td>13,484,362,951.59</td>\n",
       "      <td>94.11</td>\n",
       "      <td>13,484,362,951.59</td>\n",
       "    </tr>\n",
       "    <tr>\n",
       "      <th>23</th>\n",
       "      <td>Ministério do Turismo</td>\n",
       "      <td>13,828,150,327.00</td>\n",
       "      <td>51,866,238.80</td>\n",
       "      <td>13,535,637,878.06</td>\n",
       "      <td>97.88</td>\n",
       "      <td>13,483,771,639.26</td>\n",
       "    </tr>\n",
       "    <tr>\n",
       "      <th>24</th>\n",
       "      <td>Presidência da República</td>\n",
       "      <td>64,130,813,734.00</td>\n",
       "      <td>0.00</td>\n",
       "      <td>16,491,839,911.74</td>\n",
       "      <td>25.72</td>\n",
       "      <td>16,491,839,911.74</td>\n",
       "    </tr>\n",
       "  </tbody>\n",
       "</table>\n",
       "</div>"
      ],
      "text/plain": [
       "                              NOME ÓRGÃO SUPERIOR  VALOR PREVISTO ATUALIZADO  \\\n",
       "0                        Advocacia-Geral da União           3,726,053,651.00   \n",
       "1                    Controladoria-Geral da União             740,692,856.00   \n",
       "2   Ministério da Agricultura, Pecuária e Abastec          87,492,532,893.00   \n",
       "3                         Ministério da Cidadania          43,958,882,249.00   \n",
       "4   Ministério da Ciência, Tecnologia, Inovações           62,254,372,476.31   \n",
       "5                            Ministério da Defesa         198,522,792,044.00   \n",
       "6                          Ministério da Economia      26,486,420,136,019.00   \n",
       "7                          Ministério da Educação         609,585,887,826.00   \n",
       "8                    Ministério da Infraestrutura         119,972,882,836.00   \n",
       "9       Ministério da Justiça e Segurança Pública          36,304,805,355.02   \n",
       "10  Ministério da Mulher, Família e Direitos Huma             843,366,940.00   \n",
       "11              Ministério da Pesca e Aquicultura              40,939,194.00   \n",
       "12               Ministério da Previdência Social              37,327,399.00   \n",
       "13                            Ministério da Saúde          46,656,321,844.00   \n",
       "14                    Ministério das Comunicações          50,303,390,042.00   \n",
       "15  Ministério das Mulheres, Igualdade Racial, da             109,699,610.00   \n",
       "16             Ministério das Relações Exteriores           5,328,738,148.00   \n",
       "17                  Ministério de Minas e Energia         354,233,973,334.00   \n",
       "18          Ministério do Desenvolvimento Agrário             558,355,581.00   \n",
       "19         Ministério do Desenvolvimento Regional         125,967,254,487.00   \n",
       "20                          Ministério do Esporte             120,909,686.40   \n",
       "21                    Ministério do Meio Ambiente          12,106,708,057.00   \n",
       "22               Ministério do Trabalho e Emprego          14,328,825,280.00   \n",
       "23                          Ministério do Turismo          13,828,150,327.00   \n",
       "24                       Presidência da República          64,130,813,734.00   \n",
       "\n",
       "          VALOR LANÇADO       VALOR REALIZADO  porcentaje recaudado  \\\n",
       "0                  0.00        334,962,977.49                  8.99   \n",
       "1                  0.00          7,555,037.45                  1.02   \n",
       "2                  0.00     56,433,953,381.26                 64.50   \n",
       "3                  0.00      5,143,388,129.18                 11.70   \n",
       "4             79,230.26     34,791,131,893.58                 55.89   \n",
       "5                  0.00    104,665,740,965.96                 52.72   \n",
       "6  5,367,369,003,775.87 24,709,753,338,137.24                 93.29   \n",
       "7          3,516,427.16    221,589,353,642.78                 36.35   \n",
       "8                  0.00    136,206,900,382.34                113.53   \n",
       "9                  0.00     25,219,154,299.03                 69.47   \n",
       "10                 0.00        211,689,152.70                 25.10   \n",
       "11                 0.00         57,749,317.66                141.06   \n",
       "12                 0.00         14,240,783.79                 38.15   \n",
       "13       125,949,190.83     37,786,245,892.63                 80.99   \n",
       "14            11,831.64     40,047,759,133.20                 79.61   \n",
       "15                 0.00        136,845,774.52                124.75   \n",
       "16                 0.00      2,931,914,529.32                 55.02   \n",
       "17    13,136,233,568.97    191,485,924,485.02                 54.06   \n",
       "18                 0.00        514,953,670.74                 92.23   \n",
       "19                 0.00     19,356,487,150.32                 15.37   \n",
       "20                 0.00         53,896,237.79                 44.58   \n",
       "21             4,506.00      7,127,409,730.62                 58.87   \n",
       "22                 0.00     13,484,362,951.59                 94.11   \n",
       "23        51,866,238.80     13,535,637,878.06                 97.88   \n",
       "24                 0.00     16,491,839,911.74                 25.72   \n",
       "\n",
       "    diferencia_recaudacion  \n",
       "0           334,962,977.49  \n",
       "1             7,555,037.45  \n",
       "2        56,433,953,381.26  \n",
       "3         5,143,388,129.18  \n",
       "4        34,791,052,663.32  \n",
       "5       104,665,740,965.96  \n",
       "6    19,342,384,334,361.37  \n",
       "7       221,585,837,215.62  \n",
       "8       136,206,900,382.34  \n",
       "9        25,219,154,299.03  \n",
       "10          211,689,152.70  \n",
       "11           57,749,317.66  \n",
       "12           14,240,783.79  \n",
       "13       37,660,296,701.80  \n",
       "14       40,047,747,301.56  \n",
       "15          136,845,774.52  \n",
       "16        2,931,914,529.32  \n",
       "17      178,349,690,916.05  \n",
       "18          514,953,670.74  \n",
       "19       19,356,487,150.32  \n",
       "20           53,896,237.79  \n",
       "21        7,127,405,224.62  \n",
       "22       13,484,362,951.59  \n",
       "23       13,483,771,639.26  \n",
       "24       16,491,839,911.74  "
      ]
     },
     "execution_count": 4,
     "metadata": {},
     "output_type": "execute_result"
    }
   ],
   "source": [
    "# Ingresos por entidad gubernamental\n",
    "entidad_gub = fs.info_cat(datos_brasil, \"NOME ÓRGÃO SUPERIOR\").reset_index()\n",
    "entidad_gub"
   ]
  },
  {
   "cell_type": "markdown",
   "metadata": {},
   "source": [
    "A continuación vamos a realizar un análisis detallado de los ingresos obtenidos por cada ministerio."
   ]
  },
  {
   "cell_type": "markdown",
   "metadata": {},
   "source": [
    "### *Procuraduría General de la Unión (Advocacia-Geral da União)*"
   ]
  },
  {
   "cell_type": "code",
   "execution_count": 5,
   "metadata": {},
   "outputs": [
    {
     "name": "stdout",
     "output_type": "stream",
     "text": [
      "Los órganos de los que se compone el Advocacia-Geral da União son: ['Advocacia-Geral da União - Unidades com vínculo direto']\n",
      "Las unidades gestoras que componen los órganos del Advocacia-Geral da União son: ['COORD. GERAL DE ORC. FIN. E ANAL. CONT. - AGU']\n",
      "Los ingresos entre 2013 y 2025 del Advocacia-Geral da União son: \n",
      "\n"
     ]
    },
    {
     "data": {
      "text/html": [
       "<div>\n",
       "<style scoped>\n",
       "    .dataframe tbody tr th:only-of-type {\n",
       "        vertical-align: middle;\n",
       "    }\n",
       "\n",
       "    .dataframe tbody tr th {\n",
       "        vertical-align: top;\n",
       "    }\n",
       "\n",
       "    .dataframe thead th {\n",
       "        text-align: right;\n",
       "    }\n",
       "</style>\n",
       "<table border=\"1\" class=\"dataframe\">\n",
       "  <thead>\n",
       "    <tr style=\"text-align: right;\">\n",
       "      <th></th>\n",
       "      <th>VALOR PREVISTO ATUALIZADO</th>\n",
       "      <th>VALOR LANÇADO</th>\n",
       "      <th>VALOR REALIZADO</th>\n",
       "      <th>porcentaje recaudado</th>\n",
       "      <th>diferencia_recaudacion</th>\n",
       "    </tr>\n",
       "    <tr>\n",
       "      <th>NOME ÓRGÃO SUPERIOR</th>\n",
       "      <th></th>\n",
       "      <th></th>\n",
       "      <th></th>\n",
       "      <th></th>\n",
       "      <th></th>\n",
       "    </tr>\n",
       "  </thead>\n",
       "  <tbody>\n",
       "    <tr>\n",
       "      <th>Advocacia-Geral da União</th>\n",
       "      <td>3,726,053,651.00</td>\n",
       "      <td>0.00</td>\n",
       "      <td>334,962,977.49</td>\n",
       "      <td>8.99</td>\n",
       "      <td>334,962,977.49</td>\n",
       "    </tr>\n",
       "  </tbody>\n",
       "</table>\n",
       "</div>"
      ],
      "text/plain": [
       "                          VALOR PREVISTO ATUALIZADO  VALOR LANÇADO  \\\n",
       "NOME ÓRGÃO SUPERIOR                                                  \n",
       "Advocacia-Geral da União           3,726,053,651.00           0.00   \n",
       "\n",
       "                          VALOR REALIZADO  porcentaje recaudado  \\\n",
       "NOME ÓRGÃO SUPERIOR                                               \n",
       "Advocacia-Geral da União   334,962,977.49                  8.99   \n",
       "\n",
       "                          diferencia_recaudacion  \n",
       "NOME ÓRGÃO SUPERIOR                               \n",
       "Advocacia-Geral da União          334,962,977.49  "
      ]
     },
     "execution_count": 5,
     "metadata": {},
     "output_type": "execute_result"
    }
   ],
   "source": [
    "# Vemos la información general del ministerio, sus ingresos y las unidades ministeriales que lo componen\n",
    "fs.info_ministerio(datos_brasil, \"Advocacia-Geral da União\")"
   ]
  },
  {
   "cell_type": "code",
   "execution_count": 7,
   "metadata": {},
   "outputs": [
    {
     "data": {
      "text/html": [
       "<div>\n",
       "<style scoped>\n",
       "    .dataframe tbody tr th:only-of-type {\n",
       "        vertical-align: middle;\n",
       "    }\n",
       "\n",
       "    .dataframe tbody tr th {\n",
       "        vertical-align: top;\n",
       "    }\n",
       "\n",
       "    .dataframe thead th {\n",
       "        text-align: right;\n",
       "    }\n",
       "</style>\n",
       "<table border=\"1\" class=\"dataframe\">\n",
       "  <thead>\n",
       "    <tr style=\"text-align: right;\">\n",
       "      <th></th>\n",
       "      <th>VALOR LANÇADO</th>\n",
       "      <th>VALOR REALIZADO</th>\n",
       "    </tr>\n",
       "    <tr>\n",
       "      <th>ANO EXERCÍCIO</th>\n",
       "      <th></th>\n",
       "      <th></th>\n",
       "    </tr>\n",
       "  </thead>\n",
       "  <tbody>\n",
       "    <tr>\n",
       "      <th>2013</th>\n",
       "      <td>0.00</td>\n",
       "      <td>79,852,984.21</td>\n",
       "    </tr>\n",
       "    <tr>\n",
       "      <th>2014</th>\n",
       "      <td>0.00</td>\n",
       "      <td>81,496,388.31</td>\n",
       "    </tr>\n",
       "    <tr>\n",
       "      <th>2015</th>\n",
       "      <td>0.00</td>\n",
       "      <td>101,197,295.07</td>\n",
       "    </tr>\n",
       "    <tr>\n",
       "      <th>2016</th>\n",
       "      <td>0.00</td>\n",
       "      <td>45,835,844.35</td>\n",
       "    </tr>\n",
       "    <tr>\n",
       "      <th>2017</th>\n",
       "      <td>0.00</td>\n",
       "      <td>20,994,103.08</td>\n",
       "    </tr>\n",
       "    <tr>\n",
       "      <th>2018</th>\n",
       "      <td>0.00</td>\n",
       "      <td>4,429,290.22</td>\n",
       "    </tr>\n",
       "    <tr>\n",
       "      <th>2019</th>\n",
       "      <td>0.00</td>\n",
       "      <td>1,157,072.25</td>\n",
       "    </tr>\n",
       "    <tr>\n",
       "      <th>2020</th>\n",
       "      <td>0.00</td>\n",
       "      <td>-0.00</td>\n",
       "    </tr>\n",
       "    <tr>\n",
       "      <th>2021</th>\n",
       "      <td>0.00</td>\n",
       "      <td>0.00</td>\n",
       "    </tr>\n",
       "  </tbody>\n",
       "</table>\n",
       "</div>"
      ],
      "text/plain": [
       "               VALOR LANÇADO  VALOR REALIZADO\n",
       "ANO EXERCÍCIO                                \n",
       "2013                    0.00    79,852,984.21\n",
       "2014                    0.00    81,496,388.31\n",
       "2015                    0.00   101,197,295.07\n",
       "2016                    0.00    45,835,844.35\n",
       "2017                    0.00    20,994,103.08\n",
       "2018                    0.00     4,429,290.22\n",
       "2019                    0.00     1,157,072.25\n",
       "2020                    0.00            -0.00\n",
       "2021                    0.00             0.00"
      ]
     },
     "execution_count": 7,
     "metadata": {},
     "output_type": "execute_result"
    }
   ],
   "source": [
    "# Vemos la evolución temporal de los ingresos del ministerio\n",
    "temporal_advocacia = fs.info_ministerio(datos_brasil, \"Advocacia-Geral da União\")\n",
    "temporal_advocacia"
   ]
  },
  {
   "cell_type": "code",
   "execution_count": 14,
   "metadata": {},
   "outputs": [
    {
     "data": {
      "image/png": "[encoded data removed]",
      "text/plain": [
       "<Figure size 640x480 with 1 Axes>"
      ]
     },
     "metadata": {},
     "output_type": "display_data"
    }
   ],
   "source": [
    "fs.evolucion_temporal(temporal_advocacia, \"ANO EXERCÍCIO\",[\"VALOR LANÇADO\", \"VALOR REALIZADO\"])"
   ]
  },
  {
   "cell_type": "markdown",
   "metadata": {},
   "source": [
    "La Procuraduría General de la Unión ha recaudado un total de 334,962,977.49 $ entre 2013 y 2021, representando esto un 8,99 % de lo previsto a recaudar. Asimismo nos encontramos que ha registrado un total de 0 dólares de lo recaudado finalmente. El año en el que más ha recaudado ha sido 2015, y a partir de ese año la recaudación se ve reducida de forma anual."
   ]
  },
  {
   "cell_type": "markdown",
   "metadata": {},
   "source": [
    "### *Contraloría General de la Unión (Controladoria-Geral da União)*"
   ]
  },
  {
   "cell_type": "code",
   "execution_count": 8,
   "metadata": {},
   "outputs": [
    {
     "name": "stdout",
     "output_type": "stream",
     "text": [
      "Los órganos de los que se compone el Controladoria-Geral da União son: ['Controladoria-Geral da União'\n",
      " 'Controladoria-Geral da União - Unidades com vínculo direto']\n",
      "Las unidades gestoras que componen los órganos del Controladoria-Geral da União son: ['DIRETORIA DE GESTAO INTERNA/SE/CGU' 'DIRETORIA DE GESTAO INTERNA(CGU)']\n",
      "Los ingresos entre 2013 y 2025 del Controladoria-Geral da União son: \n",
      "\n"
     ]
    },
    {
     "data": {
      "text/html": [
       "<div>\n",
       "<style scoped>\n",
       "    .dataframe tbody tr th:only-of-type {\n",
       "        vertical-align: middle;\n",
       "    }\n",
       "\n",
       "    .dataframe tbody tr th {\n",
       "        vertical-align: top;\n",
       "    }\n",
       "\n",
       "    .dataframe thead th {\n",
       "        text-align: right;\n",
       "    }\n",
       "</style>\n",
       "<table border=\"1\" class=\"dataframe\">\n",
       "  <thead>\n",
       "    <tr style=\"text-align: right;\">\n",
       "      <th></th>\n",
       "      <th>VALOR PREVISTO ATUALIZADO</th>\n",
       "      <th>VALOR LANÇADO</th>\n",
       "      <th>VALOR REALIZADO</th>\n",
       "      <th>porcentaje recaudado</th>\n",
       "      <th>diferencia_recaudacion</th>\n",
       "    </tr>\n",
       "    <tr>\n",
       "      <th>NOME ÓRGÃO SUPERIOR</th>\n",
       "      <th></th>\n",
       "      <th></th>\n",
       "      <th></th>\n",
       "      <th></th>\n",
       "      <th></th>\n",
       "    </tr>\n",
       "  </thead>\n",
       "  <tbody>\n",
       "    <tr>\n",
       "      <th>Controladoria-Geral da União</th>\n",
       "      <td>740,692,856.00</td>\n",
       "      <td>0.00</td>\n",
       "      <td>7,555,037.45</td>\n",
       "      <td>1.02</td>\n",
       "      <td>7,555,037.45</td>\n",
       "    </tr>\n",
       "  </tbody>\n",
       "</table>\n",
       "</div>"
      ],
      "text/plain": [
       "                              VALOR PREVISTO ATUALIZADO  VALOR LANÇADO  \\\n",
       "NOME ÓRGÃO SUPERIOR                                                      \n",
       "Controladoria-Geral da União             740,692,856.00           0.00   \n",
       "\n",
       "                              VALOR REALIZADO  porcentaje recaudado  \\\n",
       "NOME ÓRGÃO SUPERIOR                                                   \n",
       "Controladoria-Geral da União     7,555,037.45                  1.02   \n",
       "\n",
       "                              diferencia_recaudacion  \n",
       "NOME ÓRGÃO SUPERIOR                                   \n",
       "Controladoria-Geral da União            7,555,037.45  "
      ]
     },
     "execution_count": 8,
     "metadata": {},
     "output_type": "execute_result"
    }
   ],
   "source": [
    "# Vemos la información general del ministerio, sus ingresos y las unidades ministeriales que lo componen\n",
    "fs.info_ministerio(datos_brasil, \"Controladoria-Geral da União\")"
   ]
  },
  {
   "cell_type": "code",
   "execution_count": 9,
   "metadata": {},
   "outputs": [
    {
     "data": {
      "text/html": [
       "<div>\n",
       "<style scoped>\n",
       "    .dataframe tbody tr th:only-of-type {\n",
       "        vertical-align: middle;\n",
       "    }\n",
       "\n",
       "    .dataframe tbody tr th {\n",
       "        vertical-align: top;\n",
       "    }\n",
       "\n",
       "    .dataframe thead th {\n",
       "        text-align: right;\n",
       "    }\n",
       "</style>\n",
       "<table border=\"1\" class=\"dataframe\">\n",
       "  <thead>\n",
       "    <tr style=\"text-align: right;\">\n",
       "      <th></th>\n",
       "      <th>VALOR LANÇADO</th>\n",
       "      <th>VALOR REALIZADO</th>\n",
       "    </tr>\n",
       "    <tr>\n",
       "      <th>ANO EXERCÍCIO</th>\n",
       "      <th></th>\n",
       "      <th></th>\n",
       "    </tr>\n",
       "  </thead>\n",
       "  <tbody>\n",
       "    <tr>\n",
       "      <th>2013</th>\n",
       "      <td>0.00</td>\n",
       "      <td>1,250,774.97</td>\n",
       "    </tr>\n",
       "    <tr>\n",
       "      <th>2014</th>\n",
       "      <td>0.00</td>\n",
       "      <td>266,947.18</td>\n",
       "    </tr>\n",
       "    <tr>\n",
       "      <th>2015</th>\n",
       "      <td>0.00</td>\n",
       "      <td>884,447.32</td>\n",
       "    </tr>\n",
       "    <tr>\n",
       "      <th>2016</th>\n",
       "      <td>0.00</td>\n",
       "      <td>1,277,912.59</td>\n",
       "    </tr>\n",
       "    <tr>\n",
       "      <th>2017</th>\n",
       "      <td>0.00</td>\n",
       "      <td>3,863,278.55</td>\n",
       "    </tr>\n",
       "    <tr>\n",
       "      <th>2018</th>\n",
       "      <td>0.00</td>\n",
       "      <td>11,676.84</td>\n",
       "    </tr>\n",
       "    <tr>\n",
       "      <th>2020</th>\n",
       "      <td>0.00</td>\n",
       "      <td>0.00</td>\n",
       "    </tr>\n",
       "    <tr>\n",
       "      <th>2021</th>\n",
       "      <td>0.00</td>\n",
       "      <td>0.00</td>\n",
       "    </tr>\n",
       "  </tbody>\n",
       "</table>\n",
       "</div>"
      ],
      "text/plain": [
       "               VALOR LANÇADO  VALOR REALIZADO\n",
       "ANO EXERCÍCIO                                \n",
       "2013                    0.00     1,250,774.97\n",
       "2014                    0.00       266,947.18\n",
       "2015                    0.00       884,447.32\n",
       "2016                    0.00     1,277,912.59\n",
       "2017                    0.00     3,863,278.55\n",
       "2018                    0.00        11,676.84\n",
       "2020                    0.00             0.00\n",
       "2021                    0.00             0.00"
      ]
     },
     "execution_count": 9,
     "metadata": {},
     "output_type": "execute_result"
    }
   ],
   "source": [
    "temporal_controladoria = fs.info_ministerio(datos_brasil, \"Controladoria-Geral da União\")\n",
    "temporal_controladoria"
   ]
  },
  {
   "cell_type": "code",
   "execution_count": 10,
   "metadata": {},
   "outputs": [
    {
     "data": {
      "text/html": [
       "<div>\n",
       "<style scoped>\n",
       "    .dataframe tbody tr th:only-of-type {\n",
       "        vertical-align: middle;\n",
       "    }\n",
       "\n",
       "    .dataframe tbody tr th {\n",
       "        vertical-align: top;\n",
       "    }\n",
       "\n",
       "    .dataframe thead th {\n",
       "        text-align: right;\n",
       "    }\n",
       "</style>\n",
       "<table border=\"1\" class=\"dataframe\">\n",
       "  <thead>\n",
       "    <tr style=\"text-align: right;\">\n",
       "      <th></th>\n",
       "      <th></th>\n",
       "      <th>VALOR PREVISTO ATUALIZADO</th>\n",
       "      <th>VALOR LANÇADO</th>\n",
       "      <th>VALOR REALIZADO</th>\n",
       "    </tr>\n",
       "    <tr>\n",
       "      <th>NOME ÓRGÃO</th>\n",
       "      <th>NOME UNIDADE GESTORA</th>\n",
       "      <th></th>\n",
       "      <th></th>\n",
       "      <th></th>\n",
       "    </tr>\n",
       "  </thead>\n",
       "  <tbody>\n",
       "    <tr>\n",
       "      <th>Controladoria-Geral da União</th>\n",
       "      <th>DIRETORIA DE GESTAO INTERNA/SE/CGU</th>\n",
       "      <td>19,176,752.00</td>\n",
       "      <td>0.00</td>\n",
       "      <td>4,346,194.92</td>\n",
       "    </tr>\n",
       "    <tr>\n",
       "      <th>Controladoria-Geral da União - Unidades com vínculo direto</th>\n",
       "      <th>DIRETORIA DE GESTAO INTERNA(CGU)</th>\n",
       "      <td>721,516,104.00</td>\n",
       "      <td>0.00</td>\n",
       "      <td>3,208,842.53</td>\n",
       "    </tr>\n",
       "  </tbody>\n",
       "</table>\n",
       "</div>"
      ],
      "text/plain": [
       "                                                                                       VALOR PREVISTO ATUALIZADO  \\\n",
       "NOME ÓRGÃO                                         NOME UNIDADE GESTORA                                            \n",
       "Controladoria-Geral da União                       DIRETORIA DE GESTAO INTERNA/SE/CGU              19,176,752.00   \n",
       "Controladoria-Geral da União - Unidades com vín... DIRETORIA DE GESTAO INTERNA(CGU)               721,516,104.00   \n",
       "\n",
       "                                                                                       VALOR LANÇADO  \\\n",
       "NOME ÓRGÃO                                         NOME UNIDADE GESTORA                                \n",
       "Controladoria-Geral da União                       DIRETORIA DE GESTAO INTERNA/SE/CGU           0.00   \n",
       "Controladoria-Geral da União - Unidades com vín... DIRETORIA DE GESTAO INTERNA(CGU)             0.00   \n",
       "\n",
       "                                                                                       VALOR REALIZADO  \n",
       "NOME ÓRGÃO                                         NOME UNIDADE GESTORA                                 \n",
       "Controladoria-Geral da União                       DIRETORIA DE GESTAO INTERNA/SE/CGU     4,346,194.92  \n",
       "Controladoria-Geral da União - Unidades com vín... DIRETORIA DE GESTAO INTERNA(CGU)       3,208,842.53  "
      ]
     },
     "execution_count": 10,
     "metadata": {},
     "output_type": "execute_result"
    }
   ],
   "source": [
    "# Vemos la información sobre su composición.\n",
    "fs.info_ministerio(datos_brasil, \"Controladoria-Geral da União\")"
   ]
  },
  {
   "cell_type": "code",
   "execution_count": 11,
   "metadata": {},
   "outputs": [
    {
     "data": {
      "image/png": "[encoded data removed]",
      "text/plain": [
       "<Figure size 640x480 with 1 Axes>"
      ]
     },
     "metadata": {},
     "output_type": "display_data"
    }
   ],
   "source": [
    "fs.evolucion_temporal(temporal_controladoria, \"ANO EXERCÍCIO\",[\"VALOR LANÇADO\", \"VALOR REALIZADO\"])"
   ]
  },
  {
   "cell_type": "markdown",
   "metadata": {},
   "source": [
    "La Contraloría General de la Unión ha recaudado un total de 740.692.856 $ entre 2013 y 2021, representando esto un 1,02 % de lo previsto a recaudar. Asimismo nos encontramos que ha registrado un total de 0 dólares de lo recaudado finalmente. El año en el que más ha recaudado ha sido 2017, año a partir del cual los ingresos de este ministerio se ven completamente reducidos a cero."
   ]
  },
  {
   "cell_type": "markdown",
   "metadata": {},
   "source": [
    "### *Ministerio de Agricultura, Ganadería y Abastecimiento (Ministério da Agricultura, Pecuária e Abastec)* 🐤"
   ]
  },
  {
   "cell_type": "code",
   "execution_count": 11,
   "metadata": {},
   "outputs": [
    {
     "name": "stdout",
     "output_type": "stream",
     "text": [
      "Los órganos de los que se compone el Ministério da Agricultura, Pecuária e Abastec son: ['Empresa Brasileira de Pesquisa Agropecuária'\n",
      " 'Ministério da Agricultura, Pecuária e Abastecimento - Unidades com vínculo direto'\n",
      " 'Companhia Nacional de Abastecimento' 'Serviço Florestal Brasileiro'\n",
      " 'Instituto Nacional de Colonização e Reforma Agrária'\n",
      " 'Fundo de Defesa da Economia Cafeeira'\n",
      " 'Fundo de Terras e da Reforma Agrária'\n",
      " 'Secretaria Especial de Agricultura Familiar e do Desenvolvimento Agrário']\n",
      "Las unidades gestoras que componen los órganos del Ministério da Agricultura, Pecuária e Abastec son: ['EMBRAPA-SETORIAL' 'COORD.-GERAL DE ORCAMENTO E FINANCAS-MAPA'\n",
      " 'COMPANHIA NACIONAL DE ABASTECIMENTO'\n",
      " 'SETORIAL PROG.ORCAMENTARIA E FINANCEIRA-SFB'\n",
      " 'DPTO. DE ADMINISTRACAO FINANCEIRA-DAF - INCRA'\n",
      " 'FUNDO DE DEFESA DA ECON.CAFEEIRA/FUNCAFE/SPA' 'CREDITO FUNDIARIO'\n",
      " 'SEC.ESPEC.DE AGRIC.FAMIL.E DO DESENV.AGRARIO'\n",
      " 'SECRETARIA ESPECIAL DE AQUICULTURA E PESCA/PR'\n",
      " 'COORDENACAO-GERAL DO FUNDO DE TERRAS']\n",
      "Los ingresos entre 2013 y 2025 del Ministério da Agricultura, Pecuária e Abastec son: \n",
      "\n"
     ]
    },
    {
     "data": {
      "text/html": [
       "<div>\n",
       "<style scoped>\n",
       "    .dataframe tbody tr th:only-of-type {\n",
       "        vertical-align: middle;\n",
       "    }\n",
       "\n",
       "    .dataframe tbody tr th {\n",
       "        vertical-align: top;\n",
       "    }\n",
       "\n",
       "    .dataframe thead th {\n",
       "        text-align: right;\n",
       "    }\n",
       "</style>\n",
       "<table border=\"1\" class=\"dataframe\">\n",
       "  <thead>\n",
       "    <tr style=\"text-align: right;\">\n",
       "      <th></th>\n",
       "      <th>VALOR PREVISTO ATUALIZADO</th>\n",
       "      <th>VALOR LANÇADO</th>\n",
       "      <th>VALOR REALIZADO</th>\n",
       "      <th>porcentaje recaudado</th>\n",
       "      <th>diferencia_recaudacion</th>\n",
       "    </tr>\n",
       "    <tr>\n",
       "      <th>NOME ÓRGÃO SUPERIOR</th>\n",
       "      <th></th>\n",
       "      <th></th>\n",
       "      <th></th>\n",
       "      <th></th>\n",
       "      <th></th>\n",
       "    </tr>\n",
       "  </thead>\n",
       "  <tbody>\n",
       "    <tr>\n",
       "      <th>Ministério da Agricultura, Pecuária e Abastec</th>\n",
       "      <td>87,492,532,893.00</td>\n",
       "      <td>0.00</td>\n",
       "      <td>56,433,953,381.26</td>\n",
       "      <td>64.50</td>\n",
       "      <td>56,433,953,381.26</td>\n",
       "    </tr>\n",
       "  </tbody>\n",
       "</table>\n",
       "</div>"
      ],
      "text/plain": [
       "                                               VALOR PREVISTO ATUALIZADO  \\\n",
       "NOME ÓRGÃO SUPERIOR                                                        \n",
       "Ministério da Agricultura, Pecuária e Abastec          87,492,532,893.00   \n",
       "\n",
       "                                               VALOR LANÇADO  \\\n",
       "NOME ÓRGÃO SUPERIOR                                            \n",
       "Ministério da Agricultura, Pecuária e Abastec           0.00   \n",
       "\n",
       "                                                VALOR REALIZADO  \\\n",
       "NOME ÓRGÃO SUPERIOR                                               \n",
       "Ministério da Agricultura, Pecuária e Abastec 56,433,953,381.26   \n",
       "\n",
       "                                               porcentaje recaudado  \\\n",
       "NOME ÓRGÃO SUPERIOR                                                   \n",
       "Ministério da Agricultura, Pecuária e Abastec                 64.50   \n",
       "\n",
       "                                               diferencia_recaudacion  \n",
       "NOME ÓRGÃO SUPERIOR                                                    \n",
       "Ministério da Agricultura, Pecuária e Abastec       56,433,953,381.26  "
      ]
     },
     "execution_count": 11,
     "metadata": {},
     "output_type": "execute_result"
    }
   ],
   "source": [
    "# Vemos la información general del ministerio, sus ingresos y las unidades ministeriales que lo componen\n",
    "fs.info_ministerio(datos_brasil, \"Ministério da Agricultura, Pecuária e Abastec\")"
   ]
  },
  {
   "cell_type": "code",
   "execution_count": 12,
   "metadata": {},
   "outputs": [
    {
     "data": {
      "text/html": [
       "<div>\n",
       "<style scoped>\n",
       "    .dataframe tbody tr th:only-of-type {\n",
       "        vertical-align: middle;\n",
       "    }\n",
       "\n",
       "    .dataframe tbody tr th {\n",
       "        vertical-align: top;\n",
       "    }\n",
       "\n",
       "    .dataframe thead th {\n",
       "        text-align: right;\n",
       "    }\n",
       "</style>\n",
       "<table border=\"1\" class=\"dataframe\">\n",
       "  <thead>\n",
       "    <tr style=\"text-align: right;\">\n",
       "      <th></th>\n",
       "      <th>VALOR LANÇADO</th>\n",
       "      <th>VALOR REALIZADO</th>\n",
       "    </tr>\n",
       "    <tr>\n",
       "      <th>ANO EXERCÍCIO</th>\n",
       "      <th></th>\n",
       "      <th></th>\n",
       "    </tr>\n",
       "  </thead>\n",
       "  <tbody>\n",
       "    <tr>\n",
       "      <th>2013</th>\n",
       "      <td>0.00</td>\n",
       "      <td>6,302,036,557.43</td>\n",
       "    </tr>\n",
       "    <tr>\n",
       "      <th>2014</th>\n",
       "      <td>0.00</td>\n",
       "      <td>4,800,117,367.13</td>\n",
       "    </tr>\n",
       "    <tr>\n",
       "      <th>2015</th>\n",
       "      <td>0.00</td>\n",
       "      <td>6,200,536,186.78</td>\n",
       "    </tr>\n",
       "    <tr>\n",
       "      <th>2016</th>\n",
       "      <td>0.00</td>\n",
       "      <td>6,245,684,227.04</td>\n",
       "    </tr>\n",
       "    <tr>\n",
       "      <th>2017</th>\n",
       "      <td>0.00</td>\n",
       "      <td>6,981,982,293.88</td>\n",
       "    </tr>\n",
       "    <tr>\n",
       "      <th>2018</th>\n",
       "      <td>0.00</td>\n",
       "      <td>6,059,488,240.06</td>\n",
       "    </tr>\n",
       "    <tr>\n",
       "      <th>2019</th>\n",
       "      <td>0.00</td>\n",
       "      <td>6,871,989,141.97</td>\n",
       "    </tr>\n",
       "    <tr>\n",
       "      <th>2020</th>\n",
       "      <td>0.00</td>\n",
       "      <td>6,955,897,667.06</td>\n",
       "    </tr>\n",
       "    <tr>\n",
       "      <th>2021</th>\n",
       "      <td>0.00</td>\n",
       "      <td>6,016,221,699.91</td>\n",
       "    </tr>\n",
       "  </tbody>\n",
       "</table>\n",
       "</div>"
      ],
      "text/plain": [
       "               VALOR LANÇADO  VALOR REALIZADO\n",
       "ANO EXERCÍCIO                                \n",
       "2013                    0.00 6,302,036,557.43\n",
       "2014                    0.00 4,800,117,367.13\n",
       "2015                    0.00 6,200,536,186.78\n",
       "2016                    0.00 6,245,684,227.04\n",
       "2017                    0.00 6,981,982,293.88\n",
       "2018                    0.00 6,059,488,240.06\n",
       "2019                    0.00 6,871,989,141.97\n",
       "2020                    0.00 6,955,897,667.06\n",
       "2021                    0.00 6,016,221,699.91"
      ]
     },
     "execution_count": 12,
     "metadata": {},
     "output_type": "execute_result"
    }
   ],
   "source": [
    "# Vemos la información temporal sobre el ministerio\n",
    "temporal_agricultura = fs.info_ministerio(datos_brasil, \"Ministério da Agricultura, Pecuária e Abastec\")\n",
    "temporal_agricultura"
   ]
  },
  {
   "cell_type": "code",
   "execution_count": 15,
   "metadata": {},
   "outputs": [
    {
     "data": {
      "text/html": [
       "<div>\n",
       "<style scoped>\n",
       "    .dataframe tbody tr th:only-of-type {\n",
       "        vertical-align: middle;\n",
       "    }\n",
       "\n",
       "    .dataframe tbody tr th {\n",
       "        vertical-align: top;\n",
       "    }\n",
       "\n",
       "    .dataframe thead th {\n",
       "        text-align: right;\n",
       "    }\n",
       "</style>\n",
       "<table border=\"1\" class=\"dataframe\">\n",
       "  <thead>\n",
       "    <tr style=\"text-align: right;\">\n",
       "      <th></th>\n",
       "      <th></th>\n",
       "      <th>VALOR PREVISTO ATUALIZADO</th>\n",
       "      <th>VALOR LANÇADO</th>\n",
       "      <th>VALOR REALIZADO</th>\n",
       "    </tr>\n",
       "    <tr>\n",
       "      <th>NOME ÓRGÃO</th>\n",
       "      <th>NOME UNIDADE GESTORA</th>\n",
       "      <th></th>\n",
       "      <th></th>\n",
       "      <th></th>\n",
       "    </tr>\n",
       "  </thead>\n",
       "  <tbody>\n",
       "    <tr>\n",
       "      <th>Companhia Nacional de Abastecimento</th>\n",
       "      <th>COMPANHIA NACIONAL DE ABASTECIMENTO</th>\n",
       "      <td>16,181,320,395.00</td>\n",
       "      <td>0.00</td>\n",
       "      <td>1,157,437,895.80</td>\n",
       "    </tr>\n",
       "    <tr>\n",
       "      <th>Empresa Brasileira de Pesquisa Agropecuária</th>\n",
       "      <th>EMBRAPA-SETORIAL</th>\n",
       "      <td>4,543,365,404.00</td>\n",
       "      <td>0.00</td>\n",
       "      <td>410,143,266.07</td>\n",
       "    </tr>\n",
       "    <tr>\n",
       "      <th>Fundo de Defesa da Economia Cafeeira</th>\n",
       "      <th>FUNDO DE DEFESA DA ECON.CAFEEIRA/FUNCAFE/SPA</th>\n",
       "      <td>44,763,486,199.00</td>\n",
       "      <td>0.00</td>\n",
       "      <td>35,393,834,816.34</td>\n",
       "    </tr>\n",
       "    <tr>\n",
       "      <th rowspan=\"2\" valign=\"top\">Fundo de Terras e da Reforma Agrária</th>\n",
       "      <th>COORDENACAO-GERAL DO FUNDO DE TERRAS</th>\n",
       "      <td>0.00</td>\n",
       "      <td>0.00</td>\n",
       "      <td>89,215,763.39</td>\n",
       "    </tr>\n",
       "    <tr>\n",
       "      <th>CREDITO FUNDIARIO</th>\n",
       "      <td>795,133,061.00</td>\n",
       "      <td>0.00</td>\n",
       "      <td>1,614,404,425.39</td>\n",
       "    </tr>\n",
       "    <tr>\n",
       "      <th>Instituto Nacional de Colonização e Reforma Agrária</th>\n",
       "      <th>DPTO. DE ADMINISTRACAO FINANCEIRA-DAF - INCRA</th>\n",
       "      <td>14,644,570,444.00</td>\n",
       "      <td>0.00</td>\n",
       "      <td>15,239,509,246.71</td>\n",
       "    </tr>\n",
       "    <tr>\n",
       "      <th rowspan=\"2\" valign=\"top\">Ministério da Agricultura, Pecuária e Abastecimento - Unidades com vínculo direto</th>\n",
       "      <th>COORD.-GERAL DE ORCAMENTO E FINANCAS-MAPA</th>\n",
       "      <td>6,059,471,621.00</td>\n",
       "      <td>0.00</td>\n",
       "      <td>2,343,661,823.46</td>\n",
       "    </tr>\n",
       "    <tr>\n",
       "      <th>SECRETARIA ESPECIAL DE AQUICULTURA E PESCA/PR</th>\n",
       "      <td>5,327,629.00</td>\n",
       "      <td>0.00</td>\n",
       "      <td>3,651,982.69</td>\n",
       "    </tr>\n",
       "    <tr>\n",
       "      <th>Secretaria Especial de Agricultura Familiar e do Desenvolvimento Agrário</th>\n",
       "      <th>SEC.ESPEC.DE AGRIC.FAMIL.E DO DESENV.AGRARIO</th>\n",
       "      <td>98,336,469.00</td>\n",
       "      <td>0.00</td>\n",
       "      <td>59,270,888.31</td>\n",
       "    </tr>\n",
       "    <tr>\n",
       "      <th>Serviço Florestal Brasileiro</th>\n",
       "      <th>SETORIAL PROG.ORCAMENTARIA E FINANCEIRA-SFB</th>\n",
       "      <td>401,521,671.00</td>\n",
       "      <td>0.00</td>\n",
       "      <td>122,823,273.10</td>\n",
       "    </tr>\n",
       "  </tbody>\n",
       "</table>\n",
       "</div>"
      ],
      "text/plain": [
       "                                                                                                  VALOR PREVISTO ATUALIZADO  \\\n",
       "NOME ÓRGÃO                                         NOME UNIDADE GESTORA                                                       \n",
       "Companhia Nacional de Abastecimento                COMPANHIA NACIONAL DE ABASTECIMENTO                    16,181,320,395.00   \n",
       "Empresa Brasileira de Pesquisa Agropecuária        EMBRAPA-SETORIAL                                        4,543,365,404.00   \n",
       "Fundo de Defesa da Economia Cafeeira               FUNDO DE DEFESA DA ECON.CAFEEIRA/FUNCAFE/SPA           44,763,486,199.00   \n",
       "Fundo de Terras e da Reforma Agrária               COORDENACAO-GERAL DO FUNDO DE TERRAS                                0.00   \n",
       "                                                   CREDITO FUNDIARIO                                         795,133,061.00   \n",
       "Instituto Nacional de Colonização e Reforma Agr... DPTO. DE ADMINISTRACAO FINANCEIRA-DAF - INCRA          14,644,570,444.00   \n",
       "Ministério da Agricultura, Pecuária e Abastecim... COORD.-GERAL DE ORCAMENTO E FINANCAS-MAPA               6,059,471,621.00   \n",
       "                                                   SECRETARIA ESPECIAL DE AQUICULTURA E PESCA/PR               5,327,629.00   \n",
       "Secretaria Especial de Agricultura Familiar e d... SEC.ESPEC.DE AGRIC.FAMIL.E DO DESENV.AGRARIO               98,336,469.00   \n",
       "Serviço Florestal Brasileiro                       SETORIAL PROG.ORCAMENTARIA E FINANCEIRA-SFB               401,521,671.00   \n",
       "\n",
       "                                                                                                  VALOR LANÇADO  \\\n",
       "NOME ÓRGÃO                                         NOME UNIDADE GESTORA                                           \n",
       "Companhia Nacional de Abastecimento                COMPANHIA NACIONAL DE ABASTECIMENTO                     0.00   \n",
       "Empresa Brasileira de Pesquisa Agropecuária        EMBRAPA-SETORIAL                                        0.00   \n",
       "Fundo de Defesa da Economia Cafeeira               FUNDO DE DEFESA DA ECON.CAFEEIRA/FUNCAFE/SPA            0.00   \n",
       "Fundo de Terras e da Reforma Agrária               COORDENACAO-GERAL DO FUNDO DE TERRAS                    0.00   \n",
       "                                                   CREDITO FUNDIARIO                                       0.00   \n",
       "Instituto Nacional de Colonização e Reforma Agr... DPTO. DE ADMINISTRACAO FINANCEIRA-DAF - INCRA           0.00   \n",
       "Ministério da Agricultura, Pecuária e Abastecim... COORD.-GERAL DE ORCAMENTO E FINANCAS-MAPA               0.00   \n",
       "                                                   SECRETARIA ESPECIAL DE AQUICULTURA E PESCA/PR           0.00   \n",
       "Secretaria Especial de Agricultura Familiar e d... SEC.ESPEC.DE AGRIC.FAMIL.E DO DESENV.AGRARIO            0.00   \n",
       "Serviço Florestal Brasileiro                       SETORIAL PROG.ORCAMENTARIA E FINANCEIRA-SFB             0.00   \n",
       "\n",
       "                                                                                                   VALOR REALIZADO  \n",
       "NOME ÓRGÃO                                         NOME UNIDADE GESTORA                                             \n",
       "Companhia Nacional de Abastecimento                COMPANHIA NACIONAL DE ABASTECIMENTO            1,157,437,895.80  \n",
       "Empresa Brasileira de Pesquisa Agropecuária        EMBRAPA-SETORIAL                                 410,143,266.07  \n",
       "Fundo de Defesa da Economia Cafeeira               FUNDO DE DEFESA DA ECON.CAFEEIRA/FUNCAFE/SPA  35,393,834,816.34  \n",
       "Fundo de Terras e da Reforma Agrária               COORDENACAO-GERAL DO FUNDO DE TERRAS              89,215,763.39  \n",
       "                                                   CREDITO FUNDIARIO                              1,614,404,425.39  \n",
       "Instituto Nacional de Colonização e Reforma Agr... DPTO. DE ADMINISTRACAO FINANCEIRA-DAF - INCRA 15,239,509,246.71  \n",
       "Ministério da Agricultura, Pecuária e Abastecim... COORD.-GERAL DE ORCAMENTO E FINANCAS-MAPA      2,343,661,823.46  \n",
       "                                                   SECRETARIA ESPECIAL DE AQUICULTURA E PESCA/PR      3,651,982.69  \n",
       "Secretaria Especial de Agricultura Familiar e d... SEC.ESPEC.DE AGRIC.FAMIL.E DO DESENV.AGRARIO      59,270,888.31  \n",
       "Serviço Florestal Brasileiro                       SETORIAL PROG.ORCAMENTARIA E FINANCEIRA-SFB      122,823,273.10  "
      ]
     },
     "execution_count": 15,
     "metadata": {},
     "output_type": "execute_result"
    }
   ],
   "source": [
    "# Vemos la información sobre su composición.\n",
    "fs.info_ministerio(datos_brasil, \"Ministério da Agricultura, Pecuária e Abastec\")"
   ]
  },
  {
   "cell_type": "code",
   "execution_count": 14,
   "metadata": {},
   "outputs": [
    {
     "data": {
      "image/png": "[encoded data removed]",
      "text/plain": [
       "<Figure size 640x480 with 1 Axes>"
      ]
     },
     "metadata": {},
     "output_type": "display_data"
    }
   ],
   "source": [
    "fs.evolucion_temporal(temporal_agricultura, \"ANO EXERCÍCIO\",[\"VALOR LANÇADO\", \"VALOR REALIZADO\"])"
   ]
  },
  {
   "cell_type": "markdown",
   "metadata": {},
   "source": [
    "### *Ministerio de los Derechos Humanos y la Ciudadanía (Ministério dos Direitos Humanos e da Cidadania)* 👪"
   ]
  },
  {
   "cell_type": "code",
   "execution_count": null,
   "metadata": {},
   "outputs": [],
   "source": [
    "# Vemos la información general del ministerio, sus ingresos y las unidades ministeriales que lo componen\n",
    "fs.info_ministerio(datos_brasil, \"\")"
   ]
  },
  {
   "cell_type": "code",
   "execution_count": null,
   "metadata": {},
   "outputs": [],
   "source": [
    "# Vemos la información temporal sobre el ministerio\n",
    "temporal_ = fs.info_ministerio(datos_brasil, \"\")\n",
    "temporal_"
   ]
  },
  {
   "cell_type": "code",
   "execution_count": null,
   "metadata": {},
   "outputs": [],
   "source": [
    "# Vemos la información sobre su composición.\n",
    "fs.info_ministerio(datos_brasil, \"\")"
   ]
  },
  {
   "cell_type": "code",
   "execution_count": null,
   "metadata": {},
   "outputs": [],
   "source": [
    "fs.evolucion_temporal(temporal_, \"ANO EXERCÍCIO\",[\"VALOR LANÇADO\", \"VALOR REALIZADO\"])"
   ]
  },
  {
   "cell_type": "markdown",
   "metadata": {},
   "source": [
    "### *Ministerio de Ciencia, Tecnología e Innovación* 🔬"
   ]
  },
  {
   "cell_type": "code",
   "execution_count": null,
   "metadata": {},
   "outputs": [],
   "source": [
    "# Vemos la información general del ministerio, sus ingresos y las unidades ministeriales que lo componen\n",
    "fs.info_ministerio(datos_brasil, \"\")"
   ]
  },
  {
   "cell_type": "code",
   "execution_count": null,
   "metadata": {},
   "outputs": [],
   "source": [
    "# Vemos la información temporal sobre el ministerio\n",
    "temporal_ = fs.info_ministerio(datos_brasil, \"\")\n",
    "temporal_"
   ]
  },
  {
   "cell_type": "code",
   "execution_count": null,
   "metadata": {},
   "outputs": [],
   "source": [
    "# Vemos la información sobre su composición.\n",
    "fs.info_ministerio(datos_brasil, \"\")"
   ]
  },
  {
   "cell_type": "code",
   "execution_count": null,
   "metadata": {},
   "outputs": [],
   "source": [
    "# Graficamos la evolución temporal\n",
    "fs.evolucion_temporal(temporal_, \"ANO EXERCÍCIO\",[\"VALOR LANÇADO\", \"VALOR REALIZADO\"])"
   ]
  },
  {
   "cell_type": "markdown",
   "metadata": {},
   "source": [
    "### *Ministerio de Defensa (Ministério da Defesa)* 🚓\n"
   ]
  },
  {
   "cell_type": "code",
   "execution_count": null,
   "metadata": {},
   "outputs": [],
   "source": [
    "# Vemos la información general del ministerio, sus ingresos y las unidades ministeriales que lo componen\n",
    "fs.info_ministerio(datos_brasil, \"\")"
   ]
  },
  {
   "cell_type": "code",
   "execution_count": null,
   "metadata": {},
   "outputs": [],
   "source": [
    "# Vemos la información temporal sobre el ministerio\n",
    "temporal_ = fs.info_ministerio(datos_brasil, \"\")\n",
    "temporal_"
   ]
  },
  {
   "cell_type": "code",
   "execution_count": null,
   "metadata": {},
   "outputs": [],
   "source": [
    "# Vemos la información sobre su composición.\n",
    "fs.info_ministerio(datos_brasil, \"\")"
   ]
  },
  {
   "cell_type": "code",
   "execution_count": null,
   "metadata": {},
   "outputs": [],
   "source": [
    "# Graficamos la evolución temporal\n",
    "fs.evolucion_temporal(temporal_, \"ANO EXERCÍCIO\",[\"VALOR LANÇADO\", \"VALOR REALIZADO\"])"
   ]
  },
  {
   "cell_type": "markdown",
   "metadata": {},
   "source": [
    "### *Ministerio de Economía/ Hacienda (Ministério da Economia/Fazenda)* 💰"
   ]
  },
  {
   "cell_type": "code",
   "execution_count": null,
   "metadata": {},
   "outputs": [],
   "source": [
    "# Vemos la información general del ministerio, sus ingresos y las unidades ministeriales que lo componen\n",
    "fs.info_ministerio(datos_brasil, \"\")"
   ]
  },
  {
   "cell_type": "code",
   "execution_count": null,
   "metadata": {},
   "outputs": [],
   "source": [
    "# Vemos la información temporal sobre el ministerio\n",
    "temporal_ = fs.info_ministerio(datos_brasil, \"\")\n",
    "temporal_"
   ]
  },
  {
   "cell_type": "code",
   "execution_count": null,
   "metadata": {},
   "outputs": [],
   "source": [
    "# Vemos la información sobre su composición.\n",
    "fs.info_ministerio(datos_brasil, \"\")"
   ]
  },
  {
   "cell_type": "code",
   "execution_count": null,
   "metadata": {},
   "outputs": [],
   "source": [
    "# Graficamos la evolución temporal\n",
    "fs.evolucion_temporal(temporal_, \"ANO EXERCÍCIO\",[\"VALOR LANÇADO\", \"VALOR REALIZADO\"])"
   ]
  },
  {
   "cell_type": "markdown",
   "metadata": {},
   "source": [
    "### *Ministerio de Educación (Ministério da Educação)* 📚"
   ]
  },
  {
   "cell_type": "code",
   "execution_count": null,
   "metadata": {},
   "outputs": [],
   "source": [
    "# Vemos la información general del ministerio, sus ingresos y las unidades ministeriales que lo componen\n",
    "fs.info_ministerio(datos_brasil, \"\")"
   ]
  },
  {
   "cell_type": "code",
   "execution_count": null,
   "metadata": {},
   "outputs": [],
   "source": [
    "# Vemos la información temporal sobre el ministerio\n",
    "temporal_ = fs.info_ministerio(datos_brasil, \"\")\n",
    "temporal_"
   ]
  },
  {
   "cell_type": "code",
   "execution_count": null,
   "metadata": {},
   "outputs": [],
   "source": [
    "# Vemos la información sobre su composición.\n",
    "fs.info_ministerio(datos_brasil, \"\")"
   ]
  },
  {
   "cell_type": "code",
   "execution_count": null,
   "metadata": {},
   "outputs": [],
   "source": [
    "# Graficamos la evolución temporal\n",
    "fs.evolucion_temporal(temporal_, \"ANO EXERCÍCIO\",[\"VALOR LANÇADO\", \"VALOR REALIZADO\"])"
   ]
  },
  {
   "cell_type": "markdown",
   "metadata": {},
   "source": [
    "### *Ministerio de Infraestructuras/Transportes (Ministério da Infraestrutura/dos Transportes)* 🚊"
   ]
  },
  {
   "cell_type": "code",
   "execution_count": null,
   "metadata": {},
   "outputs": [],
   "source": [
    "# Vemos la información general del ministerio, sus ingresos y las unidades ministeriales que lo componen\n",
    "fs.info_ministerio(datos_brasil, \"\")"
   ]
  },
  {
   "cell_type": "code",
   "execution_count": null,
   "metadata": {},
   "outputs": [],
   "source": [
    "# Vemos la información temporal sobre el ministerio\n",
    "temporal_ = fs.info_ministerio(datos_brasil, \"\")\n",
    "temporal_"
   ]
  },
  {
   "cell_type": "code",
   "execution_count": null,
   "metadata": {},
   "outputs": [],
   "source": [
    "# Vemos la información sobre su composición.\n",
    "fs.info_ministerio(datos_brasil, \"\")"
   ]
  },
  {
   "cell_type": "code",
   "execution_count": null,
   "metadata": {},
   "outputs": [],
   "source": [
    "# Graficamos la evolución temporal\n",
    "fs.evolucion_temporal(temporal_, \"ANO EXERCÍCIO\",[\"VALOR LANÇADO\", \"VALOR REALIZADO\"])"
   ]
  },
  {
   "cell_type": "markdown",
   "metadata": {},
   "source": [
    "### *Ministerio de Justicia y Seguridad Pública (Ministério da Justiça e Segurança Pública)* 👮"
   ]
  },
  {
   "cell_type": "code",
   "execution_count": null,
   "metadata": {},
   "outputs": [],
   "source": [
    "# Vemos la información general del ministerio, sus ingresos y las unidades ministeriales que lo componen\n",
    "fs.info_ministerio(datos_brasil, \"\")"
   ]
  },
  {
   "cell_type": "code",
   "execution_count": null,
   "metadata": {},
   "outputs": [],
   "source": [
    "# Vemos la información temporal sobre el ministerio\n",
    "temporal_ = fs.info_ministerio(datos_brasil, \"\")\n",
    "temporal_"
   ]
  },
  {
   "cell_type": "code",
   "execution_count": null,
   "metadata": {},
   "outputs": [],
   "source": [
    "# Vemos la información sobre su composición.\n",
    "fs.info_ministerio(datos_brasil, \"\")"
   ]
  },
  {
   "cell_type": "code",
   "execution_count": null,
   "metadata": {},
   "outputs": [],
   "source": [
    "# Graficamos la evolución temporal\n",
    "fs.evolucion_temporal(temporal_, \"ANO EXERCÍCIO\",[\"VALOR LANÇADO\", \"VALOR REALIZADO\"])"
   ]
  },
  {
   "cell_type": "markdown",
   "metadata": {},
   "source": [
    "### *Ministerio de la Mujer (Ministério da Mulher, Família e Direitos Huma)* 🙆‍♀️"
   ]
  },
  {
   "cell_type": "code",
   "execution_count": null,
   "metadata": {},
   "outputs": [],
   "source": [
    "# Vemos la información general del ministerio, sus ingresos y las unidades ministeriales que lo componen\n",
    "fs.info_ministerio(datos_brasil, \"\")"
   ]
  },
  {
   "cell_type": "code",
   "execution_count": null,
   "metadata": {},
   "outputs": [],
   "source": [
    "# Vemos la información temporal sobre el ministerio\n",
    "temporal_ = fs.info_ministerio(datos_brasil, \"\")\n",
    "temporal_"
   ]
  },
  {
   "cell_type": "code",
   "execution_count": null,
   "metadata": {},
   "outputs": [],
   "source": [
    "# Vemos la información sobre su composición.\n",
    "fs.info_ministerio(datos_brasil, \"\")"
   ]
  },
  {
   "cell_type": "code",
   "execution_count": null,
   "metadata": {},
   "outputs": [],
   "source": [
    "# Graficamos la evolución temporal\n",
    "fs.evolucion_temporal(temporal_, \"ANO EXERCÍCIO\",[\"VALOR LANÇADO\", \"VALOR REALIZADO\"])"
   ]
  },
  {
   "cell_type": "markdown",
   "metadata": {},
   "source": [
    "### *Ministerio de Pesca y Acuicultura (Ministério da Pesca e Aquicultura)* 🐙"
   ]
  },
  {
   "cell_type": "code",
   "execution_count": null,
   "metadata": {},
   "outputs": [],
   "source": [
    "# Vemos la información general del ministerio, sus ingresos y las unidades ministeriales que lo componen\n",
    "fs.info_ministerio(datos_brasil, \"\")"
   ]
  },
  {
   "cell_type": "code",
   "execution_count": null,
   "metadata": {},
   "outputs": [],
   "source": [
    "# Vemos la información temporal sobre el ministerio\n",
    "temporal_ = fs.info_ministerio(datos_brasil, \"\")\n",
    "temporal_"
   ]
  },
  {
   "cell_type": "code",
   "execution_count": null,
   "metadata": {},
   "outputs": [],
   "source": [
    "# Vemos la información sobre su composición.\n",
    "fs.info_ministerio(datos_brasil, \"\")"
   ]
  },
  {
   "cell_type": "code",
   "execution_count": null,
   "metadata": {},
   "outputs": [],
   "source": [
    "# Graficamos la evolución temporal\n",
    "fs.evolucion_temporal(temporal_, \"ANO EXERCÍCIO\",[\"VALOR LANÇADO\", \"VALOR REALIZADO\"])"
   ]
  },
  {
   "cell_type": "markdown",
   "metadata": {},
   "source": [
    "### *Ministerio de Bienestar Social (Ministério da Previdência Social)* 🙌"
   ]
  },
  {
   "cell_type": "code",
   "execution_count": null,
   "metadata": {},
   "outputs": [],
   "source": [
    "# Vemos la información general del ministerio, sus ingresos y las unidades ministeriales que lo componen\n",
    "fs.info_ministerio(datos_brasil, \"\")"
   ]
  },
  {
   "cell_type": "code",
   "execution_count": null,
   "metadata": {},
   "outputs": [],
   "source": [
    "# Vemos la información temporal sobre el ministerio\n",
    "temporal_ = fs.info_ministerio(datos_brasil, \"\")\n",
    "temporal_"
   ]
  },
  {
   "cell_type": "code",
   "execution_count": null,
   "metadata": {},
   "outputs": [],
   "source": [
    "# Vemos la información sobre su composición.\n",
    "fs.info_ministerio(datos_brasil, \"\")"
   ]
  },
  {
   "cell_type": "code",
   "execution_count": null,
   "metadata": {},
   "outputs": [],
   "source": [
    "# Graficamos la evolución temporal\n",
    "fs.evolucion_temporal(temporal_, \"ANO EXERCÍCIO\",[\"VALOR LANÇADO\", \"VALOR REALIZADO\"])"
   ]
  },
  {
   "cell_type": "markdown",
   "metadata": {},
   "source": [
    "### *Ministerio de Sanidad (Ministério da Saúde)* 🏥"
   ]
  },
  {
   "cell_type": "code",
   "execution_count": null,
   "metadata": {},
   "outputs": [],
   "source": [
    "# Vemos la información general del ministerio, sus ingresos y las unidades ministeriales que lo componen\n",
    "fs.info_ministerio(datos_brasil, \"\")"
   ]
  },
  {
   "cell_type": "code",
   "execution_count": null,
   "metadata": {},
   "outputs": [],
   "source": [
    "# Vemos la información temporal sobre el ministerio\n",
    "temporal_ = fs.info_ministerio(datos_brasil, \"\")\n",
    "temporal_"
   ]
  },
  {
   "cell_type": "code",
   "execution_count": null,
   "metadata": {},
   "outputs": [],
   "source": [
    "# Vemos la información sobre su composición.\n",
    "fs.info_ministerio(datos_brasil, \"\")"
   ]
  },
  {
   "cell_type": "code",
   "execution_count": null,
   "metadata": {},
   "outputs": [],
   "source": [
    "# Graficamos la evolución temporal\n",
    "fs.evolucion_temporal(temporal_, \"ANO EXERCÍCIO\",[\"VALOR LANÇADO\", \"VALOR REALIZADO\"])"
   ]
  },
  {
   "cell_type": "markdown",
   "metadata": {},
   "source": [
    "### *Ministerio de Comunicaciones (Ministério das Comunicações)* 📢"
   ]
  },
  {
   "cell_type": "code",
   "execution_count": null,
   "metadata": {},
   "outputs": [],
   "source": [
    "# Vemos la información general del ministerio, sus ingresos y las unidades ministeriales que lo componen\n",
    "fs.info_ministerio(datos_brasil, \"\")"
   ]
  },
  {
   "cell_type": "code",
   "execution_count": null,
   "metadata": {},
   "outputs": [],
   "source": [
    "# Vemos la información temporal sobre el ministerio\n",
    "temporal_ = fs.info_ministerio(datos_brasil, \"\")\n",
    "temporal_"
   ]
  },
  {
   "cell_type": "code",
   "execution_count": null,
   "metadata": {},
   "outputs": [],
   "source": [
    "# Vemos la información sobre su composición.\n",
    "fs.info_ministerio(datos_brasil, \"\")"
   ]
  },
  {
   "cell_type": "code",
   "execution_count": null,
   "metadata": {},
   "outputs": [],
   "source": [
    "# Graficamos la evolución temporal\n",
    "fs.evolucion_temporal(temporal_, \"ANO EXERCÍCIO\",[\"VALOR LANÇADO\", \"VALOR REALIZADO\"])"
   ]
  },
  {
   "cell_type": "markdown",
   "metadata": {},
   "source": [
    "### *Ministerio de Igualdad Racial (Igualdade Racial)*  👫"
   ]
  },
  {
   "cell_type": "code",
   "execution_count": null,
   "metadata": {},
   "outputs": [],
   "source": [
    "# Vemos la información general del ministerio, sus ingresos y las unidades ministeriales que lo componen\n",
    "fs.info_ministerio(datos_brasil, \"\")"
   ]
  },
  {
   "cell_type": "code",
   "execution_count": null,
   "metadata": {},
   "outputs": [],
   "source": [
    "# Vemos la información temporal sobre el ministerio\n",
    "temporal_ = fs.info_ministerio(datos_brasil, \"\")\n",
    "temporal_"
   ]
  },
  {
   "cell_type": "code",
   "execution_count": null,
   "metadata": {},
   "outputs": [],
   "source": [
    "# Vemos la información sobre su composición.\n",
    "fs.info_ministerio(datos_brasil, \"\")"
   ]
  },
  {
   "cell_type": "code",
   "execution_count": null,
   "metadata": {},
   "outputs": [],
   "source": [
    "# Graficamos la evolución temporal\n",
    "fs.evolucion_temporal(temporal_, \"ANO EXERCÍCIO\",[\"VALOR LANÇADO\", \"VALOR REALIZADO\"])"
   ]
  },
  {
   "cell_type": "markdown",
   "metadata": {},
   "source": [
    "### *Ministerio de Asuntos Exteriores (Ministério das Relações Exteriores)* 🌎"
   ]
  },
  {
   "cell_type": "code",
   "execution_count": null,
   "metadata": {},
   "outputs": [],
   "source": [
    "# Vemos la información general del ministerio, sus ingresos y las unidades ministeriales que lo componen\n",
    "fs.info_ministerio(datos_brasil, \"\")"
   ]
  },
  {
   "cell_type": "code",
   "execution_count": null,
   "metadata": {},
   "outputs": [],
   "source": [
    "# Vemos la información temporal sobre el ministerio\n",
    "temporal_ = fs.info_ministerio(datos_brasil, \"\")\n",
    "temporal_"
   ]
  },
  {
   "cell_type": "code",
   "execution_count": null,
   "metadata": {},
   "outputs": [],
   "source": [
    "# Vemos la información sobre su composición.\n",
    "fs.info_ministerio(datos_brasil, \"\")"
   ]
  },
  {
   "cell_type": "code",
   "execution_count": null,
   "metadata": {},
   "outputs": [],
   "source": [
    "# Graficamos la evolución temporal\n",
    "fs.evolucion_temporal(temporal_, \"ANO EXERCÍCIO\",[\"VALOR LANÇADO\", \"VALOR REALIZADO\"])"
   ]
  },
  {
   "cell_type": "markdown",
   "metadata": {},
   "source": [
    "### *Ministerio de Minas y Energía (Ministério de Minas e Energia)* 🔋"
   ]
  },
  {
   "cell_type": "code",
   "execution_count": null,
   "metadata": {},
   "outputs": [],
   "source": [
    "# Vemos la información general del ministerio, sus ingresos y las unidades ministeriales que lo componen\n",
    "fs.info_ministerio(datos_brasil, \"\")"
   ]
  },
  {
   "cell_type": "code",
   "execution_count": null,
   "metadata": {},
   "outputs": [],
   "source": [
    "# Vemos la información temporal sobre el ministerio\n",
    "temporal_ = fs.info_ministerio(datos_brasil, \"\")\n",
    "temporal_"
   ]
  },
  {
   "cell_type": "code",
   "execution_count": null,
   "metadata": {},
   "outputs": [],
   "source": [
    "# Vemos la información sobre su composición.\n",
    "fs.info_ministerio(datos_brasil, \"\")"
   ]
  },
  {
   "cell_type": "code",
   "execution_count": null,
   "metadata": {},
   "outputs": [],
   "source": [
    "# Graficamos la evolución temporal\n",
    "fs.evolucion_temporal(temporal_, \"ANO EXERCÍCIO\",[\"VALOR LANÇADO\", \"VALOR REALIZADO\"])"
   ]
  },
  {
   "cell_type": "markdown",
   "metadata": {},
   "source": [
    "### *Ministerio de Desarrollo Agrario (Ministério do Desenvolvimento Agrário)* 🌾"
   ]
  },
  {
   "cell_type": "code",
   "execution_count": null,
   "metadata": {},
   "outputs": [],
   "source": [
    "# Vemos la información general del ministerio, sus ingresos y las unidades ministeriales que lo componen\n",
    "fs.info_ministerio(datos_brasil, \"\")"
   ]
  },
  {
   "cell_type": "code",
   "execution_count": null,
   "metadata": {},
   "outputs": [],
   "source": [
    "# Vemos la información temporal sobre el ministerio\n",
    "temporal_ = fs.info_ministerio(datos_brasil, \"\")\n",
    "temporal_"
   ]
  },
  {
   "cell_type": "code",
   "execution_count": null,
   "metadata": {},
   "outputs": [],
   "source": [
    "# Vemos la información sobre su composición.\n",
    "fs.info_ministerio(datos_brasil, \"\")"
   ]
  },
  {
   "cell_type": "code",
   "execution_count": null,
   "metadata": {},
   "outputs": [],
   "source": [
    "# Graficamos la evolución temporal\n",
    "fs.evolucion_temporal(temporal_, \"ANO EXERCÍCIO\",[\"VALOR LANÇADO\", \"VALOR REALIZADO\"])"
   ]
  },
  {
   "cell_type": "markdown",
   "metadata": {},
   "source": [
    "### *Ministerio de Integración y Desarrollo Regional (Ministério da Integração Desenvolvimento Regional)*"
   ]
  },
  {
   "cell_type": "code",
   "execution_count": null,
   "metadata": {},
   "outputs": [],
   "source": [
    "# Vemos la información general del ministerio, sus ingresos y las unidades ministeriales que lo componen\n",
    "fs.info_ministerio(datos_brasil, \"\")"
   ]
  },
  {
   "cell_type": "code",
   "execution_count": null,
   "metadata": {},
   "outputs": [],
   "source": [
    "# Vemos la información temporal sobre el ministerio\n",
    "temporal_ = fs.info_ministerio(datos_brasil, \"\")\n",
    "temporal_"
   ]
  },
  {
   "cell_type": "code",
   "execution_count": null,
   "metadata": {},
   "outputs": [],
   "source": [
    "# Vemos la información sobre su composición.\n",
    "fs.info_ministerio(datos_brasil, \"\")"
   ]
  },
  {
   "cell_type": "code",
   "execution_count": null,
   "metadata": {},
   "outputs": [],
   "source": [
    "# Graficamos la evolución temporal\n",
    "fs.evolucion_temporal(temporal_, \"ANO EXERCÍCIO\",[\"VALOR LANÇADO\", \"VALOR REALIZADO\"])"
   ]
  },
  {
   "cell_type": "markdown",
   "metadata": {},
   "source": [
    "### *Ministerio de Deportes (Ministério do Esporte)* 🏃"
   ]
  },
  {
   "cell_type": "code",
   "execution_count": null,
   "metadata": {},
   "outputs": [],
   "source": [
    "# Vemos la información general del ministerio, sus ingresos y las unidades ministeriales que lo componen\n",
    "fs.info_ministerio(datos_brasil, \"\")"
   ]
  },
  {
   "cell_type": "code",
   "execution_count": null,
   "metadata": {},
   "outputs": [],
   "source": [
    "# Vemos la información temporal sobre el ministerio\n",
    "temporal_ = fs.info_ministerio(datos_brasil, \"\")\n",
    "temporal_"
   ]
  },
  {
   "cell_type": "code",
   "execution_count": null,
   "metadata": {},
   "outputs": [],
   "source": [
    "# Vemos la información sobre su composición.\n",
    "fs.info_ministerio(datos_brasil, \"\")"
   ]
  },
  {
   "cell_type": "code",
   "execution_count": null,
   "metadata": {},
   "outputs": [],
   "source": [
    "# Graficamos la evolución temporal\n",
    "fs.evolucion_temporal(temporal_, \"ANO EXERCÍCIO\",[\"VALOR LANÇADO\", \"VALOR REALIZADO\"])"
   ]
  },
  {
   "cell_type": "markdown",
   "metadata": {},
   "source": [
    "### *Ministerio de Medio Ambiente y Cambio Climático (Ministério do Meio Ambiente e Mudança do Clima)*"
   ]
  },
  {
   "cell_type": "code",
   "execution_count": null,
   "metadata": {},
   "outputs": [],
   "source": [
    "# Vemos la información general del ministerio, sus ingresos y las unidades ministeriales que lo componen\n",
    "fs.info_ministerio(datos_brasil, \"\")"
   ]
  },
  {
   "cell_type": "code",
   "execution_count": null,
   "metadata": {},
   "outputs": [],
   "source": [
    "# Vemos la información temporal sobre el ministerio\n",
    "temporal_ = fs.info_ministerio(datos_brasil, \"\")\n",
    "temporal_"
   ]
  },
  {
   "cell_type": "code",
   "execution_count": null,
   "metadata": {},
   "outputs": [],
   "source": [
    "# Vemos la información sobre su composición.\n",
    "fs.info_ministerio(datos_brasil, \"\")"
   ]
  },
  {
   "cell_type": "code",
   "execution_count": null,
   "metadata": {},
   "outputs": [],
   "source": [
    "# Graficamos la evolución temporal\n",
    "fs.evolucion_temporal(temporal_, \"ANO EXERCÍCIO\",[\"VALOR LANÇADO\", \"VALOR REALIZADO\"])"
   ]
  },
  {
   "cell_type": "markdown",
   "metadata": {},
   "source": [
    "### *Ministerio de Trabajo y Empleo (Ministério do Trabalho e Emprego)*"
   ]
  },
  {
   "cell_type": "code",
   "execution_count": null,
   "metadata": {},
   "outputs": [],
   "source": [
    "# Vemos la información general del ministerio, sus ingresos y las unidades ministeriales que lo componen\n",
    "fs.info_ministerio(datos_brasil, \"\")"
   ]
  },
  {
   "cell_type": "code",
   "execution_count": null,
   "metadata": {},
   "outputs": [],
   "source": [
    "# Vemos la información temporal sobre el ministerio\n",
    "temporal_ = fs.info_ministerio(datos_brasil, \"\")\n",
    "temporal_"
   ]
  },
  {
   "cell_type": "code",
   "execution_count": null,
   "metadata": {},
   "outputs": [],
   "source": [
    "# Vemos la información sobre su composición.\n",
    "fs.info_ministerio(datos_brasil, \"\")"
   ]
  },
  {
   "cell_type": "code",
   "execution_count": null,
   "metadata": {},
   "outputs": [],
   "source": [
    "# Graficamos la evolución temporal\n",
    "fs.evolucion_temporal(temporal_, \"ANO EXERCÍCIO\",[\"VALOR LANÇADO\", \"VALOR REALIZADO\"])"
   ]
  },
  {
   "cell_type": "markdown",
   "metadata": {},
   "source": [
    "### *Ministerio de Turismo (Ministério do Turismo)*"
   ]
  },
  {
   "cell_type": "code",
   "execution_count": null,
   "metadata": {},
   "outputs": [],
   "source": [
    "# Vemos la información general del ministerio, sus ingresos y las unidades ministeriales que lo componen\n",
    "fs.info_ministerio(datos_brasil, \"\")"
   ]
  },
  {
   "cell_type": "code",
   "execution_count": null,
   "metadata": {},
   "outputs": [],
   "source": [
    "# Vemos la información temporal sobre el ministerio\n",
    "temporal_ = fs.info_ministerio(datos_brasil, \"\")\n",
    "temporal_"
   ]
  },
  {
   "cell_type": "code",
   "execution_count": null,
   "metadata": {},
   "outputs": [],
   "source": [
    "# Vemos la información sobre su composición.\n",
    "fs.info_ministerio(datos_brasil, \"\")"
   ]
  },
  {
   "cell_type": "code",
   "execution_count": null,
   "metadata": {},
   "outputs": [],
   "source": [
    "# Graficamos la evolución temporal\n",
    "fs.evolucion_temporal(temporal_, \"ANO EXERCÍCIO\",[\"VALOR LANÇADO\", \"VALOR REALIZADO\"])"
   ]
  },
  {
   "cell_type": "markdown",
   "metadata": {},
   "source": [
    "### *Presidencia de la República (Presidência da República)*"
   ]
  },
  {
   "cell_type": "code",
   "execution_count": null,
   "metadata": {},
   "outputs": [],
   "source": [
    "# Vemos la información general del ministerio, sus ingresos y las unidades ministeriales que lo componen\n",
    "fs.info_ministerio(datos_brasil, \"\")"
   ]
  },
  {
   "cell_type": "code",
   "execution_count": null,
   "metadata": {},
   "outputs": [],
   "source": [
    "# Vemos la información temporal sobre el ministerio\n",
    "temporal_ = fs.info_ministerio(datos_brasil, \"\")\n",
    "temporal_"
   ]
  },
  {
   "cell_type": "code",
   "execution_count": null,
   "metadata": {},
   "outputs": [],
   "source": [
    "# Vemos la información sobre su composición.\n",
    "fs.info_ministerio(datos_brasil, \"\")"
   ]
  },
  {
   "cell_type": "code",
   "execution_count": null,
   "metadata": {},
   "outputs": [],
   "source": [
    "# Graficamos la evolución temporal\n",
    "fs.evolucion_temporal(temporal_, \"ANO EXERCÍCIO\",[\"VALOR LANÇADO\", \"VALOR REALIZADO\"])"
   ]
  }
 ],
 "metadata": {
  "kernelspec": {
   "display_name": "Python 3",
   "language": "python",
   "name": "python3"
  },
  "language_info": {
   "codemirror_mode": {
    "name": "ipython",
    "version": 3
   },
   "file_extension": ".py",
   "mimetype": "text/x-python",
   "name": "python",
   "nbconvert_exporter": "python",
   "pygments_lexer": "ipython3",
   "version": "3.12.4"
  }
 },
 "nbformat": 4,
 "nbformat_minor": 2
}
