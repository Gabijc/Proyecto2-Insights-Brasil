{
 "cells": [
  {
   "cell_type": "markdown",
   "metadata": {},
   "source": [
    "En este documento vamos a realizar un análisis descriptivo de las columnas numéricas y categóricas de nuestros dataframe. "
   ]
  },
  {
   "cell_type": "code",
   "execution_count": 1,
   "metadata": {},
   "outputs": [],
   "source": [
    "# Importamos las librerías a utilizar\n",
    "\n",
    "import pandas as pd # type: ignore\n",
    "import numpy as np # type: ignore\n",
    "from src import funciones_soporte as fs\n",
    "from pandas.api.types import is_datetime64_any_dtype as is_datetime # type: ignore\n",
    "import matplotlib.pyplot as plt # type: ignore\n",
    "import seaborn as sns # type: ignore"
   ]
  },
  {
   "cell_type": "code",
   "execution_count": 2,
   "metadata": {},
   "outputs": [],
   "source": [
    "# Indicamos que queremos que nos enseñe por pantalla todas las columnas de los DataFrame que vamos a cargar\n",
    "pd.set_option('display.max_columns', None)"
   ]
  },
  {
   "cell_type": "code",
   "execution_count": 3,
   "metadata": {},
   "outputs": [
    {
     "name": "stdout",
     "output_type": "stream",
     "text": [
      "(1026299, 16)\n"
     ]
    },
    {
     "data": {
      "text/html": [
       "<div>\n",
       "<style scoped>\n",
       "    .dataframe tbody tr th:only-of-type {\n",
       "        vertical-align: middle;\n",
       "    }\n",
       "\n",
       "    .dataframe tbody tr th {\n",
       "        vertical-align: top;\n",
       "    }\n",
       "\n",
       "    .dataframe thead th {\n",
       "        text-align: right;\n",
       "    }\n",
       "</style>\n",
       "<table border=\"1\" class=\"dataframe\">\n",
       "  <thead>\n",
       "    <tr style=\"text-align: right;\">\n",
       "      <th></th>\n",
       "      <th>CÓDIGO ÓRGÃO SUPERIOR</th>\n",
       "      <th>NOME ÓRGÃO SUPERIOR</th>\n",
       "      <th>CÓDIGO ÓRGÃO</th>\n",
       "      <th>NOME ÓRGÃO</th>\n",
       "      <th>CÓDIGO UNIDADE GESTORA</th>\n",
       "      <th>NOME UNIDADE GESTORA</th>\n",
       "      <th>CATEGORIA ECONÔMICA</th>\n",
       "      <th>ORIGEM RECEITA</th>\n",
       "      <th>ESPÉCIE RECEITA</th>\n",
       "      <th>DETALHAMENTO</th>\n",
       "      <th>VALOR PREVISTO ATUALIZADO</th>\n",
       "      <th>VALOR LANÇADO</th>\n",
       "      <th>VALOR REALIZADO</th>\n",
       "      <th>PERCENTUAL REALIZADO</th>\n",
       "      <th>DATA LANÇAMENTO</th>\n",
       "      <th>ANO EXERCÍCIO</th>\n",
       "    </tr>\n",
       "  </thead>\n",
       "  <tbody>\n",
       "    <tr>\n",
       "      <th>0</th>\n",
       "      <td>63000</td>\n",
       "      <td>Advocacia-Geral da União</td>\n",
       "      <td>63000</td>\n",
       "      <td>Advocacia-Geral da União - Unidades com víncul...</td>\n",
       "      <td>110060</td>\n",
       "      <td>COORD. GERAL DE ORC. FIN. E ANAL. CONT. - AGU</td>\n",
       "      <td>Receitas Correntes</td>\n",
       "      <td>Outras Receitas Correntes</td>\n",
       "      <td>Bens, Direitos e Valores Incorporados ao Patr</td>\n",
       "      <td>REC.DIVIDA ATIVA NAO TRIBUTARIA DE OUTRAS REC</td>\n",
       "      <td>0.0</td>\n",
       "      <td>0.0</td>\n",
       "      <td>1297.13</td>\n",
       "      <td>0.0</td>\n",
       "      <td>2013-12-31</td>\n",
       "      <td>2013</td>\n",
       "    </tr>\n",
       "    <tr>\n",
       "      <th>1</th>\n",
       "      <td>63000</td>\n",
       "      <td>Advocacia-Geral da União</td>\n",
       "      <td>63000</td>\n",
       "      <td>Advocacia-Geral da União - Unidades com víncul...</td>\n",
       "      <td>110060</td>\n",
       "      <td>COORD. GERAL DE ORC. FIN. E ANAL. CONT. - AGU</td>\n",
       "      <td>Receitas Correntes</td>\n",
       "      <td>Outras Receitas Correntes</td>\n",
       "      <td>Indenizações, restituições e ressarcimentos</td>\n",
       "      <td>RECUPERACAO DE DESPESAS DE EXERC. ANTERIORES</td>\n",
       "      <td>0.0</td>\n",
       "      <td>0.0</td>\n",
       "      <td>26666621.42</td>\n",
       "      <td>0.0</td>\n",
       "      <td>2013-12-31</td>\n",
       "      <td>2013</td>\n",
       "    </tr>\n",
       "  </tbody>\n",
       "</table>\n",
       "</div>"
      ],
      "text/plain": [
       "   CÓDIGO ÓRGÃO SUPERIOR       NOME ÓRGÃO SUPERIOR  CÓDIGO ÓRGÃO  \\\n",
       "0                  63000  Advocacia-Geral da União         63000   \n",
       "1                  63000  Advocacia-Geral da União         63000   \n",
       "\n",
       "                                          NOME ÓRGÃO  CÓDIGO UNIDADE GESTORA  \\\n",
       "0  Advocacia-Geral da União - Unidades com víncul...                  110060   \n",
       "1  Advocacia-Geral da União - Unidades com víncul...                  110060   \n",
       "\n",
       "                            NOME UNIDADE GESTORA CATEGORIA ECONÔMICA  \\\n",
       "0  COORD. GERAL DE ORC. FIN. E ANAL. CONT. - AGU  Receitas Correntes   \n",
       "1  COORD. GERAL DE ORC. FIN. E ANAL. CONT. - AGU  Receitas Correntes   \n",
       "\n",
       "              ORIGEM RECEITA                                ESPÉCIE RECEITA  \\\n",
       "0  Outras Receitas Correntes  Bens, Direitos e Valores Incorporados ao Patr   \n",
       "1  Outras Receitas Correntes    Indenizações, restituições e ressarcimentos   \n",
       "\n",
       "                                    DETALHAMENTO  VALOR PREVISTO ATUALIZADO  \\\n",
       "0  REC.DIVIDA ATIVA NAO TRIBUTARIA DE OUTRAS REC                        0.0   \n",
       "1   RECUPERACAO DE DESPESAS DE EXERC. ANTERIORES                        0.0   \n",
       "\n",
       "   VALOR LANÇADO  VALOR REALIZADO  PERCENTUAL REALIZADO DATA LANÇAMENTO  \\\n",
       "0            0.0          1297.13                   0.0      2013-12-31   \n",
       "1            0.0      26666621.42                   0.0      2013-12-31   \n",
       "\n",
       "   ANO EXERCÍCIO  \n",
       "0           2013  \n",
       "1           2013  "
      ]
     },
     "execution_count": 3,
     "metadata": {},
     "output_type": "execute_result"
    }
   ],
   "source": [
    "datos_brasil = pd.read_pickle(\"datos/datos_brasil.pkl\")\n",
    "print(datos_brasil.shape)\n",
    "datos_brasil.head(2)"
   ]
  },
  {
   "cell_type": "code",
   "execution_count": 4,
   "metadata": {},
   "outputs": [],
   "source": [
    "#datos_brasil.drop([\"CÓDIGO ÓRGÃO SUPERIOR\", \"CÓDIGO ÓRGÃO\", \"CÓDIGO UNIDADE GESTORA\"], axis = 1, inplace = True)"
   ]
  },
  {
   "cell_type": "code",
   "execution_count": 5,
   "metadata": {},
   "outputs": [
    {
     "data": {
      "text/plain": [
       "Index(['CÓDIGO ÓRGÃO SUPERIOR', 'NOME ÓRGÃO SUPERIOR', 'CÓDIGO ÓRGÃO',\n",
       "       'NOME ÓRGÃO', 'CÓDIGO UNIDADE GESTORA', 'NOME UNIDADE GESTORA',\n",
       "       'CATEGORIA ECONÔMICA', 'ORIGEM RECEITA', 'ESPÉCIE RECEITA',\n",
       "       'DETALHAMENTO', 'VALOR PREVISTO ATUALIZADO', 'VALOR LANÇADO',\n",
       "       'VALOR REALIZADO', 'PERCENTUAL REALIZADO', 'DATA LANÇAMENTO',\n",
       "       'ANO EXERCÍCIO'],\n",
       "      dtype='object')"
      ]
     },
     "execution_count": 5,
     "metadata": {},
     "output_type": "execute_result"
    }
   ],
   "source": [
    "datos_brasil.columns"
   ]
  },
  {
   "cell_type": "code",
   "execution_count": 6,
   "metadata": {},
   "outputs": [
    {
     "data": {
      "text/html": [
       "<div>\n",
       "<style scoped>\n",
       "    .dataframe tbody tr th:only-of-type {\n",
       "        vertical-align: middle;\n",
       "    }\n",
       "\n",
       "    .dataframe tbody tr th {\n",
       "        vertical-align: top;\n",
       "    }\n",
       "\n",
       "    .dataframe thead th {\n",
       "        text-align: right;\n",
       "    }\n",
       "</style>\n",
       "<table border=\"1\" class=\"dataframe\">\n",
       "  <thead>\n",
       "    <tr style=\"text-align: right;\">\n",
       "      <th></th>\n",
       "      <th>Tipo_dato</th>\n",
       "      <th>numero_registros</th>\n",
       "      <th>Numero_nulos</th>\n",
       "      <th>%_nulos</th>\n",
       "    </tr>\n",
       "  </thead>\n",
       "  <tbody>\n",
       "    <tr>\n",
       "      <th>CÓDIGO ÓRGÃO SUPERIOR</th>\n",
       "      <td>int64</td>\n",
       "      <td>1026299</td>\n",
       "      <td>0</td>\n",
       "      <td>0.00</td>\n",
       "    </tr>\n",
       "    <tr>\n",
       "      <th>NOME ÓRGÃO SUPERIOR</th>\n",
       "      <td>object</td>\n",
       "      <td>1026299</td>\n",
       "      <td>0</td>\n",
       "      <td>0.00</td>\n",
       "    </tr>\n",
       "    <tr>\n",
       "      <th>CÓDIGO ÓRGÃO</th>\n",
       "      <td>int64</td>\n",
       "      <td>1026299</td>\n",
       "      <td>0</td>\n",
       "      <td>0.00</td>\n",
       "    </tr>\n",
       "    <tr>\n",
       "      <th>NOME ÓRGÃO</th>\n",
       "      <td>object</td>\n",
       "      <td>1026299</td>\n",
       "      <td>0</td>\n",
       "      <td>0.00</td>\n",
       "    </tr>\n",
       "    <tr>\n",
       "      <th>CÓDIGO UNIDADE GESTORA</th>\n",
       "      <td>int64</td>\n",
       "      <td>1026299</td>\n",
       "      <td>0</td>\n",
       "      <td>0.00</td>\n",
       "    </tr>\n",
       "    <tr>\n",
       "      <th>NOME UNIDADE GESTORA</th>\n",
       "      <td>object</td>\n",
       "      <td>1026299</td>\n",
       "      <td>0</td>\n",
       "      <td>0.00</td>\n",
       "    </tr>\n",
       "    <tr>\n",
       "      <th>CATEGORIA ECONÔMICA</th>\n",
       "      <td>object</td>\n",
       "      <td>1026299</td>\n",
       "      <td>0</td>\n",
       "      <td>0.00</td>\n",
       "    </tr>\n",
       "    <tr>\n",
       "      <th>ORIGEM RECEITA</th>\n",
       "      <td>object</td>\n",
       "      <td>1026299</td>\n",
       "      <td>0</td>\n",
       "      <td>0.00</td>\n",
       "    </tr>\n",
       "    <tr>\n",
       "      <th>ESPÉCIE RECEITA</th>\n",
       "      <td>object</td>\n",
       "      <td>1026299</td>\n",
       "      <td>0</td>\n",
       "      <td>0.00</td>\n",
       "    </tr>\n",
       "    <tr>\n",
       "      <th>DETALHAMENTO</th>\n",
       "      <td>object</td>\n",
       "      <td>1026299</td>\n",
       "      <td>0</td>\n",
       "      <td>0.00</td>\n",
       "    </tr>\n",
       "    <tr>\n",
       "      <th>VALOR PREVISTO ATUALIZADO</th>\n",
       "      <td>float64</td>\n",
       "      <td>1026299</td>\n",
       "      <td>0</td>\n",
       "      <td>0.00</td>\n",
       "    </tr>\n",
       "    <tr>\n",
       "      <th>VALOR LANÇADO</th>\n",
       "      <td>float64</td>\n",
       "      <td>1026299</td>\n",
       "      <td>0</td>\n",
       "      <td>0.00</td>\n",
       "    </tr>\n",
       "    <tr>\n",
       "      <th>VALOR REALIZADO</th>\n",
       "      <td>float64</td>\n",
       "      <td>1026299</td>\n",
       "      <td>0</td>\n",
       "      <td>0.00</td>\n",
       "    </tr>\n",
       "    <tr>\n",
       "      <th>PERCENTUAL REALIZADO</th>\n",
       "      <td>float64</td>\n",
       "      <td>1026299</td>\n",
       "      <td>0</td>\n",
       "      <td>0.00</td>\n",
       "    </tr>\n",
       "    <tr>\n",
       "      <th>DATA LANÇAMENTO</th>\n",
       "      <td>datetime64[ns]</td>\n",
       "      <td>1025721</td>\n",
       "      <td>578</td>\n",
       "      <td>0.06</td>\n",
       "    </tr>\n",
       "    <tr>\n",
       "      <th>ANO EXERCÍCIO</th>\n",
       "      <td>int64</td>\n",
       "      <td>1026299</td>\n",
       "      <td>0</td>\n",
       "      <td>0.00</td>\n",
       "    </tr>\n",
       "  </tbody>\n",
       "</table>\n",
       "</div>"
      ],
      "text/plain": [
       "                                Tipo_dato  numero_registros  Numero_nulos  \\\n",
       "CÓDIGO ÓRGÃO SUPERIOR               int64           1026299             0   \n",
       "NOME ÓRGÃO SUPERIOR                object           1026299             0   \n",
       "CÓDIGO ÓRGÃO                        int64           1026299             0   \n",
       "NOME ÓRGÃO                         object           1026299             0   \n",
       "CÓDIGO UNIDADE GESTORA              int64           1026299             0   \n",
       "NOME UNIDADE GESTORA               object           1026299             0   \n",
       "CATEGORIA ECONÔMICA                object           1026299             0   \n",
       "ORIGEM RECEITA                     object           1026299             0   \n",
       "ESPÉCIE RECEITA                    object           1026299             0   \n",
       "DETALHAMENTO                       object           1026299             0   \n",
       "VALOR PREVISTO ATUALIZADO         float64           1026299             0   \n",
       "VALOR LANÇADO                     float64           1026299             0   \n",
       "VALOR REALIZADO                   float64           1026299             0   \n",
       "PERCENTUAL REALIZADO              float64           1026299             0   \n",
       "DATA LANÇAMENTO            datetime64[ns]           1025721           578   \n",
       "ANO EXERCÍCIO                       int64           1026299             0   \n",
       "\n",
       "                           %_nulos  \n",
       "CÓDIGO ÓRGÃO SUPERIOR         0.00  \n",
       "NOME ÓRGÃO SUPERIOR           0.00  \n",
       "CÓDIGO ÓRGÃO                  0.00  \n",
       "NOME ÓRGÃO                    0.00  \n",
       "CÓDIGO UNIDADE GESTORA        0.00  \n",
       "NOME UNIDADE GESTORA          0.00  \n",
       "CATEGORIA ECONÔMICA           0.00  \n",
       "ORIGEM RECEITA                0.00  \n",
       "ESPÉCIE RECEITA               0.00  \n",
       "DETALHAMENTO                  0.00  \n",
       "VALOR PREVISTO ATUALIZADO     0.00  \n",
       "VALOR LANÇADO                 0.00  \n",
       "VALOR REALIZADO               0.00  \n",
       "PERCENTUAL REALIZADO          0.00  \n",
       "DATA LANÇAMENTO               0.06  \n",
       "ANO EXERCÍCIO                 0.00  "
      ]
     },
     "execution_count": 6,
     "metadata": {},
     "output_type": "execute_result"
    }
   ],
   "source": [
    "fs.info_df(datos_brasil)"
   ]
  },
  {
   "cell_type": "code",
   "execution_count": 7,
   "metadata": {},
   "outputs": [
    {
     "data": {
      "text/plain": [
       "np.int64(0)"
      ]
     },
     "execution_count": 7,
     "metadata": {},
     "output_type": "execute_result"
    }
   ],
   "source": [
    "datos_brasil.duplicated().sum()"
   ]
  },
  {
   "cell_type": "markdown",
   "metadata": {},
   "source": [
    " ## Análisis descriptivo"
   ]
  },
  {
   "cell_type": "markdown",
   "metadata": {},
   "source": [
    "## Análisis variables numéricas\n",
    "\n",
    "Las columnas del dataframe nos proporcionan información sobre como se estructura la contabilidad, la balanza de pagos de Brasil. Realizaremos un estudio más profundo sobre su estructura contable, y la proveniencia de los ingresos de este país."
   ]
  },
  {
   "cell_type": "code",
   "execution_count": 8,
   "metadata": {},
   "outputs": [
    {
     "data": {
      "text/plain": [
       "Index(['CÓDIGO ÓRGÃO SUPERIOR', 'CÓDIGO ÓRGÃO', 'CÓDIGO UNIDADE GESTORA',\n",
       "       'VALOR PREVISTO ATUALIZADO', 'VALOR LANÇADO', 'VALOR REALIZADO',\n",
       "       'PERCENTUAL REALIZADO', 'DATA LANÇAMENTO', 'ANO EXERCÍCIO'],\n",
       "      dtype='object')"
      ]
     },
     "execution_count": 8,
     "metadata": {},
     "output_type": "execute_result"
    }
   ],
   "source": [
    "# generamos la lista de columnas sobre las cuales queremos calcular los estadísticos\n",
    "columnas_numericas2 = datos_brasil.select_dtypes(include = [np.number, \"datetime\"]).columns\n",
    "columnas_numericas2"
   ]
  },
  {
   "cell_type": "code",
   "execution_count": 9,
   "metadata": {},
   "outputs": [
    {
     "data": {
      "text/html": [
       "<div>\n",
       "<style scoped>\n",
       "    .dataframe tbody tr th:only-of-type {\n",
       "        vertical-align: middle;\n",
       "    }\n",
       "\n",
       "    .dataframe tbody tr th {\n",
       "        vertical-align: top;\n",
       "    }\n",
       "\n",
       "    .dataframe thead th {\n",
       "        text-align: right;\n",
       "    }\n",
       "</style>\n",
       "<table border=\"1\" class=\"dataframe\">\n",
       "  <thead>\n",
       "    <tr style=\"text-align: right;\">\n",
       "      <th></th>\n",
       "      <th>count</th>\n",
       "      <th>mean</th>\n",
       "      <th>min</th>\n",
       "      <th>25%</th>\n",
       "      <th>50%</th>\n",
       "      <th>75%</th>\n",
       "      <th>max</th>\n",
       "      <th>std</th>\n",
       "      <th>Curtosis</th>\n",
       "      <th>Coef_asimetria</th>\n",
       "      <th>Moda</th>\n",
       "    </tr>\n",
       "  </thead>\n",
       "  <tbody>\n",
       "    <tr>\n",
       "      <th>VALOR PREVISTO ATUALIZADO</th>\n",
       "      <td>1026299.0</td>\n",
       "      <td>27611421.049683</td>\n",
       "      <td>-214773743.0</td>\n",
       "      <td>0.0</td>\n",
       "      <td>0.0</td>\n",
       "      <td>0.0</td>\n",
       "      <td>1603521711208.0</td>\n",
       "      <td>3393367175.127452</td>\n",
       "      <td>88556.59</td>\n",
       "      <td>264.11</td>\n",
       "      <td>0.0</td>\n",
       "    </tr>\n",
       "    <tr>\n",
       "      <th>VALOR LANÇADO</th>\n",
       "      <td>1026299.0</td>\n",
       "      <td>5242806.106963</td>\n",
       "      <td>-148347267246.910004</td>\n",
       "      <td>0.0</td>\n",
       "      <td>0.0</td>\n",
       "      <td>0.0</td>\n",
       "      <td>357160677863.969971</td>\n",
       "      <td>810883695.355811</td>\n",
       "      <td>80180.68</td>\n",
       "      <td>231.75</td>\n",
       "      <td>0.0</td>\n",
       "    </tr>\n",
       "    <tr>\n",
       "      <th>VALOR REALIZADO</th>\n",
       "      <td>1026299.0</td>\n",
       "      <td>24980422.309138</td>\n",
       "      <td>-156285934188.029999</td>\n",
       "      <td>260.905</td>\n",
       "      <td>3022.32</td>\n",
       "      <td>40853.855</td>\n",
       "      <td>771117711060.949951</td>\n",
       "      <td>1406892548.8405</td>\n",
       "      <td>126151.22</td>\n",
       "      <td>290.10</td>\n",
       "      <td>0.0</td>\n",
       "    </tr>\n",
       "    <tr>\n",
       "      <th>PERCENTUAL REALIZADO</th>\n",
       "      <td>1026299.0</td>\n",
       "      <td>80.313812</td>\n",
       "      <td>-114552.0</td>\n",
       "      <td>0.0</td>\n",
       "      <td>0.0</td>\n",
       "      <td>0.0</td>\n",
       "      <td>72363772.0</td>\n",
       "      <td>71481.112902</td>\n",
       "      <td>1023400.74</td>\n",
       "      <td>1010.95</td>\n",
       "      <td>0.0</td>\n",
       "    </tr>\n",
       "    <tr>\n",
       "      <th>DATA LANÇAMENTO</th>\n",
       "      <td>1025721</td>\n",
       "      <td>2018-09-20 12:23:18.569786368</td>\n",
       "      <td>2013-12-31 00:00:00</td>\n",
       "      <td>2017-03-31 00:00:00</td>\n",
       "      <td>2018-08-27 00:00:00</td>\n",
       "      <td>2020-02-12 00:00:00</td>\n",
       "      <td>2021-12-03 00:00:00</td>\n",
       "      <td>NaN</td>\n",
       "      <td>NaN</td>\n",
       "      <td>NaN</td>\n",
       "      <td>0.0</td>\n",
       "    </tr>\n",
       "  </tbody>\n",
       "</table>\n",
       "</div>"
      ],
      "text/plain": [
       "                               count                           mean  \\\n",
       "VALOR PREVISTO ATUALIZADO  1026299.0                27611421.049683   \n",
       "VALOR LANÇADO              1026299.0                 5242806.106963   \n",
       "VALOR REALIZADO            1026299.0                24980422.309138   \n",
       "PERCENTUAL REALIZADO       1026299.0                      80.313812   \n",
       "DATA LANÇAMENTO              1025721  2018-09-20 12:23:18.569786368   \n",
       "\n",
       "                                           min                  25%  \\\n",
       "VALOR PREVISTO ATUALIZADO         -214773743.0                  0.0   \n",
       "VALOR LANÇADO             -148347267246.910004                  0.0   \n",
       "VALOR REALIZADO           -156285934188.029999              260.905   \n",
       "PERCENTUAL REALIZADO                 -114552.0                  0.0   \n",
       "DATA LANÇAMENTO            2013-12-31 00:00:00  2017-03-31 00:00:00   \n",
       "\n",
       "                                           50%                  75%  \\\n",
       "VALOR PREVISTO ATUALIZADO                  0.0                  0.0   \n",
       "VALOR LANÇADO                              0.0                  0.0   \n",
       "VALOR REALIZADO                        3022.32            40853.855   \n",
       "PERCENTUAL REALIZADO                       0.0                  0.0   \n",
       "DATA LANÇAMENTO            2018-08-27 00:00:00  2020-02-12 00:00:00   \n",
       "\n",
       "                                           max                std    Curtosis  \\\n",
       "VALOR PREVISTO ATUALIZADO      1603521711208.0  3393367175.127452    88556.59   \n",
       "VALOR LANÇADO              357160677863.969971   810883695.355811    80180.68   \n",
       "VALOR REALIZADO            771117711060.949951    1406892548.8405   126151.22   \n",
       "PERCENTUAL REALIZADO                72363772.0       71481.112902  1023400.74   \n",
       "DATA LANÇAMENTO            2021-12-03 00:00:00                NaN         NaN   \n",
       "\n",
       "                           Coef_asimetria  Moda  \n",
       "VALOR PREVISTO ATUALIZADO          264.11   0.0  \n",
       "VALOR LANÇADO                      231.75   0.0  \n",
       "VALOR REALIZADO                    290.10   0.0  \n",
       "PERCENTUAL REALIZADO              1010.95   0.0  \n",
       "DATA LANÇAMENTO                       NaN   0.0  "
      ]
     },
     "execution_count": 9,
     "metadata": {},
     "output_type": "execute_result"
    }
   ],
   "source": [
    "# Vamos a revisar los estadísticos de las variables numéricas de nuestro dataset.\n",
    "df_estadisticos = fs.estadisticos_numericas_df(datos_brasil, columnas_numericas2)\n",
    "df_estadisticos.iloc[3:8,]"
   ]
  },
  {
   "cell_type": "markdown",
   "metadata": {},
   "source": [
    "### *Ingreso previsto actualizado*\n",
    "\n",
    "El ingreso previsto actualizado medio de Brasil entre 2013 y 2021 se sitúa en los 27.611.421'05 $. La mediana de este valor se sitúa en los 0 dólares. Observamos que la media y la mediana no son valores cercanos, por lo que no vamos a considerar la media como un estadístico representativo de la muestra en este caso. \n",
    "\n",
    "La desviación típica se sitúa en un valor de 3.393.367.000 $, lo cual, es una variación considerablemente alta. Nos vamos a encontrar con una alta variabilidad en los ingresos previstos, ya que hay valores menores o iguales a cero y valores rondando el millón. Asimismo debemos tener en cuenta que estamos en la variación de la previsión en un rango de cinco años.\n",
    "\n",
    "La asimetría presenta un valor de 264,11 y la media es superior a la mediana, por lo que estamos en un caso de asimetría positiva. Esto indica que en la distribución de los datos, nos vamos a encontrar con más valores inferiores. La curtosis tiene un valor de 88.556,59 lo que significa que la distribución de los datos tendrá un apuntamiento elevado. Hay más valores extremos en los datos. Al fin y al cabo, tenemos valores igual a cero, y valores en torno al millón, como hemos comentado anteriormente. \n",
    "\n",
    "El rango de ingresos se encuentra entre los -214.773.700 $ y los 1.603.522.000.000 dólares, lo cual es un rango extremadamente alto. Hemos de considerar que estamos ante los ingresos de un país en un rango de 9 años. Por otro lado, será necesario revisar porque tenemos ingresos negativos. La moda se sitúa en los 0 dólares. En cuanto a los cuartiles, nos encontramos que un 75 % de los ingresos se encuentran por debajo de los 0 dólares. \n",
    "\n",
    " "
   ]
  },
  {
   "cell_type": "markdown",
   "metadata": {},
   "source": [
    "En la tabla a continuación podemos ver los valores que se encuentran en la columna y el número de veces que se repite cada valor."
   ]
  },
  {
   "cell_type": "code",
   "execution_count": 10,
   "metadata": {},
   "outputs": [
    {
     "name": "stdout",
     "output_type": "stream",
     "text": [
      "Los ingresos previstos de brasil entre 2013 y 2021 han sido: 28337573811868.72 \n",
      "\n"
     ]
    },
    {
     "data": {
      "text/html": [
       "<div>\n",
       "<style scoped>\n",
       "    .dataframe tbody tr th:only-of-type {\n",
       "        vertical-align: middle;\n",
       "    }\n",
       "\n",
       "    .dataframe tbody tr th {\n",
       "        vertical-align: top;\n",
       "    }\n",
       "\n",
       "    .dataframe thead th {\n",
       "        text-align: right;\n",
       "    }\n",
       "</style>\n",
       "<table border=\"1\" class=\"dataframe\">\n",
       "  <thead>\n",
       "    <tr style=\"text-align: right;\">\n",
       "      <th></th>\n",
       "      <th>VALOR PREVISTO ATUALIZADO</th>\n",
       "      <th>count</th>\n",
       "    </tr>\n",
       "  </thead>\n",
       "  <tbody>\n",
       "    <tr>\n",
       "      <th>0</th>\n",
       "      <td>0.0</td>\n",
       "      <td>1006459</td>\n",
       "    </tr>\n",
       "    <tr>\n",
       "      <th>1</th>\n",
       "      <td>1000000.0</td>\n",
       "      <td>22</td>\n",
       "    </tr>\n",
       "    <tr>\n",
       "      <th>2</th>\n",
       "      <td>300000.0</td>\n",
       "      <td>15</td>\n",
       "    </tr>\n",
       "    <tr>\n",
       "      <th>3</th>\n",
       "      <td>10000000.0</td>\n",
       "      <td>14</td>\n",
       "    </tr>\n",
       "    <tr>\n",
       "      <th>4</th>\n",
       "      <td>100000.0</td>\n",
       "      <td>13</td>\n",
       "    </tr>\n",
       "    <tr>\n",
       "      <th>...</th>\n",
       "      <td>...</td>\n",
       "      <td>...</td>\n",
       "    </tr>\n",
       "    <tr>\n",
       "      <th>18583</th>\n",
       "      <td>129273010.0</td>\n",
       "      <td>1</td>\n",
       "    </tr>\n",
       "    <tr>\n",
       "      <th>18584</th>\n",
       "      <td>82042.0</td>\n",
       "      <td>1</td>\n",
       "    </tr>\n",
       "    <tr>\n",
       "      <th>18585</th>\n",
       "      <td>407371.0</td>\n",
       "      <td>1</td>\n",
       "    </tr>\n",
       "    <tr>\n",
       "      <th>18586</th>\n",
       "      <td>7416.0</td>\n",
       "      <td>1</td>\n",
       "    </tr>\n",
       "    <tr>\n",
       "      <th>18587</th>\n",
       "      <td>16923750.0</td>\n",
       "      <td>1</td>\n",
       "    </tr>\n",
       "  </tbody>\n",
       "</table>\n",
       "<p>18588 rows × 2 columns</p>\n",
       "</div>"
      ],
      "text/plain": [
       "       VALOR PREVISTO ATUALIZADO    count\n",
       "0                            0.0  1006459\n",
       "1                      1000000.0       22\n",
       "2                       300000.0       15\n",
       "3                     10000000.0       14\n",
       "4                       100000.0       13\n",
       "...                          ...      ...\n",
       "18583                129273010.0        1\n",
       "18584                    82042.0        1\n",
       "18585                   407371.0        1\n",
       "18586                     7416.0        1\n",
       "18587                 16923750.0        1\n",
       "\n",
       "[18588 rows x 2 columns]"
      ]
     },
     "execution_count": 10,
     "metadata": {},
     "output_type": "execute_result"
    }
   ],
   "source": [
    "# Valores de la columna de `Valor previsto atualizado`.\n",
    "\n",
    "print(f\"Los ingresos previstos de brasil entre 2013 y 2021 han sido: {datos_brasil[\"VALOR PREVISTO ATUALIZADO\"].sum().round(2)} \\n\")\n",
    "valor_previsto_actualizado = pd.DataFrame(datos_brasil[\"VALOR PREVISTO ATUALIZADO\"].value_counts()).reset_index()\n",
    "valor_previsto_actualizado"
   ]
  },
  {
   "cell_type": "code",
   "execution_count": 11,
   "metadata": {},
   "outputs": [],
   "source": [
    "previsiones_negativas = valor_previsto_actualizado[valor_previsto_actualizado[\"VALOR PREVISTO ATUALIZADO\"] < 0]\n",
    "previsiones_positivas = valor_previsto_actualizado[valor_previsto_actualizado[\"VALOR PREVISTO ATUALIZADO\"] > 0]"
   ]
  },
  {
   "cell_type": "markdown",
   "metadata": {},
   "source": [
    "*Valores negativos*"
   ]
  },
  {
   "cell_type": "code",
   "execution_count": 12,
   "metadata": {},
   "outputs": [
    {
     "data": {
      "image/png": "[encoded data removed]",
      "text/plain": [
       "<Figure size 2000x500 with 3 Axes>"
      ]
     },
     "metadata": {},
     "output_type": "display_data"
    }
   ],
   "source": [
    "fig, axes = plt.subplots(nrows = 1, ncols = 3, figsize = (20, 5))\n",
    "sns.histplot(x = \"VALOR PREVISTO ATUALIZADO\", \n",
    "             data = previsiones_negativas, \n",
    "             color = \"olivedrab\",\n",
    "             ax = axes[0])\n",
    "\n",
    "axes[0].set_title(\"Histograma de prevision ingresos\")\n",
    "axes[0].set_ylabel(\"Nº de veces que aparece cada ingreso\")\n",
    "axes[0].spines[\"right\"].set_visible(False)\n",
    "axes[0].spines[\"top\"].set_visible(False) \n",
    "\n",
    "sns.boxplot(x = \"VALOR PREVISTO ATUALIZADO\", \n",
    "            data = previsiones_negativas, \n",
    "            color =\"violet\", \n",
    "            ax = axes[1])\n",
    "\n",
    "axes[1].set_title(\"Diagrama de caja de prevision ingresos\")\n",
    "axes[1].set_ylabel(\"Nº de veces que aparece cada ingreso\")\n",
    "axes[1].spines[\"right\"].set_visible(False)\n",
    "axes[1].spines[\"top\"].set_visible(False) \n",
    "\n",
    "sns.violinplot(x = \"VALOR PREVISTO ATUALIZADO\", \n",
    "             data = previsiones_negativas, \n",
    "             color = \"olivedrab\",\n",
    "             ax = axes[2])\n",
    "\n",
    "\n",
    "axes[2].set_title(\"Diagrama de violin de prevision ingresos\")\n",
    "axes[2].set_ylabel(\"Nº de veces que aparece cada ingreso\")\n",
    "axes[2].spines[\"right\"].set_visible(False)\n",
    "axes[2].spines[\"top\"].set_visible(False) "
   ]
  },
  {
   "cell_type": "markdown",
   "metadata": {},
   "source": [
    "*Valores positivos*"
   ]
  },
  {
   "cell_type": "code",
   "execution_count": 13,
   "metadata": {},
   "outputs": [
    {
     "data": {
      "image/png": "[encoded data removed]",
      "text/plain": [
       "<Figure size 2000x500 with 2 Axes>"
      ]
     },
     "metadata": {},
     "output_type": "display_data"
    }
   ],
   "source": [
    "fig, axes = plt.subplots(nrows = 1, ncols = 2, figsize = (20, 5))\n",
    "sns.boxplot(x = \"VALOR PREVISTO ATUALIZADO\", \n",
    "            data = previsiones_positivas, \n",
    "            color =\"violet\", \n",
    "            ax = axes[0])\n",
    "\n",
    "\n",
    "axes[0].set_title(\"Diagrama de caja de prevision ingresos\")\n",
    "axes[0].set_ylabel(\"Nº de veces que aparece cada ingreso\")\n",
    "axes[0].spines[\"right\"].set_visible(False)\n",
    "axes[0].spines[\"top\"].set_visible(False) \n",
    "\n",
    "sns.violinplot(x = \"VALOR PREVISTO ATUALIZADO\", \n",
    "            data = previsiones_positivas, \n",
    "            color =\"violet\",\n",
    "            ax = axes[1])\n",
    "\n",
    "\n",
    "axes[1].set_title(\"Diagrama de violin de prevision ingresos\")\n",
    "axes[1].set_ylabel(\"Nº de veces que aparece cada ingreso\")\n",
    "axes[1].spines[\"right\"].set_visible(False)\n",
    "axes[1].spines[\"top\"].set_visible(False) "
   ]
  },
  {
   "cell_type": "markdown",
   "metadata": {},
   "source": [
    "### *Ingresos registrados*\n",
    "\n",
    "El ingreso registrado medio de Brasil entre 2013 y 2021 se sitúa en los 5.242.806'11 $. La mediana de este valor se sitúa en los 0 dólares. Observamos que la media y la mediana no son valores cercanos, por lo que no vamos a considerar la media como un estadístico representativo de la muestra en este caso. \n",
    "\n",
    "La desviación típica se sitúa en un valor de 810.883.700 $, lo cual, es una variación considerablemente alta. Nos vamos a encontrar con una alta variabilidad en los ingresos previstos, ya que hay valores menores e iguales a cero y valores rondando el millón.\n",
    "\n",
    "La asimetría presenta un valor de 231,75 y la media es superior a la mediana, por lo que estamos en un caso de asimetría positiva. Esto indica que en la distribución de los datos, nos vamos a encontrar con más valores inferiores. La curtosis tiene un valor de 80.180,68 lo que significa que la distribución de los datos tendrá un apuntamiento elevado. Hay más valores extremos en los datos. \n",
    "\n",
    "El rango de ingresos se encuentra entre los -148.347.300.000 $ y los 357.160.700.000 dólares, lo cual es un rango extremadamente alto, aunque debemos tener en cuenta que estamos ante los ingresos de un país en un período temporal de 9 años. Por otro lado, será necesario revisar porque tenemos ingresos negativos. La moda se sitúa en los 0 dólares. En cuanto a los cuartiles, nos encontramos que un 75 % de los ingresos se encuentran por debajo de los 0 dólares. "
   ]
  },
  {
   "cell_type": "markdown",
   "metadata": {},
   "source": [
    "En la tabla a continuación podemos ver los valores que se encuentran en la columna y el número de veces que se repite cada valor."
   ]
  },
  {
   "cell_type": "code",
   "execution_count": 14,
   "metadata": {},
   "outputs": [
    {
     "name": "stdout",
     "output_type": "stream",
     "text": [
      "Los ingresos recaudados registrados en Brasil entre 2013 y 2021 han sido: 5380686664769.53 \n",
      "\n"
     ]
    },
    {
     "data": {
      "text/html": [
       "<div>\n",
       "<style scoped>\n",
       "    .dataframe tbody tr th:only-of-type {\n",
       "        vertical-align: middle;\n",
       "    }\n",
       "\n",
       "    .dataframe tbody tr th {\n",
       "        vertical-align: top;\n",
       "    }\n",
       "\n",
       "    .dataframe thead th {\n",
       "        text-align: right;\n",
       "    }\n",
       "</style>\n",
       "<table border=\"1\" class=\"dataframe\">\n",
       "  <thead>\n",
       "    <tr style=\"text-align: right;\">\n",
       "      <th></th>\n",
       "      <th>VALOR LANÇADO</th>\n",
       "      <th>count</th>\n",
       "    </tr>\n",
       "  </thead>\n",
       "  <tbody>\n",
       "    <tr>\n",
       "      <th>0</th>\n",
       "      <td>0.000000e+00</td>\n",
       "      <td>1019081</td>\n",
       "    </tr>\n",
       "    <tr>\n",
       "      <th>1</th>\n",
       "      <td>-1.000000e-02</td>\n",
       "      <td>32</td>\n",
       "    </tr>\n",
       "    <tr>\n",
       "      <th>2</th>\n",
       "      <td>1.000000e-02</td>\n",
       "      <td>25</td>\n",
       "    </tr>\n",
       "    <tr>\n",
       "      <th>3</th>\n",
       "      <td>1.100000e-01</td>\n",
       "      <td>10</td>\n",
       "    </tr>\n",
       "    <tr>\n",
       "      <th>4</th>\n",
       "      <td>2.000000e-02</td>\n",
       "      <td>9</td>\n",
       "    </tr>\n",
       "    <tr>\n",
       "      <th>...</th>\n",
       "      <td>...</td>\n",
       "      <td>...</td>\n",
       "    </tr>\n",
       "    <tr>\n",
       "      <th>6784</th>\n",
       "      <td>7.691600e+02</td>\n",
       "      <td>1</td>\n",
       "    </tr>\n",
       "    <tr>\n",
       "      <th>6785</th>\n",
       "      <td>-9.852936e+04</td>\n",
       "      <td>1</td>\n",
       "    </tr>\n",
       "    <tr>\n",
       "      <th>6786</th>\n",
       "      <td>9.852936e+04</td>\n",
       "      <td>1</td>\n",
       "    </tr>\n",
       "    <tr>\n",
       "      <th>6787</th>\n",
       "      <td>-4.151808e+04</td>\n",
       "      <td>1</td>\n",
       "    </tr>\n",
       "    <tr>\n",
       "      <th>6788</th>\n",
       "      <td>1.901645e+08</td>\n",
       "      <td>1</td>\n",
       "    </tr>\n",
       "  </tbody>\n",
       "</table>\n",
       "<p>6789 rows × 2 columns</p>\n",
       "</div>"
      ],
      "text/plain": [
       "      VALOR LANÇADO    count\n",
       "0      0.000000e+00  1019081\n",
       "1     -1.000000e-02       32\n",
       "2      1.000000e-02       25\n",
       "3      1.100000e-01       10\n",
       "4      2.000000e-02        9\n",
       "...             ...      ...\n",
       "6784   7.691600e+02        1\n",
       "6785  -9.852936e+04        1\n",
       "6786   9.852936e+04        1\n",
       "6787  -4.151808e+04        1\n",
       "6788   1.901645e+08        1\n",
       "\n",
       "[6789 rows x 2 columns]"
      ]
     },
     "execution_count": 14,
     "metadata": {},
     "output_type": "execute_result"
    }
   ],
   "source": [
    "# Valores de la columna de `Valor lanzado`.\n",
    "\n",
    "print(f\"Los ingresos recaudados registrados en Brasil entre 2013 y 2021 han sido: {datos_brasil[\"VALOR LANÇADO\"].sum().round(2)} \\n\")\n",
    "valor_registrado = pd.DataFrame(datos_brasil[\"VALOR LANÇADO\"].value_counts()).reset_index()\n",
    "valor_registrado"
   ]
  },
  {
   "cell_type": "code",
   "execution_count": 15,
   "metadata": {},
   "outputs": [],
   "source": [
    "registros_negativos = valor_registrado[valor_registrado[\"VALOR LANÇADO\"] < 0]\n",
    "registros_positivos = valor_registrado[valor_registrado[\"VALOR LANÇADO\"] > 0]"
   ]
  },
  {
   "cell_type": "markdown",
   "metadata": {},
   "source": [
    "*Valores negativos*"
   ]
  },
  {
   "cell_type": "code",
   "execution_count": 16,
   "metadata": {},
   "outputs": [
    {
     "data": {
      "image/png": "[encoded data removed]",
      "text/plain": [
       "<Figure size 2000x500 with 3 Axes>"
      ]
     },
     "metadata": {},
     "output_type": "display_data"
    }
   ],
   "source": [
    "fig, axes = plt.subplots(nrows = 1, ncols = 3, figsize = (20, 5))\n",
    "sns.histplot(x = \"VALOR LANÇADO\", \n",
    "             data = registros_negativos, \n",
    "             color = \"olivedrab\",\n",
    "             ax = axes[0])\n",
    "\n",
    "axes[0].set_title(\"Histograma de registro de ingresos\")\n",
    "axes[0].set_ylabel(\"Nº de veces que aparece cada ingreso\")\n",
    "axes[0].spines[\"right\"].set_visible(False)\n",
    "axes[0].spines[\"top\"].set_visible(False) \n",
    "\n",
    "sns.boxplot(x = \"VALOR LANÇADO\", \n",
    "            data = registros_negativos, \n",
    "            color =\"violet\", \n",
    "            ax = axes[1])\n",
    "\n",
    "axes[1].set_title(\"Diagrama de caja de registro de ingresos\")\n",
    "axes[1].set_ylabel(\"Nº de veces que aparece cada ingreso\")\n",
    "axes[1].spines[\"right\"].set_visible(False)\n",
    "axes[1].spines[\"top\"].set_visible(False) \n",
    "\n",
    "sns.violinplot(x = \"VALOR LANÇADO\", \n",
    "             data = registros_negativos, \n",
    "             color = \"olivedrab\",\n",
    "             ax = axes[2])\n",
    "\n",
    "\n",
    "axes[2].set_title(\"Diagrama de violin de registro de ingresos\")\n",
    "axes[2].set_ylabel(\"Nº de veces que aparece cada ingreso\")\n",
    "axes[2].spines[\"right\"].set_visible(False)\n",
    "axes[2].spines[\"top\"].set_visible(False) "
   ]
  },
  {
   "cell_type": "markdown",
   "metadata": {},
   "source": [
    "*Valores positivos*"
   ]
  },
  {
   "cell_type": "code",
   "execution_count": 17,
   "metadata": {},
   "outputs": [
    {
     "data": {
      "image/png": "[encoded data removed]",
      "text/plain": [
       "<Figure size 2000x500 with 2 Axes>"
      ]
     },
     "metadata": {},
     "output_type": "display_data"
    }
   ],
   "source": [
    "fig, axes = plt.subplots(nrows = 1, ncols = 2, figsize = (20, 5))\n",
    "sns.boxplot(x = \"VALOR LANÇADO\", \n",
    "            data = registros_positivos, \n",
    "            color =\"violet\", \n",
    "            ax = axes[0])\n",
    "\n",
    "\n",
    "axes[0].set_title(\"Diagrama de caja de registro de ingresos\")\n",
    "axes[0].set_ylabel(\"Nº de veces que aparece cada ingreso\")\n",
    "axes[0].spines[\"right\"].set_visible(False)\n",
    "axes[0].spines[\"top\"].set_visible(False) \n",
    "\n",
    "sns.violinplot(x = \"VALOR LANÇADO\", \n",
    "            data = registros_positivos, \n",
    "            color =\"violet\",\n",
    "            ax = axes[1])\n",
    "\n",
    "\n",
    "axes[1].set_title(\"Diagrama de violin de registro de ingresos\")\n",
    "axes[1].set_ylabel(\"Nº de veces que aparece cada ingreso\")\n",
    "axes[1].spines[\"right\"].set_visible(False)\n",
    "axes[1].spines[\"top\"].set_visible(False)"
   ]
  },
  {
   "cell_type": "markdown",
   "metadata": {},
   "source": [
    "### *Ingresos recaudados*\n",
    "\n",
    "El ingreso previsto actualizado medio de Brasil entre 2013 y 2021 se sitúa en los 24.980.422'31 $. La mediana de este valor se sitúa en los 3.022,32 dólares. Observamos que la media y la mediana no son valores cercanos, por lo que no vamos a considerar la media como un estadístico representativo de la muestra en este caso. \n",
    "\n",
    "La desviación típica se sitúa en un valor de 1.406.893.000 $, lo cual, es una variación respecto de la media considerablemente alta. Nos vamos a encontrar con una alta variabilidad en los ingresos previstos, ya que hay valores menores e iguales a cero y valores rondando el millón.\n",
    "\n",
    "La asimetría presenta un valor de 290,10 y la media es superior a la mediana, por lo que estamos en un caso de asimetría positiva. Esto indica que en la distribución de los datos, nos vamos a encontrar con más valores inferiores. La curtosis tiene un valor de 126.151,22 lo que significa que la distribución de los datos tendrá un apuntamiento elevado. Hay más valores extremos en los datos. \n",
    "\n",
    "El rango de ingresos se encuentra entre los -156.285.900.000 $ y los 1.603.522.000.000 dólares, lo cual es un rango extremadamente alto, aunque debemos tener en cuenta que estamos ante los ingresos de un país en un período temporal de 9 años. Por otro lado, será necesario revisar porqué tenemos ingresos negativos. La moda se sitúa en los 0 dólares. En cuanto a los cuartiles, nos encontramos que un 75 % de los ingresos se encuentran por debajo de los 40.853,85 dólares, un valor considerablemente bajo."
   ]
  },
  {
   "cell_type": "markdown",
   "metadata": {},
   "source": [
    "En la tabla a continuación podemos ver los valores que se encuentran en la columna y el número de veces que se repite cada valor."
   ]
  },
  {
   "cell_type": "code",
   "execution_count": 18,
   "metadata": {},
   "outputs": [
    {
     "name": "stdout",
     "output_type": "stream",
     "text": [
      "Los ingresos recaudados en Brasil entre 2013 y 2021 han sido: 25637382435446.0 \n",
      "\n"
     ]
    },
    {
     "data": {
      "text/html": [
       "<div>\n",
       "<style scoped>\n",
       "    .dataframe tbody tr th:only-of-type {\n",
       "        vertical-align: middle;\n",
       "    }\n",
       "\n",
       "    .dataframe tbody tr th {\n",
       "        vertical-align: top;\n",
       "    }\n",
       "\n",
       "    .dataframe thead th {\n",
       "        text-align: right;\n",
       "    }\n",
       "</style>\n",
       "<table border=\"1\" class=\"dataframe\">\n",
       "  <thead>\n",
       "    <tr style=\"text-align: right;\">\n",
       "      <th></th>\n",
       "      <th>VALOR REALIZADO</th>\n",
       "      <th>count</th>\n",
       "    </tr>\n",
       "  </thead>\n",
       "  <tbody>\n",
       "    <tr>\n",
       "      <th>0</th>\n",
       "      <td>0.00</td>\n",
       "      <td>21007</td>\n",
       "    </tr>\n",
       "    <tr>\n",
       "      <th>1</th>\n",
       "      <td>100.00</td>\n",
       "      <td>3515</td>\n",
       "    </tr>\n",
       "    <tr>\n",
       "      <th>2</th>\n",
       "      <td>200.00</td>\n",
       "      <td>2878</td>\n",
       "    </tr>\n",
       "    <tr>\n",
       "      <th>3</th>\n",
       "      <td>20.00</td>\n",
       "      <td>2858</td>\n",
       "    </tr>\n",
       "    <tr>\n",
       "      <th>4</th>\n",
       "      <td>50.00</td>\n",
       "      <td>2701</td>\n",
       "    </tr>\n",
       "    <tr>\n",
       "      <th>...</th>\n",
       "      <td>...</td>\n",
       "      <td>...</td>\n",
       "    </tr>\n",
       "    <tr>\n",
       "      <th>605778</th>\n",
       "      <td>130276.15</td>\n",
       "      <td>1</td>\n",
       "    </tr>\n",
       "    <tr>\n",
       "      <th>605779</th>\n",
       "      <td>324333.68</td>\n",
       "      <td>1</td>\n",
       "    </tr>\n",
       "    <tr>\n",
       "      <th>605780</th>\n",
       "      <td>237194.40</td>\n",
       "      <td>1</td>\n",
       "    </tr>\n",
       "    <tr>\n",
       "      <th>605781</th>\n",
       "      <td>224389.59</td>\n",
       "      <td>1</td>\n",
       "    </tr>\n",
       "    <tr>\n",
       "      <th>605782</th>\n",
       "      <td>1297.13</td>\n",
       "      <td>1</td>\n",
       "    </tr>\n",
       "  </tbody>\n",
       "</table>\n",
       "<p>605783 rows × 2 columns</p>\n",
       "</div>"
      ],
      "text/plain": [
       "        VALOR REALIZADO  count\n",
       "0                  0.00  21007\n",
       "1                100.00   3515\n",
       "2                200.00   2878\n",
       "3                 20.00   2858\n",
       "4                 50.00   2701\n",
       "...                 ...    ...\n",
       "605778        130276.15      1\n",
       "605779        324333.68      1\n",
       "605780        237194.40      1\n",
       "605781        224389.59      1\n",
       "605782          1297.13      1\n",
       "\n",
       "[605783 rows x 2 columns]"
      ]
     },
     "execution_count": 18,
     "metadata": {},
     "output_type": "execute_result"
    }
   ],
   "source": [
    "# Valores de la columna de `Valor recaudado`.\n",
    "\n",
    "print(f\"Los ingresos recaudados en Brasil entre 2013 y 2021 han sido: {datos_brasil[\"VALOR REALIZADO\"].sum().round(2)} \\n\")\n",
    "valor_recaudado = pd.DataFrame(datos_brasil[\"VALOR REALIZADO\"].value_counts()).reset_index()\n",
    "valor_recaudado"
   ]
  },
  {
   "cell_type": "code",
   "execution_count": 19,
   "metadata": {},
   "outputs": [],
   "source": [
    "recaudaciones_negativas = valor_recaudado[valor_recaudado[\"VALOR REALIZADO\"] < 0]\n",
    "recaudaciones_positivas = valor_recaudado[valor_recaudado[\"VALOR REALIZADO\"] > 0]"
   ]
  },
  {
   "cell_type": "code",
   "execution_count": 39,
   "metadata": {},
   "outputs": [
    {
     "data": {
      "image/png": "[encoded data removed]",
      "text/plain": [
       "<Figure size 2000x500 with 2 Axes>"
      ]
     },
     "metadata": {},
     "output_type": "display_data"
    }
   ],
   "source": [
    "fig, axes = plt.subplots(nrows = 1, ncols = 2, figsize = (20, 5))\n",
    "sns.boxplot(x = \"VALOR REALIZADO\", \n",
    "            data = recaudaciones_positivas, \n",
    "            color =\"violet\", \n",
    "            ax = axes[0])\n",
    "\n",
    "\n",
    "axes[0].set_title(\"Diagrama de caja de recaudacion ingresos\")\n",
    "axes[0].set_ylabel(\"Nº de veces que aparece cada ingreso\")\n",
    "axes[0].spines[\"right\"].set_visible(False)\n",
    "axes[0].spines[\"top\"].set_visible(False) \n",
    "\n",
    "sns.violinplot(x = \"VALOR REALIZADO\", \n",
    "            data = recaudaciones_positivas, \n",
    "            color =\"violet\",\n",
    "            ax = axes[1])\n",
    "\n",
    "\n",
    "axes[1].set_title(\"Diagrama de violin de recaudacion ingresos\")\n",
    "axes[1].set_ylabel(\"Nº de veces que aparece cada ingreso\")\n",
    "axes[1].spines[\"right\"].set_visible(False)\n",
    "axes[1].spines[\"top\"].set_visible(False)"
   ]
  },
  {
   "cell_type": "markdown",
   "metadata": {},
   "source": [
    " ### *Porcentaje recaudado respecto del previsto*\n",
    "\n",
    " El porcentaje de ingresos recaudados respecto de los ingresos previstos medio de Brasil entre 2013 y 2021 se sitúa en los 80,31 %. La mediana de este valor se sitúa en un 0 %. Observamos que la media y la mediana no son valores cercanos, por lo que no vamos a considerar la media como un estadístico representativo de la muestra en este caso. \n",
    "\n",
    "La desviación típica se sitúa en un valor de 71.481,11 %, lo cual, es un valor considerablemente alto. \n",
    "\n",
    "La asimetría presenta un valor de 1.010,95 y la media es superior a la mediana, por lo que estamos en un caso de asimetría positiva. Esto indica que en la distribución de los datos, nos vamos a encontrar con más valores inferiores. La curtosis tiene un valor de 1.023.400,74 lo que significa que la distribución de los datos tendrá un apuntamiento elevado. Hay más valores extremos en los datos. \n",
    "\n",
    "El rango se encuentra entre -114.552,00 % y 72.363.770 %, un rango extremadamente alto. En cuanto a los cuartiles, nos encontramos que un 75 % de los ingresos se encuentran por debajo del 0 %."
   ]
  },
  {
   "cell_type": "markdown",
   "metadata": {},
   "source": [
    "En la tabla a continuación podemos ver los valores que se encuentran en la columna y el número de veces que se repite cada valor."
   ]
  },
  {
   "cell_type": "code",
   "execution_count": 20,
   "metadata": {},
   "outputs": [
    {
     "name": "stdout",
     "output_type": "stream",
     "text": [
      "Los ingresos recaudados en Brasil entre 2013 y 2021 han sido: 82425985.0 \n",
      "\n"
     ]
    },
    {
     "data": {
      "text/html": [
       "<div>\n",
       "<style scoped>\n",
       "    .dataframe tbody tr th:only-of-type {\n",
       "        vertical-align: middle;\n",
       "    }\n",
       "\n",
       "    .dataframe tbody tr th {\n",
       "        vertical-align: top;\n",
       "    }\n",
       "\n",
       "    .dataframe thead th {\n",
       "        text-align: right;\n",
       "    }\n",
       "</style>\n",
       "<table border=\"1\" class=\"dataframe\">\n",
       "  <thead>\n",
       "    <tr style=\"text-align: right;\">\n",
       "      <th></th>\n",
       "      <th>count</th>\n",
       "    </tr>\n",
       "    <tr>\n",
       "      <th>PERCENTUAL REALIZADO</th>\n",
       "      <th></th>\n",
       "    </tr>\n",
       "  </thead>\n",
       "  <tbody>\n",
       "    <tr>\n",
       "      <th>0.0</th>\n",
       "      <td>1018808</td>\n",
       "    </tr>\n",
       "    <tr>\n",
       "      <th>1.0</th>\n",
       "      <td>570</td>\n",
       "    </tr>\n",
       "    <tr>\n",
       "      <th>2.0</th>\n",
       "      <td>218</td>\n",
       "    </tr>\n",
       "    <tr>\n",
       "      <th>3.0</th>\n",
       "      <td>148</td>\n",
       "    </tr>\n",
       "    <tr>\n",
       "      <th>4.0</th>\n",
       "      <td>112</td>\n",
       "    </tr>\n",
       "    <tr>\n",
       "      <th>...</th>\n",
       "      <td>...</td>\n",
       "    </tr>\n",
       "    <tr>\n",
       "      <th>501.0</th>\n",
       "      <td>1</td>\n",
       "    </tr>\n",
       "    <tr>\n",
       "      <th>48270.0</th>\n",
       "      <td>1</td>\n",
       "    </tr>\n",
       "    <tr>\n",
       "      <th>444.0</th>\n",
       "      <td>1</td>\n",
       "    </tr>\n",
       "    <tr>\n",
       "      <th>10397.0</th>\n",
       "      <td>1</td>\n",
       "    </tr>\n",
       "    <tr>\n",
       "      <th>7627.0</th>\n",
       "      <td>1</td>\n",
       "    </tr>\n",
       "  </tbody>\n",
       "</table>\n",
       "<p>971 rows × 1 columns</p>\n",
       "</div>"
      ],
      "text/plain": [
       "                        count\n",
       "PERCENTUAL REALIZADO         \n",
       "0.0                   1018808\n",
       "1.0                       570\n",
       "2.0                       218\n",
       "3.0                       148\n",
       "4.0                       112\n",
       "...                       ...\n",
       "501.0                       1\n",
       "48270.0                     1\n",
       "444.0                       1\n",
       "10397.0                     1\n",
       "7627.0                      1\n",
       "\n",
       "[971 rows x 1 columns]"
      ]
     },
     "execution_count": 20,
     "metadata": {},
     "output_type": "execute_result"
    }
   ],
   "source": [
    "# Valores de la columna de `percentual realizado`.\n",
    "\n",
    "print(f\"Los ingresos recaudados en Brasil entre 2013 y 2021 han sido: {datos_brasil[\"PERCENTUAL REALIZADO\"].sum().round(2)} \\n\")\n",
    "valor_previsto_actualizado = pd.DataFrame(datos_brasil[\"PERCENTUAL REALIZADO\"].value_counts())\n",
    "valor_previsto_actualizado"
   ]
  },
  {
   "cell_type": "markdown",
   "metadata": {},
   "source": [
    "### *Fecha de registro de ejecución del ingreso*"
   ]
  },
  {
   "cell_type": "code",
   "execution_count": 21,
   "metadata": {},
   "outputs": [
    {
     "data": {
      "text/html": [
       "<div>\n",
       "<style scoped>\n",
       "    .dataframe tbody tr th:only-of-type {\n",
       "        vertical-align: middle;\n",
       "    }\n",
       "\n",
       "    .dataframe tbody tr th {\n",
       "        vertical-align: top;\n",
       "    }\n",
       "\n",
       "    .dataframe thead th {\n",
       "        text-align: right;\n",
       "    }\n",
       "</style>\n",
       "<table border=\"1\" class=\"dataframe\">\n",
       "  <thead>\n",
       "    <tr style=\"text-align: right;\">\n",
       "      <th></th>\n",
       "      <th>index</th>\n",
       "      <th>DATA LANÇAMENTO</th>\n",
       "    </tr>\n",
       "  </thead>\n",
       "  <tbody>\n",
       "    <tr>\n",
       "      <th>0</th>\n",
       "      <td>count</td>\n",
       "      <td>1025721</td>\n",
       "    </tr>\n",
       "    <tr>\n",
       "      <th>1</th>\n",
       "      <td>mean</td>\n",
       "      <td>2018-09-20 12:23:18.569786368</td>\n",
       "    </tr>\n",
       "    <tr>\n",
       "      <th>2</th>\n",
       "      <td>min</td>\n",
       "      <td>2013-12-31 00:00:00</td>\n",
       "    </tr>\n",
       "    <tr>\n",
       "      <th>3</th>\n",
       "      <td>25%</td>\n",
       "      <td>2017-03-31 00:00:00</td>\n",
       "    </tr>\n",
       "    <tr>\n",
       "      <th>4</th>\n",
       "      <td>50%</td>\n",
       "      <td>2018-08-27 00:00:00</td>\n",
       "    </tr>\n",
       "    <tr>\n",
       "      <th>5</th>\n",
       "      <td>75%</td>\n",
       "      <td>2020-02-12 00:00:00</td>\n",
       "    </tr>\n",
       "    <tr>\n",
       "      <th>6</th>\n",
       "      <td>max</td>\n",
       "      <td>2021-12-03 00:00:00</td>\n",
       "    </tr>\n",
       "  </tbody>\n",
       "</table>\n",
       "</div>"
      ],
      "text/plain": [
       "   index                DATA LANÇAMENTO\n",
       "0  count                        1025721\n",
       "1   mean  2018-09-20 12:23:18.569786368\n",
       "2    min            2013-12-31 00:00:00\n",
       "3    25%            2017-03-31 00:00:00\n",
       "4    50%            2018-08-27 00:00:00\n",
       "5    75%            2020-02-12 00:00:00\n",
       "6    max            2021-12-03 00:00:00"
      ]
     },
     "execution_count": 21,
     "metadata": {},
     "output_type": "execute_result"
    }
   ],
   "source": [
    "datos_brasil[\"DATA LANÇAMENTO\"].describe().reset_index()"
   ]
  },
  {
   "cell_type": "code",
   "execution_count": 22,
   "metadata": {},
   "outputs": [
    {
     "name": "stdout",
     "output_type": "stream",
     "text": [
      "Los ingresos de Brasil han sido registrados en las siguientes fechas: \n",
      " \n",
      " <DatetimeArray>\n",
      "['2013-12-31 00:00:00', '2014-12-31 00:00:00', '2015-12-31 00:00:00',\n",
      " '2016-04-04 00:00:00', '2016-12-08 00:00:00', '2016-08-22 00:00:00',\n",
      " '2016-03-21 00:00:00', '2016-11-04 00:00:00', '2016-04-27 00:00:00',\n",
      " '2016-02-11 00:00:00',\n",
      " ...\n",
      " '2021-02-07 00:00:00', '2021-02-06 00:00:00', '2021-01-16 00:00:00',\n",
      " '2021-01-03 00:00:00', '2021-01-17 00:00:00', '2021-10-09 00:00:00',\n",
      " '2021-02-14 00:00:00', '2021-01-09 00:00:00', '2021-01-23 00:00:00',\n",
      " '2021-01-24 00:00:00']\n",
      "Length: 2158, dtype: datetime64[ns]\n"
     ]
    }
   ],
   "source": [
    "# Valores de la columna de `Data lancamento `.\n",
    "\n",
    "print(f\"Los ingresos de Brasil han sido registrados en las siguientes fechas: \\n \\n { datos_brasil[\"DATA LANÇAMENTO\"].unique()}\")"
   ]
  },
  {
   "cell_type": "markdown",
   "metadata": {},
   "source": [
    "## Análisis variables categóricas\n",
    "\n",
    "Las columnas con variables categóricas nos proporcionan información sobre la proveniencia de los ingresos de Brasil, así como de la estructura gubernamental del país entre 2013 y 2021. A continuación realizamos un análisis de estas variables de forma detallada. "
   ]
  },
  {
   "cell_type": "code",
   "execution_count": 23,
   "metadata": {},
   "outputs": [
    {
     "data": {
      "text/html": [
       "<div>\n",
       "<style scoped>\n",
       "    .dataframe tbody tr th:only-of-type {\n",
       "        vertical-align: middle;\n",
       "    }\n",
       "\n",
       "    .dataframe tbody tr th {\n",
       "        vertical-align: top;\n",
       "    }\n",
       "\n",
       "    .dataframe thead th {\n",
       "        text-align: right;\n",
       "    }\n",
       "</style>\n",
       "<table border=\"1\" class=\"dataframe\">\n",
       "  <thead>\n",
       "    <tr style=\"text-align: right;\">\n",
       "      <th></th>\n",
       "      <th>count</th>\n",
       "      <th>unique</th>\n",
       "      <th>top</th>\n",
       "      <th>freq</th>\n",
       "    </tr>\n",
       "  </thead>\n",
       "  <tbody>\n",
       "    <tr>\n",
       "      <th>NOME ÓRGÃO SUPERIOR</th>\n",
       "      <td>1026299</td>\n",
       "      <td>25</td>\n",
       "      <td>Ministério da Educação</td>\n",
       "      <td>361891</td>\n",
       "    </tr>\n",
       "    <tr>\n",
       "      <th>NOME ÓRGÃO</th>\n",
       "      <td>1026299</td>\n",
       "      <td>287</td>\n",
       "      <td>Ministério da Economia - Unidades com vínculo ...</td>\n",
       "      <td>119811</td>\n",
       "    </tr>\n",
       "    <tr>\n",
       "      <th>NOME UNIDADE GESTORA</th>\n",
       "      <td>1026299</td>\n",
       "      <td>356</td>\n",
       "      <td>SETORIAL ORCAMENTARIA E FINANCEIRA / ME</td>\n",
       "      <td>108481</td>\n",
       "    </tr>\n",
       "    <tr>\n",
       "      <th>CATEGORIA ECONÔMICA</th>\n",
       "      <td>1026299</td>\n",
       "      <td>5</td>\n",
       "      <td>Receitas Correntes</td>\n",
       "      <td>979596</td>\n",
       "    </tr>\n",
       "    <tr>\n",
       "      <th>ORIGEM RECEITA</th>\n",
       "      <td>1026299</td>\n",
       "      <td>15</td>\n",
       "      <td>Outras Receitas Correntes</td>\n",
       "      <td>322907</td>\n",
       "    </tr>\n",
       "    <tr>\n",
       "      <th>ESPÉCIE RECEITA</th>\n",
       "      <td>1026299</td>\n",
       "      <td>63</td>\n",
       "      <td>Serviços Administrativos e Comerciais Gerais</td>\n",
       "      <td>278157</td>\n",
       "    </tr>\n",
       "    <tr>\n",
       "      <th>DETALHAMENTO</th>\n",
       "      <td>1026299</td>\n",
       "      <td>1886</td>\n",
       "      <td>SERV.ADMINISTRAT.E COMERCIAIS GERAIS-PRINC.</td>\n",
       "      <td>159039</td>\n",
       "    </tr>\n",
       "  </tbody>\n",
       "</table>\n",
       "</div>"
      ],
      "text/plain": [
       "                        count unique  \\\n",
       "NOME ÓRGÃO SUPERIOR   1026299     25   \n",
       "NOME ÓRGÃO            1026299    287   \n",
       "NOME UNIDADE GESTORA  1026299    356   \n",
       "CATEGORIA ECONÔMICA   1026299      5   \n",
       "ORIGEM RECEITA        1026299     15   \n",
       "ESPÉCIE RECEITA       1026299     63   \n",
       "DETALHAMENTO          1026299   1886   \n",
       "\n",
       "                                                                    top  \\\n",
       "NOME ÓRGÃO SUPERIOR                              Ministério da Educação   \n",
       "NOME ÓRGÃO            Ministério da Economia - Unidades com vínculo ...   \n",
       "NOME UNIDADE GESTORA            SETORIAL ORCAMENTARIA E FINANCEIRA / ME   \n",
       "CATEGORIA ECONÔMICA                                  Receitas Correntes   \n",
       "ORIGEM RECEITA                                Outras Receitas Correntes   \n",
       "ESPÉCIE RECEITA            Serviços Administrativos e Comerciais Gerais   \n",
       "DETALHAMENTO                SERV.ADMINISTRAT.E COMERCIAIS GERAIS-PRINC.   \n",
       "\n",
       "                        freq  \n",
       "NOME ÓRGÃO SUPERIOR   361891  \n",
       "NOME ÓRGÃO            119811  \n",
       "NOME UNIDADE GESTORA  108481  \n",
       "CATEGORIA ECONÔMICA   979596  \n",
       "ORIGEM RECEITA        322907  \n",
       "ESPÉCIE RECEITA       278157  \n",
       "DETALHAMENTO          159039  "
      ]
     },
     "execution_count": 23,
     "metadata": {},
     "output_type": "execute_result"
    }
   ],
   "source": [
    "# Sacamos los estadísticos de las variables de las columnas categóricas. \n",
    "datos_brasil.describe(include = \"object\").T"
   ]
  },
  {
   "cell_type": "markdown",
   "metadata": {},
   "source": [
    "A continuación revisamos la información columna a columna."
   ]
  },
  {
   "cell_type": "markdown",
   "metadata": {},
   "source": [
    "### *Entidad gubernamental superior*\n",
    "\n",
    "En Brasil, entre 2013 y 2021 nos encontramos con un total de 25 organismos superiores. El organismo que más veces se repite es el Ministerio de Educación, el cual ha ingresado un total de 221.589.353.642,78 $. Este valor se encuentra muy por encima de los ingresos medios. "
   ]
  },
  {
   "cell_type": "code",
   "execution_count": 24,
   "metadata": {},
   "outputs": [
    {
     "data": {
      "text/plain": [
       "np.float64(221589353642.78)"
      ]
     },
     "execution_count": 24,
     "metadata": {},
     "output_type": "execute_result"
    }
   ],
   "source": [
    "ingreso_entidad_superior = datos_brasil[datos_brasil[\"NOME ÓRGÃO SUPERIOR\"] == \"Ministério da Educação\"][\"VALOR REALIZADO\"].sum().round(2)\n",
    "ingreso_entidad_superior"
   ]
  },
  {
   "cell_type": "code",
   "execution_count": 25,
   "metadata": {},
   "outputs": [
    {
     "name": "stdout",
     "output_type": "stream",
     "text": [
      "Las organizaciones gubernamentales superiores de Brasil entre 2013 y 2021 son: \n",
      " \n"
     ]
    },
    {
     "data": {
      "text/html": [
       "<div>\n",
       "<style scoped>\n",
       "    .dataframe tbody tr th:only-of-type {\n",
       "        vertical-align: middle;\n",
       "    }\n",
       "\n",
       "    .dataframe tbody tr th {\n",
       "        vertical-align: top;\n",
       "    }\n",
       "\n",
       "    .dataframe thead th {\n",
       "        text-align: right;\n",
       "    }\n",
       "</style>\n",
       "<table border=\"1\" class=\"dataframe\">\n",
       "  <thead>\n",
       "    <tr style=\"text-align: right;\">\n",
       "      <th></th>\n",
       "      <th>count</th>\n",
       "      <th>Peso categoría</th>\n",
       "    </tr>\n",
       "    <tr>\n",
       "      <th>NOME ÓRGÃO SUPERIOR</th>\n",
       "      <th></th>\n",
       "      <th></th>\n",
       "    </tr>\n",
       "  </thead>\n",
       "  <tbody>\n",
       "    <tr>\n",
       "      <th>Ministério da Educação</th>\n",
       "      <td>361891</td>\n",
       "      <td>35.26</td>\n",
       "    </tr>\n",
       "    <tr>\n",
       "      <th>Ministério da Economia</th>\n",
       "      <td>207574</td>\n",
       "      <td>20.23</td>\n",
       "    </tr>\n",
       "    <tr>\n",
       "      <th>Ministério da Defesa</th>\n",
       "      <td>95490</td>\n",
       "      <td>9.30</td>\n",
       "    </tr>\n",
       "    <tr>\n",
       "      <th>Ministério da Agricultura, Pecuária e Abastec</th>\n",
       "      <td>46183</td>\n",
       "      <td>4.50</td>\n",
       "    </tr>\n",
       "    <tr>\n",
       "      <th>Ministério da Justiça e Segurança Pública</th>\n",
       "      <td>39980</td>\n",
       "      <td>3.90</td>\n",
       "    </tr>\n",
       "    <tr>\n",
       "      <th>Ministério da Infraestrutura</th>\n",
       "      <td>37476</td>\n",
       "      <td>3.65</td>\n",
       "    </tr>\n",
       "    <tr>\n",
       "      <th>Ministério da Saúde</th>\n",
       "      <td>33380</td>\n",
       "      <td>3.25</td>\n",
       "    </tr>\n",
       "    <tr>\n",
       "      <th>Ministério de Minas e Energia</th>\n",
       "      <td>33014</td>\n",
       "      <td>3.22</td>\n",
       "    </tr>\n",
       "    <tr>\n",
       "      <th>Ministério da Ciência, Tecnologia, Inovações</th>\n",
       "      <td>32846</td>\n",
       "      <td>3.20</td>\n",
       "    </tr>\n",
       "    <tr>\n",
       "      <th>Ministério do Desenvolvimento Regional</th>\n",
       "      <td>32725</td>\n",
       "      <td>3.19</td>\n",
       "    </tr>\n",
       "    <tr>\n",
       "      <th>Ministério das Comunicações</th>\n",
       "      <td>29485</td>\n",
       "      <td>2.87</td>\n",
       "    </tr>\n",
       "    <tr>\n",
       "      <th>Ministério do Meio Ambiente</th>\n",
       "      <td>27151</td>\n",
       "      <td>2.65</td>\n",
       "    </tr>\n",
       "    <tr>\n",
       "      <th>Ministério do Turismo</th>\n",
       "      <td>27096</td>\n",
       "      <td>2.64</td>\n",
       "    </tr>\n",
       "    <tr>\n",
       "      <th>Ministério da Cidadania</th>\n",
       "      <td>5898</td>\n",
       "      <td>0.57</td>\n",
       "    </tr>\n",
       "    <tr>\n",
       "      <th>Presidência da República</th>\n",
       "      <td>4976</td>\n",
       "      <td>0.48</td>\n",
       "    </tr>\n",
       "    <tr>\n",
       "      <th>Advocacia-Geral da União</th>\n",
       "      <td>3899</td>\n",
       "      <td>0.38</td>\n",
       "    </tr>\n",
       "    <tr>\n",
       "      <th>Ministério das Relações Exteriores</th>\n",
       "      <td>3563</td>\n",
       "      <td>0.35</td>\n",
       "    </tr>\n",
       "    <tr>\n",
       "      <th>Ministério da Mulher, Família e Direitos Huma</th>\n",
       "      <td>1157</td>\n",
       "      <td>0.11</td>\n",
       "    </tr>\n",
       "    <tr>\n",
       "      <th>Ministério do Trabalho e Emprego</th>\n",
       "      <td>685</td>\n",
       "      <td>0.07</td>\n",
       "    </tr>\n",
       "    <tr>\n",
       "      <th>Ministério do Desenvolvimento Agrário</th>\n",
       "      <td>666</td>\n",
       "      <td>0.06</td>\n",
       "    </tr>\n",
       "    <tr>\n",
       "      <th>Ministério da Pesca e Aquicultura</th>\n",
       "      <td>373</td>\n",
       "      <td>0.04</td>\n",
       "    </tr>\n",
       "    <tr>\n",
       "      <th>Ministério das Mulheres, Igualdade Racial, da</th>\n",
       "      <td>285</td>\n",
       "      <td>0.03</td>\n",
       "    </tr>\n",
       "    <tr>\n",
       "      <th>Controladoria-Geral da União</th>\n",
       "      <td>252</td>\n",
       "      <td>0.02</td>\n",
       "    </tr>\n",
       "    <tr>\n",
       "      <th>Ministério do Esporte</th>\n",
       "      <td>147</td>\n",
       "      <td>0.01</td>\n",
       "    </tr>\n",
       "    <tr>\n",
       "      <th>Ministério da Previdência Social</th>\n",
       "      <td>107</td>\n",
       "      <td>0.01</td>\n",
       "    </tr>\n",
       "  </tbody>\n",
       "</table>\n",
       "</div>"
      ],
      "text/plain": [
       "                                                count  Peso categoría\n",
       "NOME ÓRGÃO SUPERIOR                                                  \n",
       "Ministério da Educação                         361891           35.26\n",
       "Ministério da Economia                         207574           20.23\n",
       "Ministério da Defesa                            95490            9.30\n",
       "Ministério da Agricultura, Pecuária e Abastec   46183            4.50\n",
       "Ministério da Justiça e Segurança Pública       39980            3.90\n",
       "Ministério da Infraestrutura                    37476            3.65\n",
       "Ministério da Saúde                             33380            3.25\n",
       "Ministério de Minas e Energia                   33014            3.22\n",
       "Ministério da Ciência, Tecnologia, Inovações    32846            3.20\n",
       "Ministério do Desenvolvimento Regional          32725            3.19\n",
       "Ministério das Comunicações                     29485            2.87\n",
       "Ministério do Meio Ambiente                     27151            2.65\n",
       "Ministério do Turismo                           27096            2.64\n",
       "Ministério da Cidadania                          5898            0.57\n",
       "Presidência da República                         4976            0.48\n",
       "Advocacia-Geral da União                         3899            0.38\n",
       "Ministério das Relações Exteriores               3563            0.35\n",
       "Ministério da Mulher, Família e Direitos Huma    1157            0.11\n",
       "Ministério do Trabalho e Emprego                  685            0.07\n",
       "Ministério do Desenvolvimento Agrário             666            0.06\n",
       "Ministério da Pesca e Aquicultura                 373            0.04\n",
       "Ministério das Mulheres, Igualdade Racial, da     285            0.03\n",
       "Controladoria-Geral da União                      252            0.02\n",
       "Ministério do Esporte                             147            0.01\n",
       "Ministério da Previdência Social                  107            0.01"
      ]
     },
     "execution_count": 25,
     "metadata": {},
     "output_type": "execute_result"
    }
   ],
   "source": [
    "# Valores de la columna de `Organización superior`\n",
    "\n",
    "print(\"Las organizaciones gubernamentales superiores de Brasil entre 2013 y 2021 son: \\n \")\n",
    "detalle_categoría_economica = pd.DataFrame(datos_brasil[\"NOME ÓRGÃO SUPERIOR\"].value_counts())\n",
    "detalle_categoría_economica[\"Peso categoría\"] = round(((detalle_categoría_economica[\"count\"]/datos_brasil.shape[0])*100), 2)\n",
    "detalle_categoría_economica\n"
   ]
  },
  {
   "cell_type": "markdown",
   "metadata": {},
   "source": [
    "### *Entidad gubernamental específica*\n",
    "\n",
    "En Brasil, entre 2013 y 2021 nos encontramos con un total de 297 organismos específicos. El organismo que más veces se repite es el Ministério da Economia - Unidades com vínculo direto, el cual ha ingresado un total de 208.88.345.811.550,4 $. Este valor se encuentra muy por encima de los ingresos medios. "
   ]
  },
  {
   "cell_type": "code",
   "execution_count": 26,
   "metadata": {},
   "outputs": [
    {
     "data": {
      "text/plain": [
       "np.float64(20888345811550.4)"
      ]
     },
     "execution_count": 26,
     "metadata": {},
     "output_type": "execute_result"
    }
   ],
   "source": [
    "ingreso_entidad_específica = datos_brasil[datos_brasil[\"NOME ÓRGÃO\"] == \"Ministério da Economia - Unidades com vínculo direto\"][\"VALOR REALIZADO\"].sum().round(2)\n",
    "ingreso_entidad_específica"
   ]
  },
  {
   "cell_type": "code",
   "execution_count": 27,
   "metadata": {},
   "outputs": [
    {
     "name": "stdout",
     "output_type": "stream",
     "text": [
      "Las entidades gubernamentales específicas que nos encontramos en la adminsitración de Brasil son: \n",
      " \n"
     ]
    },
    {
     "data": {
      "text/html": [
       "<div>\n",
       "<style scoped>\n",
       "    .dataframe tbody tr th:only-of-type {\n",
       "        vertical-align: middle;\n",
       "    }\n",
       "\n",
       "    .dataframe tbody tr th {\n",
       "        vertical-align: top;\n",
       "    }\n",
       "\n",
       "    .dataframe thead th {\n",
       "        text-align: right;\n",
       "    }\n",
       "</style>\n",
       "<table border=\"1\" class=\"dataframe\">\n",
       "  <thead>\n",
       "    <tr style=\"text-align: right;\">\n",
       "      <th></th>\n",
       "      <th>count</th>\n",
       "      <th>Peso categoría</th>\n",
       "    </tr>\n",
       "    <tr>\n",
       "      <th>NOME ÓRGÃO</th>\n",
       "      <th></th>\n",
       "      <th></th>\n",
       "    </tr>\n",
       "  </thead>\n",
       "  <tbody>\n",
       "    <tr>\n",
       "      <th>Ministério da Economia - Unidades com vínculo direto</th>\n",
       "      <td>119811</td>\n",
       "      <td>11.67</td>\n",
       "    </tr>\n",
       "    <tr>\n",
       "      <th>Fundo do Exército</th>\n",
       "      <td>25559</td>\n",
       "      <td>2.49</td>\n",
       "    </tr>\n",
       "    <tr>\n",
       "      <th>Comando da Marinha - Fundo Naval</th>\n",
       "      <td>23734</td>\n",
       "      <td>2.31</td>\n",
       "    </tr>\n",
       "    <tr>\n",
       "      <th>Fundo Nacional de Cultura</th>\n",
       "      <td>15955</td>\n",
       "      <td>1.55</td>\n",
       "    </tr>\n",
       "    <tr>\n",
       "      <th>Instituto Brasileiro do Meio Ambiente e dos Recursos Naturais Renováveis</th>\n",
       "      <td>13745</td>\n",
       "      <td>1.34</td>\n",
       "    </tr>\n",
       "    <tr>\n",
       "      <th>...</th>\n",
       "      <td>...</td>\n",
       "      <td>...</td>\n",
       "    </tr>\n",
       "    <tr>\n",
       "      <th>Hospital Cristo Redentor S.A.</th>\n",
       "      <td>2</td>\n",
       "      <td>0.00</td>\n",
       "    </tr>\n",
       "    <tr>\n",
       "      <th>Agência de Desenvolvimento da Amazônia</th>\n",
       "      <td>2</td>\n",
       "      <td>0.00</td>\n",
       "    </tr>\n",
       "    <tr>\n",
       "      <th>Companhia de Desenvolvimento de Barcarena</th>\n",
       "      <td>1</td>\n",
       "      <td>0.00</td>\n",
       "    </tr>\n",
       "    <tr>\n",
       "      <th>Departamento Nacional de Estradas de Rodagem</th>\n",
       "      <td>1</td>\n",
       "      <td>0.00</td>\n",
       "    </tr>\n",
       "    <tr>\n",
       "      <th>Hospital Fêmina S.A.</th>\n",
       "      <td>1</td>\n",
       "      <td>0.00</td>\n",
       "    </tr>\n",
       "  </tbody>\n",
       "</table>\n",
       "<p>287 rows × 2 columns</p>\n",
       "</div>"
      ],
      "text/plain": [
       "                                                     count  Peso categoría\n",
       "NOME ÓRGÃO                                                                \n",
       "Ministério da Economia - Unidades com vínculo d...  119811           11.67\n",
       "Fundo do Exército                                    25559            2.49\n",
       "Comando da Marinha - Fundo Naval                     23734            2.31\n",
       "Fundo Nacional de Cultura                            15955            1.55\n",
       "Instituto Brasileiro do Meio Ambiente e dos Rec...   13745            1.34\n",
       "...                                                    ...             ...\n",
       "Hospital Cristo Redentor S.A.                            2            0.00\n",
       "Agência de Desenvolvimento da Amazônia                   2            0.00\n",
       "Companhia de Desenvolvimento de Barcarena                1            0.00\n",
       "Departamento Nacional de Estradas de Rodagem             1            0.00\n",
       "Hospital Fêmina S.A.                                     1            0.00\n",
       "\n",
       "[287 rows x 2 columns]"
      ]
     },
     "execution_count": 27,
     "metadata": {},
     "output_type": "execute_result"
    }
   ],
   "source": [
    "# Valores de la columna de `Nombre de organización`.\n",
    "\n",
    "print(\"Las entidades gubernamentales específicas que nos encontramos en la adminsitración de Brasil son: \\n \")\n",
    "detalle_categoría_economica = pd.DataFrame(datos_brasil[\"NOME ÓRGÃO\"].value_counts())\n",
    "detalle_categoría_economica[\"Peso categoría\"] = round(((detalle_categoría_economica[\"count\"]/datos_brasil.shape[0])*100), 2)\n",
    "detalle_categoría_economica"
   ]
  },
  {
   "cell_type": "markdown",
   "metadata": {},
   "source": [
    "### *Entidad gestora*\n",
    "\n",
    "En Brasil, entre 2013 y 2021 nos encontramos con un total de 356 unidades gestoras. La unidad que más veces se repite es el SETORIAL ORCAMENTARIA E FINANCEIRA / ME\t, el cual ha ingresado un total de 20.870.899.752.169,65 $. Este valor se encuentra muy por encima de los ingresos medios. "
   ]
  },
  {
   "cell_type": "code",
   "execution_count": 28,
   "metadata": {},
   "outputs": [
    {
     "data": {
      "text/plain": [
       "np.float64(20870899752169.65)"
      ]
     },
     "execution_count": 28,
     "metadata": {},
     "output_type": "execute_result"
    }
   ],
   "source": [
    "ingreso_unidad_gestora = datos_brasil[datos_brasil[\"NOME UNIDADE GESTORA\"] == \"SETORIAL ORCAMENTARIA E FINANCEIRA / ME\"][\"VALOR REALIZADO\"].sum().round(2)\n",
    "ingreso_unidad_gestora"
   ]
  },
  {
   "cell_type": "code",
   "execution_count": 29,
   "metadata": {},
   "outputs": [
    {
     "name": "stdout",
     "output_type": "stream",
     "text": [
      "Las organizaciones gestoras que nos encontramos en la adminsitración de Brasil son: \n",
      " \n"
     ]
    },
    {
     "data": {
      "text/html": [
       "<div>\n",
       "<style scoped>\n",
       "    .dataframe tbody tr th:only-of-type {\n",
       "        vertical-align: middle;\n",
       "    }\n",
       "\n",
       "    .dataframe tbody tr th {\n",
       "        vertical-align: top;\n",
       "    }\n",
       "\n",
       "    .dataframe thead th {\n",
       "        text-align: right;\n",
       "    }\n",
       "</style>\n",
       "<table border=\"1\" class=\"dataframe\">\n",
       "  <thead>\n",
       "    <tr style=\"text-align: right;\">\n",
       "      <th></th>\n",
       "      <th>count</th>\n",
       "      <th>Peso categoría</th>\n",
       "    </tr>\n",
       "    <tr>\n",
       "      <th>NOME UNIDADE GESTORA</th>\n",
       "      <th></th>\n",
       "      <th></th>\n",
       "    </tr>\n",
       "  </thead>\n",
       "  <tbody>\n",
       "    <tr>\n",
       "      <th>SETORIAL ORCAMENTARIA E FINANCEIRA / ME</th>\n",
       "      <td>108481</td>\n",
       "      <td>10.57</td>\n",
       "    </tr>\n",
       "    <tr>\n",
       "      <th>FUNDO DO EXERCITO</th>\n",
       "      <td>25469</td>\n",
       "      <td>2.48</td>\n",
       "    </tr>\n",
       "    <tr>\n",
       "      <th>DIRETORIA DE FINANCAS-SISTEMA PARA O PAIS/MM</th>\n",
       "      <td>23532</td>\n",
       "      <td>2.29</td>\n",
       "    </tr>\n",
       "    <tr>\n",
       "      <th>IBAMA - INST.BRASILEIRO MEIO AMBIENTE/MATRIZ</th>\n",
       "      <td>13698</td>\n",
       "      <td>1.33</td>\n",
       "    </tr>\n",
       "    <tr>\n",
       "      <th>EMBRAPA-SETORIAL</th>\n",
       "      <td>13641</td>\n",
       "      <td>1.33</td>\n",
       "    </tr>\n",
       "    <tr>\n",
       "      <th>...</th>\n",
       "      <td>...</td>\n",
       "      <td>...</td>\n",
       "    </tr>\n",
       "    <tr>\n",
       "      <th>IBAMA - SUPERINTENDENCIA DE RORAIMA/RR</th>\n",
       "      <td>2</td>\n",
       "      <td>0.00</td>\n",
       "    </tr>\n",
       "    <tr>\n",
       "      <th>COORDENACAO DE ORCAMENTO E FINANCAS - COF/DPF</th>\n",
       "      <td>1</td>\n",
       "      <td>0.00</td>\n",
       "    </tr>\n",
       "    <tr>\n",
       "      <th>HOSPITAL FEMINA S/A</th>\n",
       "      <td>1</td>\n",
       "      <td>0.00</td>\n",
       "    </tr>\n",
       "    <tr>\n",
       "      <th>DEPARTAMENTO NAC. ESTRADAS E RODAGEM-EXTINCAO</th>\n",
       "      <td>1</td>\n",
       "      <td>0.00</td>\n",
       "    </tr>\n",
       "    <tr>\n",
       "      <th>COMPANHIA DE DESENVOLVIMENTO DE BARCARENA</th>\n",
       "      <td>1</td>\n",
       "      <td>0.00</td>\n",
       "    </tr>\n",
       "  </tbody>\n",
       "</table>\n",
       "<p>356 rows × 2 columns</p>\n",
       "</div>"
      ],
      "text/plain": [
       "                                                count  Peso categoría\n",
       "NOME UNIDADE GESTORA                                                 \n",
       "SETORIAL ORCAMENTARIA E FINANCEIRA / ME        108481           10.57\n",
       "FUNDO DO EXERCITO                               25469            2.48\n",
       "DIRETORIA DE FINANCAS-SISTEMA PARA O PAIS/MM    23532            2.29\n",
       "IBAMA - INST.BRASILEIRO MEIO AMBIENTE/MATRIZ    13698            1.33\n",
       "EMBRAPA-SETORIAL                                13641            1.33\n",
       "...                                               ...             ...\n",
       "IBAMA - SUPERINTENDENCIA DE RORAIMA/RR              2            0.00\n",
       "COORDENACAO DE ORCAMENTO E FINANCAS - COF/DPF       1            0.00\n",
       "HOSPITAL FEMINA S/A                                 1            0.00\n",
       "DEPARTAMENTO NAC. ESTRADAS E RODAGEM-EXTINCAO       1            0.00\n",
       "COMPANHIA DE DESENVOLVIMENTO DE BARCARENA           1            0.00\n",
       "\n",
       "[356 rows x 2 columns]"
      ]
     },
     "execution_count": 29,
     "metadata": {},
     "output_type": "execute_result"
    }
   ],
   "source": [
    "# Valores de la columna de `Nombre de organización gestora`.\n",
    "\n",
    "print(\"Las organizaciones gestoras que nos encontramos en la adminsitración de Brasil son: \\n \")\n",
    "detalle_org_gestora = pd.DataFrame(datos_brasil[\"NOME UNIDADE GESTORA\"].value_counts())\n",
    "detalle_org_gestora[\"Peso categoría\"] = round(((detalle_org_gestora[\"count\"]/datos_brasil.shape[0])*100), 2)\n",
    "detalle_org_gestora"
   ]
  },
  {
   "cell_type": "markdown",
   "metadata": {},
   "source": [
    "### *Clasificación económica de los ingresos*\n",
    "\n",
    "En Brasil, entre 2013 y 2021 los ingresos se han clasificado en un total de 5 categorías económicas generales. La categoría que más ingresos ha recaudado son los ingresos corrientes, con un total de 12.909.343.128.909,44 $. "
   ]
  },
  {
   "cell_type": "code",
   "execution_count": 30,
   "metadata": {},
   "outputs": [
    {
     "data": {
      "text/plain": [
       "np.float64(12909343128909.44)"
      ]
     },
     "execution_count": 30,
     "metadata": {},
     "output_type": "execute_result"
    }
   ],
   "source": [
    "ingresos_corrientes_totales = datos_brasil[datos_brasil[\"CATEGORIA ECONÔMICA\"] == \"Receitas Correntes\"][\"VALOR REALIZADO\"].sum().round(2)\n",
    "ingresos_corrientes_totales"
   ]
  },
  {
   "cell_type": "code",
   "execution_count": 31,
   "metadata": {},
   "outputs": [
    {
     "name": "stdout",
     "output_type": "stream",
     "text": [
      "Los ingresos de Brasil se clasifican en las siguientes: \n",
      " \n"
     ]
    },
    {
     "data": {
      "text/html": [
       "<div>\n",
       "<style scoped>\n",
       "    .dataframe tbody tr th:only-of-type {\n",
       "        vertical-align: middle;\n",
       "    }\n",
       "\n",
       "    .dataframe tbody tr th {\n",
       "        vertical-align: top;\n",
       "    }\n",
       "\n",
       "    .dataframe thead th {\n",
       "        text-align: right;\n",
       "    }\n",
       "</style>\n",
       "<table border=\"1\" class=\"dataframe\">\n",
       "  <thead>\n",
       "    <tr style=\"text-align: right;\">\n",
       "      <th></th>\n",
       "      <th>count</th>\n",
       "      <th>Peso categoría</th>\n",
       "    </tr>\n",
       "    <tr>\n",
       "      <th>CATEGORIA ECONÔMICA</th>\n",
       "      <th></th>\n",
       "      <th></th>\n",
       "    </tr>\n",
       "  </thead>\n",
       "  <tbody>\n",
       "    <tr>\n",
       "      <th>Receitas Correntes</th>\n",
       "      <td>979596</td>\n",
       "      <td>95.45</td>\n",
       "    </tr>\n",
       "    <tr>\n",
       "      <th>Receitas de Capital</th>\n",
       "      <td>30116</td>\n",
       "      <td>2.93</td>\n",
       "    </tr>\n",
       "    <tr>\n",
       "      <th>Receitas Correntes - intra-orçamentárias</th>\n",
       "      <td>16235</td>\n",
       "      <td>1.58</td>\n",
       "    </tr>\n",
       "    <tr>\n",
       "      <th>Sem informação</th>\n",
       "      <td>257</td>\n",
       "      <td>0.03</td>\n",
       "    </tr>\n",
       "    <tr>\n",
       "      <th>Receitas de Capital - intra-orçamentárias</th>\n",
       "      <td>95</td>\n",
       "      <td>0.01</td>\n",
       "    </tr>\n",
       "  </tbody>\n",
       "</table>\n",
       "</div>"
      ],
      "text/plain": [
       "                                            count  Peso categoría\n",
       "CATEGORIA ECONÔMICA                                              \n",
       "Receitas Correntes                         979596           95.45\n",
       "Receitas de Capital                         30116            2.93\n",
       "Receitas Correntes - intra-orçamentárias    16235            1.58\n",
       "Sem informação                                257            0.03\n",
       "Receitas de Capital - intra-orçamentárias      95            0.01"
      ]
     },
     "execution_count": 31,
     "metadata": {},
     "output_type": "execute_result"
    }
   ],
   "source": [
    "# Valores de la columna de `Categoría económica`.\n",
    "\n",
    "print(\"Los ingresos de Brasil se clasifican en las siguientes: \\n \")\n",
    "detalle_categoría_economica = pd.DataFrame(datos_brasil[\"CATEGORIA ECONÔMICA\"].value_counts())\n",
    "detalle_categoría_economica[\"Peso categoría\"] = round(((detalle_categoría_economica[\"count\"]/datos_brasil.shape[0])*100), 2)\n",
    "detalle_categoría_economica"
   ]
  },
  {
   "cell_type": "markdown",
   "metadata": {},
   "source": [
    "### *Origen de los ingresos*\n",
    "\n",
    "En Brasil, entre 2013 y 2021 los ingresos han provenido de un total de 15 categorías diferentes. La categoría que más ingresos ha recaudado es la de Otros ingresos corrientes, con un total de 495.575.920.557,84 $. "
   ]
  },
  {
   "cell_type": "code",
   "execution_count": 32,
   "metadata": {},
   "outputs": [
    {
     "data": {
      "text/plain": [
       "np.float64(495575920557.84)"
      ]
     },
     "execution_count": 32,
     "metadata": {},
     "output_type": "execute_result"
    }
   ],
   "source": [
    "otros_ingresos_corrientes_totales = datos_brasil[datos_brasil[\"ORIGEM RECEITA\"] == \"Outras Receitas Correntes\"][\"VALOR REALIZADO\"].sum().round(2)\n",
    "otros_ingresos_corrientes_totales"
   ]
  },
  {
   "cell_type": "code",
   "execution_count": 33,
   "metadata": {},
   "outputs": [
    {
     "name": "stdout",
     "output_type": "stream",
     "text": [
      "Los ingresos de Brasil provienen de las siguientes categorías: \n",
      " \n"
     ]
    },
    {
     "data": {
      "text/html": [
       "<div>\n",
       "<style scoped>\n",
       "    .dataframe tbody tr th:only-of-type {\n",
       "        vertical-align: middle;\n",
       "    }\n",
       "\n",
       "    .dataframe tbody tr th {\n",
       "        vertical-align: top;\n",
       "    }\n",
       "\n",
       "    .dataframe thead th {\n",
       "        text-align: right;\n",
       "    }\n",
       "</style>\n",
       "<table border=\"1\" class=\"dataframe\">\n",
       "  <thead>\n",
       "    <tr style=\"text-align: right;\">\n",
       "      <th></th>\n",
       "      <th>count</th>\n",
       "      <th>Peso categoría</th>\n",
       "    </tr>\n",
       "    <tr>\n",
       "      <th>ORIGEM RECEITA</th>\n",
       "      <th></th>\n",
       "      <th></th>\n",
       "    </tr>\n",
       "  </thead>\n",
       "  <tbody>\n",
       "    <tr>\n",
       "      <th>Outras Receitas Correntes</th>\n",
       "      <td>322907</td>\n",
       "      <td>31.46</td>\n",
       "    </tr>\n",
       "    <tr>\n",
       "      <th>Receita de Serviços</th>\n",
       "      <td>322319</td>\n",
       "      <td>31.41</td>\n",
       "    </tr>\n",
       "    <tr>\n",
       "      <th>Receita Patrimonial</th>\n",
       "      <td>163171</td>\n",
       "      <td>15.90</td>\n",
       "    </tr>\n",
       "    <tr>\n",
       "      <th>Impostos, Taxas e Contribuições de Melhoria</th>\n",
       "      <td>78340</td>\n",
       "      <td>7.63</td>\n",
       "    </tr>\n",
       "    <tr>\n",
       "      <th>Contribuições</th>\n",
       "      <td>66781</td>\n",
       "      <td>6.51</td>\n",
       "    </tr>\n",
       "    <tr>\n",
       "      <th>Receita Industrial</th>\n",
       "      <td>18857</td>\n",
       "      <td>1.84</td>\n",
       "    </tr>\n",
       "    <tr>\n",
       "      <th>Receita Agropecuária</th>\n",
       "      <td>13642</td>\n",
       "      <td>1.33</td>\n",
       "    </tr>\n",
       "    <tr>\n",
       "      <th>Alienação de Bens</th>\n",
       "      <td>12418</td>\n",
       "      <td>1.21</td>\n",
       "    </tr>\n",
       "    <tr>\n",
       "      <th>Amortizações de Empréstimos</th>\n",
       "      <td>11318</td>\n",
       "      <td>1.10</td>\n",
       "    </tr>\n",
       "    <tr>\n",
       "      <th>Transferências Correntes</th>\n",
       "      <td>6385</td>\n",
       "      <td>0.62</td>\n",
       "    </tr>\n",
       "    <tr>\n",
       "      <th>Operações de Crédito</th>\n",
       "      <td>5044</td>\n",
       "      <td>0.49</td>\n",
       "    </tr>\n",
       "    <tr>\n",
       "      <th>Receitas Correntes - a classificar</th>\n",
       "      <td>3429</td>\n",
       "      <td>0.33</td>\n",
       "    </tr>\n",
       "    <tr>\n",
       "      <th>Outras Receitas de Capital</th>\n",
       "      <td>1060</td>\n",
       "      <td>0.10</td>\n",
       "    </tr>\n",
       "    <tr>\n",
       "      <th>Transferências de Capital</th>\n",
       "      <td>371</td>\n",
       "      <td>0.04</td>\n",
       "    </tr>\n",
       "    <tr>\n",
       "      <th>Sem informação</th>\n",
       "      <td>257</td>\n",
       "      <td>0.03</td>\n",
       "    </tr>\n",
       "  </tbody>\n",
       "</table>\n",
       "</div>"
      ],
      "text/plain": [
       "                                              count  Peso categoría\n",
       "ORIGEM RECEITA                                                     \n",
       "Outras Receitas Correntes                    322907           31.46\n",
       "Receita de Serviços                          322319           31.41\n",
       "Receita Patrimonial                          163171           15.90\n",
       "Impostos, Taxas e Contribuições de Melhoria   78340            7.63\n",
       "Contribuições                                 66781            6.51\n",
       "Receita Industrial                            18857            1.84\n",
       "Receita Agropecuária                          13642            1.33\n",
       "Alienação de Bens                             12418            1.21\n",
       "Amortizações de Empréstimos                   11318            1.10\n",
       "Transferências Correntes                       6385            0.62\n",
       "Operações de Crédito                           5044            0.49\n",
       "Receitas Correntes - a classificar             3429            0.33\n",
       "Outras Receitas de Capital                     1060            0.10\n",
       "Transferências de Capital                       371            0.04\n",
       "Sem informação                                  257            0.03"
      ]
     },
     "execution_count": 33,
     "metadata": {},
     "output_type": "execute_result"
    }
   ],
   "source": [
    "# Valores de la columna de `Origen de ingresos`.\n",
    "\n",
    "print(\"Los ingresos de Brasil provienen de las siguientes categorías: \\n \")\n",
    "detalle_origen_ingreso = pd.DataFrame(datos_brasil[\"ORIGEM RECEITA\"].value_counts())\n",
    "detalle_origen_ingreso[\"Peso categoría\"] = round(((detalle_origen_ingreso[\"count\"]/datos_brasil.shape[0])*100), 2)\n",
    "detalle_origen_ingreso\n"
   ]
  },
  {
   "cell_type": "markdown",
   "metadata": {},
   "source": [
    "### *Tipo de ingreso*\n",
    "\n",
    "En Brasil, entre 2013 y 2021 los ingresos han sido de un total de 63 tipos diferentes. La categoría que más ingresos ha recaudado es la de Otros ingresos corrientes, con un total de 32.059.641.128,12 $."
   ]
  },
  {
   "cell_type": "code",
   "execution_count": 34,
   "metadata": {},
   "outputs": [
    {
     "data": {
      "text/plain": [
       "np.float64(32059641128.12)"
      ]
     },
     "execution_count": 34,
     "metadata": {},
     "output_type": "execute_result"
    }
   ],
   "source": [
    "tipo_ingresos = datos_brasil[datos_brasil[\"ESPÉCIE RECEITA\"] == \"Serviços Administrativos e Comerciais Gerais\"][\"VALOR REALIZADO\"].sum().round(2)\n",
    "tipo_ingresos"
   ]
  },
  {
   "cell_type": "code",
   "execution_count": 35,
   "metadata": {},
   "outputs": [
    {
     "name": "stdout",
     "output_type": "stream",
     "text": [
      "Los ingresos de Brasil provienen de las siguientes categorías: \n",
      " \n"
     ]
    },
    {
     "data": {
      "text/html": [
       "<div>\n",
       "<style scoped>\n",
       "    .dataframe tbody tr th:only-of-type {\n",
       "        vertical-align: middle;\n",
       "    }\n",
       "\n",
       "    .dataframe tbody tr th {\n",
       "        vertical-align: top;\n",
       "    }\n",
       "\n",
       "    .dataframe thead th {\n",
       "        text-align: right;\n",
       "    }\n",
       "</style>\n",
       "<table border=\"1\" class=\"dataframe\">\n",
       "  <thead>\n",
       "    <tr style=\"text-align: right;\">\n",
       "      <th></th>\n",
       "      <th>count</th>\n",
       "      <th>Peso categoría</th>\n",
       "    </tr>\n",
       "    <tr>\n",
       "      <th>ESPÉCIE RECEITA</th>\n",
       "      <th></th>\n",
       "      <th></th>\n",
       "    </tr>\n",
       "  </thead>\n",
       "  <tbody>\n",
       "    <tr>\n",
       "      <th>Serviços Administrativos e Comerciais Gerais</th>\n",
       "      <td>278157</td>\n",
       "      <td>27.10</td>\n",
       "    </tr>\n",
       "    <tr>\n",
       "      <th>Indenizações, restituições e ressarcimentos</th>\n",
       "      <td>143577</td>\n",
       "      <td>13.99</td>\n",
       "    </tr>\n",
       "    <tr>\n",
       "      <th>Multas administrativas, contratuais e judicia</th>\n",
       "      <td>115276</td>\n",
       "      <td>11.23</td>\n",
       "    </tr>\n",
       "    <tr>\n",
       "      <th>Exploração do patrimônio imobiliário do Estad</th>\n",
       "      <td>88862</td>\n",
       "      <td>8.66</td>\n",
       "    </tr>\n",
       "    <tr>\n",
       "      <th>Taxas</th>\n",
       "      <td>62336</td>\n",
       "      <td>6.07</td>\n",
       "    </tr>\n",
       "    <tr>\n",
       "      <th>...</th>\n",
       "      <td>...</td>\n",
       "      <td>...</td>\n",
       "    </tr>\n",
       "    <tr>\n",
       "      <th>Remuneração das Disponibilidades do Tesouro N</th>\n",
       "      <td>3</td>\n",
       "      <td>0.00</td>\n",
       "    </tr>\n",
       "    <tr>\n",
       "      <th>Receitas decorrentes de compensações ao Regim</th>\n",
       "      <td>2</td>\n",
       "      <td>0.00</td>\n",
       "    </tr>\n",
       "    <tr>\n",
       "      <th>Demais receitas de capital</th>\n",
       "      <td>2</td>\n",
       "      <td>0.00</td>\n",
       "    </tr>\n",
       "    <tr>\n",
       "      <th>Receita da dívida ativa</th>\n",
       "      <td>1</td>\n",
       "      <td>0.00</td>\n",
       "    </tr>\n",
       "    <tr>\n",
       "      <th>Integralização do capital social</th>\n",
       "      <td>1</td>\n",
       "      <td>0.00</td>\n",
       "    </tr>\n",
       "  </tbody>\n",
       "</table>\n",
       "<p>63 rows × 2 columns</p>\n",
       "</div>"
      ],
      "text/plain": [
       "                                                count  Peso categoría\n",
       "ESPÉCIE RECEITA                                                      \n",
       "Serviços Administrativos e Comerciais Gerais   278157           27.10\n",
       "Indenizações, restituições e ressarcimentos    143577           13.99\n",
       "Multas administrativas, contratuais e judicia  115276           11.23\n",
       "Exploração do patrimônio imobiliário do Estad   88862            8.66\n",
       "Taxas                                           62336            6.07\n",
       "...                                               ...             ...\n",
       "Remuneração das Disponibilidades do Tesouro N       3            0.00\n",
       "Receitas decorrentes de compensações ao Regim       2            0.00\n",
       "Demais receitas de capital                          2            0.00\n",
       "Receita da dívida ativa                             1            0.00\n",
       "Integralização do capital social                    1            0.00\n",
       "\n",
       "[63 rows x 2 columns]"
      ]
     },
     "execution_count": 35,
     "metadata": {},
     "output_type": "execute_result"
    }
   ],
   "source": [
    "# Valores de la columna de `Especie de ingreso`.\n",
    "\n",
    "print(\"Los ingresos de Brasil provienen de las siguientes categorías: \\n \")\n",
    "detalle_especie_ingreso = pd.DataFrame(datos_brasil[\"ESPÉCIE RECEITA\"].value_counts())\n",
    "detalle_especie_ingreso[\"Peso categoría\"] = round(((detalle_especie_ingreso[\"count\"]/datos_brasil.shape[0])*100), 2)\n",
    "detalle_especie_ingreso"
   ]
  },
  {
   "cell_type": "markdown",
   "metadata": {},
   "source": [
    "### *Detalle de tipo de ingreso*\n",
    "\n",
    "En Brasil, entre 2013 y 2021 los ingresos han sido de un total de 18.886 tipos detallados diferentes. La categoría que más ingresos ha recaudado es la de SERV.ADMINISTRAT.E COMERCIAIS GERAIS-PRINC., con un total de 11.191.514.628,86 $.\n"
   ]
  },
  {
   "cell_type": "code",
   "execution_count": 36,
   "metadata": {},
   "outputs": [
    {
     "data": {
      "text/plain": [
       "np.float64(11191514628.86)"
      ]
     },
     "execution_count": 36,
     "metadata": {},
     "output_type": "execute_result"
    }
   ],
   "source": [
    "tipo_ingresos_detallado = datos_brasil[datos_brasil[\"DETALHAMENTO\"] == \"SERV.ADMINISTRAT.E COMERCIAIS GERAIS-PRINC.\"][\"VALOR REALIZADO\"].sum().round(2)\n",
    "tipo_ingresos_detallado"
   ]
  },
  {
   "cell_type": "code",
   "execution_count": 37,
   "metadata": {},
   "outputs": [
    {
     "name": "stdout",
     "output_type": "stream",
     "text": [
      "Los ingresos de Brasil provienen de las siguientes categorías en 2013: \n",
      "\n"
     ]
    },
    {
     "data": {
      "text/html": [
       "<div>\n",
       "<style scoped>\n",
       "    .dataframe tbody tr th:only-of-type {\n",
       "        vertical-align: middle;\n",
       "    }\n",
       "\n",
       "    .dataframe tbody tr th {\n",
       "        vertical-align: top;\n",
       "    }\n",
       "\n",
       "    .dataframe thead th {\n",
       "        text-align: right;\n",
       "    }\n",
       "</style>\n",
       "<table border=\"1\" class=\"dataframe\">\n",
       "  <thead>\n",
       "    <tr style=\"text-align: right;\">\n",
       "      <th></th>\n",
       "      <th>count</th>\n",
       "      <th>Peso categoría</th>\n",
       "    </tr>\n",
       "    <tr>\n",
       "      <th>DETALHAMENTO</th>\n",
       "      <th></th>\n",
       "      <th></th>\n",
       "    </tr>\n",
       "  </thead>\n",
       "  <tbody>\n",
       "    <tr>\n",
       "      <th>SERV.ADMINISTRAT.E COMERCIAIS GERAIS-PRINC.</th>\n",
       "      <td>159039</td>\n",
       "      <td>15.50</td>\n",
       "    </tr>\n",
       "    <tr>\n",
       "      <th>INSCR.EM CONCURSOS E PROC.SELETIVOS-PRINCIPAL</th>\n",
       "      <td>74638</td>\n",
       "      <td>7.27</td>\n",
       "    </tr>\n",
       "    <tr>\n",
       "      <th>ALUGUEIS E ARRENDAMENTOS-PRINCIPAL</th>\n",
       "      <td>71040</td>\n",
       "      <td>6.92</td>\n",
       "    </tr>\n",
       "    <tr>\n",
       "      <th>MULTAS PREVISTAS EM LEGISL.ESPECIFICA-PRINC.</th>\n",
       "      <td>44580</td>\n",
       "      <td>4.34</td>\n",
       "    </tr>\n",
       "    <tr>\n",
       "      <th>RESTIT.DE DESPESAS DE EXERC.ANTERIORES-PRINC.</th>\n",
       "      <td>31513</td>\n",
       "      <td>3.07</td>\n",
       "    </tr>\n",
       "    <tr>\n",
       "      <th>...</th>\n",
       "      <td>...</td>\n",
       "      <td>...</td>\n",
       "    </tr>\n",
       "    <tr>\n",
       "      <th>SERV.REG.AN.CONTR.PROD.SUJ.A NORM.VIGIL.SANIT</th>\n",
       "      <td>1</td>\n",
       "      <td>0.00</td>\n",
       "    </tr>\n",
       "    <tr>\n",
       "      <th>Valores Mobiliários</th>\n",
       "      <td>1</td>\n",
       "      <td>0.00</td>\n",
       "    </tr>\n",
       "    <tr>\n",
       "      <th>ITR-MUNICIPIOS CONVENIADOS-DIVIDA ATIVA</th>\n",
       "      <td>1</td>\n",
       "      <td>0.00</td>\n",
       "    </tr>\n",
       "    <tr>\n",
       "      <th>OUTORGA DIR.USO DE RECURSOS HIDRICOS-DIV.AT.</th>\n",
       "      <td>1</td>\n",
       "      <td>0.00</td>\n",
       "    </tr>\n",
       "    <tr>\n",
       "      <th>RESTIT.REC.PRIMARIOS TRANSFERIDOS-PRINC.</th>\n",
       "      <td>1</td>\n",
       "      <td>0.00</td>\n",
       "    </tr>\n",
       "  </tbody>\n",
       "</table>\n",
       "<p>1886 rows × 2 columns</p>\n",
       "</div>"
      ],
      "text/plain": [
       "                                                count  Peso categoría\n",
       "DETALHAMENTO                                                         \n",
       "SERV.ADMINISTRAT.E COMERCIAIS GERAIS-PRINC.    159039           15.50\n",
       "INSCR.EM CONCURSOS E PROC.SELETIVOS-PRINCIPAL   74638            7.27\n",
       "ALUGUEIS E ARRENDAMENTOS-PRINCIPAL              71040            6.92\n",
       "MULTAS PREVISTAS EM LEGISL.ESPECIFICA-PRINC.    44580            4.34\n",
       "RESTIT.DE DESPESAS DE EXERC.ANTERIORES-PRINC.   31513            3.07\n",
       "...                                               ...             ...\n",
       "SERV.REG.AN.CONTR.PROD.SUJ.A NORM.VIGIL.SANIT       1            0.00\n",
       "Valores Mobiliários                                 1            0.00\n",
       "ITR-MUNICIPIOS CONVENIADOS-DIVIDA ATIVA             1            0.00\n",
       "OUTORGA DIR.USO DE RECURSOS HIDRICOS-DIV.AT.        1            0.00\n",
       "RESTIT.REC.PRIMARIOS TRANSFERIDOS-PRINC.            1            0.00\n",
       "\n",
       "[1886 rows x 2 columns]"
      ]
     },
     "execution_count": 37,
     "metadata": {},
     "output_type": "execute_result"
    }
   ],
   "source": [
    "# Valores de la columna de `Detalle adicional del tipo de ingreso`.\n",
    "print(\"Los ingresos de Brasil provienen de las siguientes categorías en 2013: \\n\")\n",
    "detalle_adicional_ingreso = pd.DataFrame(datos_brasil[\"DETALHAMENTO\"].value_counts())\n",
    "detalle_adicional_ingreso[\"Peso categoría\"] = round(((detalle_adicional_ingreso[\"count\"]/datos_brasil.shape[0])*100), 2)\n",
    "detalle_adicional_ingreso"
   ]
  },
  {
   "cell_type": "markdown",
   "metadata": {},
   "source": [
    "### *Ejercicios analizados*"
   ]
  },
  {
   "cell_type": "code",
   "execution_count": 38,
   "metadata": {},
   "outputs": [
    {
     "name": "stdout",
     "output_type": "stream",
     "text": [
      "Los ingresos de Brasil han sido registrados en las siguientes fechas: \n",
      " \n",
      " [2013 2014 2015 2016 2017 2018 2019 2020 2021]\n"
     ]
    }
   ],
   "source": [
    "# Valores de la columna de `Año ejercicio`.\n",
    "\n",
    "print(f\"Los ingresos de Brasil han sido registrados en las siguientes fechas: \\n \\n { datos_brasil[\"ANO EXERCÍCIO\"].unique()}\")"
   ]
  }
 ],
 "metadata": {
  "kernelspec": {
   "display_name": "Python 3",
   "language": "python",
   "name": "python3"
  },
  "language_info": {
   "codemirror_mode": {
    "name": "ipython",
    "version": 3
   },
   "file_extension": ".py",
   "mimetype": "text/x-python",
   "name": "python",
   "nbconvert_exporter": "python",
   "pygments_lexer": "ipython3",
   "version": "3.12.4"
  }
 },
 "nbformat": 4,
 "nbformat_minor": 2
}
